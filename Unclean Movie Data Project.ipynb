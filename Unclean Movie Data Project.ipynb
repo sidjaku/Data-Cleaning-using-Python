{
 "cells": [
  {
   "cell_type": "markdown",
   "id": "97364f5b",
   "metadata": {},
   "source": [
    "# Movies and TV Shows Dataset Analysis\n",
    "\n",
    "## Overview\n",
    "This project aims to analyze a dataset containing information about various movies and TV shows. The dataset includes several columns such as 'Movies', 'Year', 'Genre', 'Rating', 'One-Line', 'Stars', 'Votes', 'RunTime', and 'Gross'. The data is cleaned and processed to derive insights and patterns from the entertainment industry.\n",
    "\n",
    "## Dataset Description\n",
    "- **Movies**: Name of the Movie/TV Show.\n",
    "- **Year**: Year of the release.\n",
    "- **Genre**: Genre of the Movie/Show.\n",
    "- **Rating**: Movie/Show Rating.\n",
    "- **One-Line**: Concise description or summary of the Movie/Show.\n",
    "- **Stars**: Contains information about the cast members and, in some cases, details about directors.\n",
    "- **Votes**: Total number of votes received for the Movie/Show.\n",
    "- **RunTime**: Duration or runtime of the Movie/Show.\n",
    "- **Gross**: Total Amount earned Worldwide.\n",
    "\n",
    "## Data Cleaning and Preprocessing\n",
    "- **Handling Missing Values**: Addressed missing values in columns where applicable.\n",
    "- **Parsing Year and Runtime**: Extracted and converted year and runtime information into appropriate formats for analysis.\n",
    "- **Cleaning 'Stars' Column**: Extracted cast member names and handled cases with additional director information.\n",
    "\n",
    "## Analysis and Insights\n",
    "Performed exploratory data analysis (EDA) to:\n",
    "- Analyze distribution of movies/shows over different years and genres.\n",
    "- Investigate correlations between ratings, votes, and gross earnings.\n",
    "- Examine the impact of runtime on ratings and earnings.\n",
    "- Identify top-rated movies/shows and highest-grossing entries.\n",
    "\n",
    "## Conclusion\n",
    "Concluded insights derived from the analysis, highlighting key trends and factors that influence the success and reception of movies and TV shows based on the dataset.\n",
    "\n",
    "## Future Work\n",
    "Potential future work might include:\n",
    "- Sentiment analysis on one-liner descriptions.\n",
    "- Machine learning models for predicting ratings or earnings based on available features.\n",
    "- Incorporating additional datasets for a more comprehensive analysis.\n",
    "\n",
    "## Tools Used\n",
    "- Python (Pandas, Matplotlib, Seaborn) for data manipulation, visualization, and analysis.\n",
    "\n",
    "*Note: This project is aimed at demonstrating data cleaning & analysis skills and drawing insights from the provided dataset of movies and TV shows.*\n"
   ]
  },
  {
   "cell_type": "code",
   "execution_count": 1,
   "id": "30c222b5",
   "metadata": {},
   "outputs": [],
   "source": [
    "import numpy as np\n",
    "import pandas as pd\n",
    "\n",
    "df = pd.read_csv(\"C:/Users/sidja/Documents/Intellipaat/Python/Stats & ML/Kaggle Datasets/movies.csv/movies.csv\")"
   ]
  },
  {
   "cell_type": "code",
   "execution_count": 2,
   "id": "ffaf1724",
   "metadata": {
    "scrolled": true
   },
   "outputs": [
    {
     "data": {
      "text/html": [
       "<div>\n",
       "<style scoped>\n",
       "    .dataframe tbody tr th:only-of-type {\n",
       "        vertical-align: middle;\n",
       "    }\n",
       "\n",
       "    .dataframe tbody tr th {\n",
       "        vertical-align: top;\n",
       "    }\n",
       "\n",
       "    .dataframe thead th {\n",
       "        text-align: right;\n",
       "    }\n",
       "</style>\n",
       "<table border=\"1\" class=\"dataframe\">\n",
       "  <thead>\n",
       "    <tr style=\"text-align: right;\">\n",
       "      <th></th>\n",
       "      <th>MOVIES</th>\n",
       "      <th>YEAR</th>\n",
       "      <th>GENRE</th>\n",
       "      <th>RATING</th>\n",
       "      <th>ONE-LINE</th>\n",
       "      <th>STARS</th>\n",
       "      <th>VOTES</th>\n",
       "      <th>RunTime</th>\n",
       "      <th>Gross</th>\n",
       "    </tr>\n",
       "  </thead>\n",
       "  <tbody>\n",
       "    <tr>\n",
       "      <th>0</th>\n",
       "      <td>Blood Red Sky</td>\n",
       "      <td>-2021</td>\n",
       "      <td>\\nAction, Horror, Thriller</td>\n",
       "      <td>6.1</td>\n",
       "      <td>\\nA woman with a mysterious illness is forced ...</td>\n",
       "      <td>\\n    Director:\\nPeter Thorwarth\\n| \\n    Star...</td>\n",
       "      <td>21,062</td>\n",
       "      <td>121.0</td>\n",
       "      <td>NaN</td>\n",
       "    </tr>\n",
       "    <tr>\n",
       "      <th>1</th>\n",
       "      <td>Masters of the Universe: Revelation</td>\n",
       "      <td>(2021– )</td>\n",
       "      <td>\\nAnimation, Action, Adventure</td>\n",
       "      <td>5.0</td>\n",
       "      <td>\\nThe war for Eternia begins again in what may...</td>\n",
       "      <td>\\n            \\n    Stars:\\nChris Wood, \\nSara...</td>\n",
       "      <td>17,870</td>\n",
       "      <td>25.0</td>\n",
       "      <td>NaN</td>\n",
       "    </tr>\n",
       "    <tr>\n",
       "      <th>2</th>\n",
       "      <td>The Walking Dead</td>\n",
       "      <td>(2010–2022)</td>\n",
       "      <td>\\nDrama, Horror, Thriller</td>\n",
       "      <td>8.2</td>\n",
       "      <td>\\nSheriff Deputy Rick Grimes wakes up from a c...</td>\n",
       "      <td>\\n            \\n    Stars:\\nAndrew Lincoln, \\n...</td>\n",
       "      <td>8,85,805</td>\n",
       "      <td>44.0</td>\n",
       "      <td>NaN</td>\n",
       "    </tr>\n",
       "    <tr>\n",
       "      <th>3</th>\n",
       "      <td>Rick and Morty</td>\n",
       "      <td>(2013– )</td>\n",
       "      <td>\\nAnimation, Adventure, Comedy</td>\n",
       "      <td>9.2</td>\n",
       "      <td>\\nAn animated series that follows the exploits...</td>\n",
       "      <td>\\n            \\n    Stars:\\nJustin Roiland, \\n...</td>\n",
       "      <td>4,14,849</td>\n",
       "      <td>23.0</td>\n",
       "      <td>NaN</td>\n",
       "    </tr>\n",
       "    <tr>\n",
       "      <th>4</th>\n",
       "      <td>Army of Thieves</td>\n",
       "      <td>-2021</td>\n",
       "      <td>\\nAction, Crime, Horror</td>\n",
       "      <td>NaN</td>\n",
       "      <td>\\nA prequel, set before the events of Army of ...</td>\n",
       "      <td>\\n    Director:\\nMatthias Schweighöfer\\n| \\n  ...</td>\n",
       "      <td>NaN</td>\n",
       "      <td>NaN</td>\n",
       "      <td>NaN</td>\n",
       "    </tr>\n",
       "  </tbody>\n",
       "</table>\n",
       "</div>"
      ],
      "text/plain": [
       "                                MOVIES         YEAR  \\\n",
       "0                        Blood Red Sky        -2021   \n",
       "1  Masters of the Universe: Revelation     (2021– )   \n",
       "2                     The Walking Dead  (2010–2022)   \n",
       "3                       Rick and Morty     (2013– )   \n",
       "4                      Army of Thieves        -2021   \n",
       "\n",
       "                                        GENRE  RATING  \\\n",
       "0      \\nAction, Horror, Thriller                 6.1   \n",
       "1  \\nAnimation, Action, Adventure                 5.0   \n",
       "2       \\nDrama, Horror, Thriller                 8.2   \n",
       "3  \\nAnimation, Adventure, Comedy                 9.2   \n",
       "4         \\nAction, Crime, Horror                 NaN   \n",
       "\n",
       "                                            ONE-LINE  \\\n",
       "0  \\nA woman with a mysterious illness is forced ...   \n",
       "1  \\nThe war for Eternia begins again in what may...   \n",
       "2  \\nSheriff Deputy Rick Grimes wakes up from a c...   \n",
       "3  \\nAn animated series that follows the exploits...   \n",
       "4  \\nA prequel, set before the events of Army of ...   \n",
       "\n",
       "                                               STARS     VOTES  RunTime Gross  \n",
       "0  \\n    Director:\\nPeter Thorwarth\\n| \\n    Star...    21,062    121.0   NaN  \n",
       "1  \\n            \\n    Stars:\\nChris Wood, \\nSara...    17,870     25.0   NaN  \n",
       "2  \\n            \\n    Stars:\\nAndrew Lincoln, \\n...  8,85,805     44.0   NaN  \n",
       "3  \\n            \\n    Stars:\\nJustin Roiland, \\n...  4,14,849     23.0   NaN  \n",
       "4  \\n    Director:\\nMatthias Schweighöfer\\n| \\n  ...       NaN      NaN   NaN  "
      ]
     },
     "execution_count": 2,
     "metadata": {},
     "output_type": "execute_result"
    }
   ],
   "source": [
    "df.head()"
   ]
  },
  {
   "cell_type": "code",
   "execution_count": 3,
   "id": "3c305492",
   "metadata": {
    "scrolled": true
   },
   "outputs": [
    {
     "name": "stdout",
     "output_type": "stream",
     "text": [
      "<class 'pandas.core.frame.DataFrame'>\n",
      "RangeIndex: 9999 entries, 0 to 9998\n",
      "Data columns (total 9 columns):\n",
      " #   Column    Non-Null Count  Dtype  \n",
      "---  ------    --------------  -----  \n",
      " 0   MOVIES    9999 non-null   object \n",
      " 1   YEAR      9355 non-null   object \n",
      " 2   GENRE     9919 non-null   object \n",
      " 3   RATING    8179 non-null   float64\n",
      " 4   ONE-LINE  9999 non-null   object \n",
      " 5   STARS     9999 non-null   object \n",
      " 6   VOTES     8179 non-null   object \n",
      " 7   RunTime   7041 non-null   float64\n",
      " 8   Gross     460 non-null    object \n",
      "dtypes: float64(2), object(7)\n",
      "memory usage: 703.2+ KB\n"
     ]
    }
   ],
   "source": [
    "df.info()"
   ]
  },
  {
   "cell_type": "code",
   "execution_count": 4,
   "id": "73a1ca3d",
   "metadata": {},
   "outputs": [],
   "source": [
    "df['YEAR'] = df['YEAR'].astype('str')"
   ]
  },
  {
   "cell_type": "code",
   "execution_count": 5,
   "id": "70a03048",
   "metadata": {},
   "outputs": [],
   "source": [
    "df['Length'] = df['YEAR'].apply(len)"
   ]
  },
  {
   "cell_type": "markdown",
   "id": "722ef585",
   "metadata": {},
   "source": [
    "## Now we have the length, we need to analyze by its length and remove unnecessary rows"
   ]
  },
  {
   "cell_type": "code",
   "execution_count": 6,
   "id": "d518d55e",
   "metadata": {},
   "outputs": [
    {
     "name": "stdout",
     "output_type": "stream",
     "text": [
      "          YEAR  Length\n",
      "0        -2021       5\n",
      "1     (2021– )       8\n",
      "2  (2010–2022)      11\n",
      "3     (2013– )       8\n",
      "4        -2021       5\n"
     ]
    },
    {
     "data": {
      "text/plain": [
       "(9999, 2)"
      ]
     },
     "execution_count": 6,
     "metadata": {},
     "output_type": "execute_result"
    }
   ],
   "source": [
    "new = df[['YEAR','Length']]\n",
    "print(new.head())\n",
    "new.shape"
   ]
  },
  {
   "cell_type": "code",
   "execution_count": 7,
   "id": "c2efd889",
   "metadata": {
    "scrolled": false
   },
   "outputs": [],
   "source": [
    "length = list(new['Length'].value_counts().index)"
   ]
  },
  {
   "cell_type": "markdown",
   "id": "d52f73f1",
   "metadata": {},
   "source": [
    "# Analysing it via length"
   ]
  },
  {
   "cell_type": "code",
   "execution_count": 8,
   "id": "00c45ff0",
   "metadata": {},
   "outputs": [
    {
     "name": "stdout",
     "output_type": "stream",
     "text": [
      "     YEAR  Length\n",
      "0   -2021       5\n",
      "4   -2021       5\n",
      "6   -2021       5\n",
      "10  -2021       5\n",
      "12  -2021       5\n",
      "20  -2021       5\n",
      "25  -2021       5\n",
      "30  -2021       5\n",
      "49  -2021       5\n",
      "56  -2020       5\n",
      "        YEAR  Length\n",
      "1   (2021– )       8\n",
      "3   (2013– )       8\n",
      "5   (2020– )       8\n",
      "8   (2020– )       8\n",
      "9   (2019– )       8\n",
      "13  (2021– )       8\n",
      "14  (2011– )       8\n",
      "15  (2005– )       8\n",
      "17  (2017– )       8\n",
      "19  (2016– )       8\n",
      "           YEAR  Length\n",
      "2   (2010–2022)      11\n",
      "7   (2006–2013)      11\n",
      "11  (2016–2021)      11\n",
      "16  (2008–2013)      11\n",
      "18  (2017–2021)      11\n",
      "21  (1994–2004)      11\n",
      "26  (2013–2020)      11\n",
      "28  (2005–2020)      11\n",
      "32  (2013–2022)      11\n",
      "35  (2009–2020)      11\n",
      "     YEAR  Length\n",
      "878   nan       3\n",
      "1155  (I)       3\n",
      "1375  nan       3\n",
      "1414  nan       3\n",
      "1419  nan       3\n",
      "1425  nan       3\n",
      "1428  nan       3\n",
      "1464  nan       3\n",
      "1485  nan       3\n",
      "1492  nan       3\n",
      "                   YEAR  Length\n",
      "155   (2021 TV Special)      17\n",
      "1466  (2016 TV Special)      17\n",
      "1560  (2020 TV Special)      17\n",
      "1597  (2013 TV Special)      17\n",
      "2449  (2017 TV Special)      17\n",
      "2512  (2020 TV Special)      17\n",
      "2543  (2020 TV Special)      17\n",
      "2768  (2019 TV Special)      17\n",
      "2802  (2015 TV Special)      17\n",
      "2837  (2019 TV Special)      17\n",
      "           YEAR  Length\n",
      "125  (I) (2019)      10\n",
      "161  (I) (2017)      10\n",
      "199  (I) (2020)      10\n",
      "210  (I) (2019)      10\n",
      "231  (I) (2020)      10\n",
      "257  (I) (2019)      10\n",
      "316  (I) (2020)      10\n",
      "329  (I) (2017)      10\n",
      "341  (I) (2017)      10\n",
      "345  (I) (2019)      10\n",
      "                 YEAR  Length\n",
      "190   (I) (2013–2016)      15\n",
      "635   (I) (2013–2014)      15\n",
      "842   (2013 TV Movie)      15\n",
      "853   (I) (2012–2015)      15\n",
      "1075  (2017 TV Movie)      15\n",
      "1354  (2014 TV Movie)      15\n",
      "1472  (2020 TV Movie)      15\n",
      "1633  (2016 TV Movie)      15\n",
      "1748  (2021 TV Movie)      15\n",
      "1767  (2013 TV Movie)      15\n",
      "              YEAR  Length\n",
      "36    (I) (2018– )      12\n",
      "200   (III) (2021)      12\n",
      "759   (III) (2018)      12\n",
      "1063  (2016 Video)      12\n",
      "1105  (III) (2015)      12\n",
      "1205  (III) (2021)      12\n",
      "1259  (III) (2019)      12\n",
      "1340  (2016 Video)      12\n",
      "1531  (2020 Video)      12\n",
      "1611  (I) (2021– )      12\n",
      "      YEAR  Length\n",
      "1527  (II)       4\n",
      "1684  (II)       4\n",
      "1982  (II)       4\n",
      "2295  (IV)       4\n",
      "2804  (II)       4\n",
      "2859  (II)       4\n",
      "2948  (II)       4\n",
      "2980  (II)       4\n",
      "3017  (II)       4\n",
      "3062  (II)       4\n",
      "               YEAR  Length\n",
      "84    (II) (2007– )      13\n",
      "434   (II) (2017– )      13\n",
      "552   (II) (2019– )      13\n",
      "606   (II) (2020– )      13\n",
      "778   (II) (2012– )      13\n",
      "3023  (II) (2021– )      13\n",
      "3174  (II) (2017– )      13\n",
      "5826  (II) (2016– )      13\n",
      "6230  (II) (2020– )      13\n",
      "6324  (II) (2021– )      13\n",
      "         YEAR  Length\n",
      "4640  (XXIII)       7\n",
      "6233  (Video)       7\n",
      "6455  (Video)       7\n",
      "        YEAR  Length\n",
      "3872  (VIII)       6\n",
      "5868  (XIII)       6\n",
      "                  YEAR  Length\n",
      "5892  (II) (2012–2019)      16\n",
      "                      YEAR  Length\n",
      "6396  (II) (2016 TV Movie)      20\n"
     ]
    }
   ],
   "source": [
    "for i in length:\n",
    "    print(new[new['Length'] == i].head(10))"
   ]
  },
  {
   "cell_type": "code",
   "execution_count": 9,
   "id": "ded09994",
   "metadata": {},
   "outputs": [
    {
     "name": "stdout",
     "output_type": "stream",
     "text": [
      "       YEAR  Length\n",
      "9825  -2021       5\n",
      "9826  -2021       5\n",
      "9827  -2021       5\n",
      "9845  -2021       5\n",
      "9964  -2021       5\n",
      "9965  -2021       5\n",
      "9966  -2021       5\n",
      "9967  -2021       5\n",
      "9968  -2021       5\n",
      "9969  -2021       5\n",
      "          YEAR  Length\n",
      "9989  (2022– )       8\n",
      "9990  (2022– )       8\n",
      "9991  (2022– )       8\n",
      "9992  (2022– )       8\n",
      "9993  (2022– )       8\n",
      "9994  (2021– )       8\n",
      "9995  (2021– )       8\n",
      "9996  (2022– )       8\n",
      "9997  (2021– )       8\n",
      "9998  (2021– )       8\n",
      "             YEAR  Length\n",
      "9939  (2017–2021)      11\n",
      "9940  (2017–2021)      11\n",
      "9941  (2017–2021)      11\n",
      "9942  (2017–2021)      11\n",
      "9943  (2017–2021)      11\n",
      "9944  (2017–2021)      11\n",
      "9945  (2017–2021)      11\n",
      "9946  (2017–2021)      11\n",
      "9947  (2017–2021)      11\n",
      "9963  (2017–2021)      11\n",
      "     YEAR  Length\n",
      "9904  nan       3\n",
      "9905  nan       3\n",
      "9906  nan       3\n",
      "9907  nan       3\n",
      "9908  nan       3\n",
      "9909  nan       3\n",
      "9910  nan       3\n",
      "9911  nan       3\n",
      "9912  nan       3\n",
      "9913  nan       3\n",
      "                   YEAR  Length\n",
      "6389  (2010 TV Special)      17\n",
      "6415  (2018 TV Special)      17\n",
      "6422  (2018 TV Special)      17\n",
      "6427  (2011 TV Special)      17\n",
      "6429  (2005 TV Special)      17\n",
      "6436  (2018 TV Special)      17\n",
      "6447  (2015 TV Special)      17\n",
      "6458  (2017 TV Special)      17\n",
      "6468  (2016 TV Special)      17\n",
      "6473  (2018 Video Game)      17\n",
      "            YEAR  Length\n",
      "5913  (TV Movie)      10\n",
      "5914  (I) (2008)      10\n",
      "5932  (I) (2014)      10\n",
      "5961  (TV Movie)      10\n",
      "6011  (I) (2014)      10\n",
      "6100  (TV Movie)      10\n",
      "6124  (I) (2015)      10\n",
      "6184  (I) (2020)      10\n",
      "6349  (TV Movie)      10\n",
      "6368  (TV Movie)      10\n",
      "                 YEAR  Length\n",
      "6309  (2006 TV Movie)      15\n",
      "6314  (2007 TV Movie)      15\n",
      "6317  (2017 TV Short)      15\n",
      "6350  (2015 TV Movie)      15\n",
      "6359  (2017 TV Movie)      15\n",
      "6361  (2006 TV Movie)      15\n",
      "6409  (2011 TV Movie)      15\n",
      "6416  (2009 TV Movie)      15\n",
      "6423  (2017 TV Movie)      15\n",
      "6461  (2020 TV Movie)      15\n",
      "              YEAR  Length\n",
      "6420  (2018 Video)      12\n",
      "6424  (2020 Video)      12\n",
      "6425  (2018 Video)      12\n",
      "6426  (2005 Video)      12\n",
      "6430  (2012 Video)      12\n",
      "6432  (2010 Video)      12\n",
      "6434  (2020 Video)      12\n",
      "6435  (2021 Video)      12\n",
      "6443  (2016 Video)      12\n",
      "6462  (2021 Video)      12\n",
      "      YEAR  Length\n",
      "5958  (IV)       4\n",
      "6021  (XI)       4\n",
      "6154  (II)       4\n",
      "6433  (II)       4\n",
      "6852  (II)       4\n",
      "6853  (II)       4\n",
      "6854  (II)       4\n",
      "6855  (II)       4\n",
      "6856  (II)       4\n",
      "6857  (II)       4\n",
      "               YEAR  Length\n",
      "84    (II) (2007– )      13\n",
      "434   (II) (2017– )      13\n",
      "552   (II) (2019– )      13\n",
      "606   (II) (2020– )      13\n",
      "778   (II) (2012– )      13\n",
      "3023  (II) (2021– )      13\n",
      "3174  (II) (2017– )      13\n",
      "5826  (II) (2016– )      13\n",
      "6230  (II) (2020– )      13\n",
      "6324  (II) (2021– )      13\n",
      "         YEAR  Length\n",
      "4640  (XXIII)       7\n",
      "6233  (Video)       7\n",
      "6455  (Video)       7\n",
      "        YEAR  Length\n",
      "3872  (VIII)       6\n",
      "5868  (XIII)       6\n",
      "                  YEAR  Length\n",
      "5892  (II) (2012–2019)      16\n",
      "                      YEAR  Length\n",
      "6396  (II) (2016 TV Movie)      20\n"
     ]
    }
   ],
   "source": [
    "for i in length:\n",
    "    print(new[new['Length'] == i].tail(10))"
   ]
  },
  {
   "cell_type": "markdown",
   "id": "27908b22",
   "metadata": {},
   "source": [
    "###  Finding the individual letters and stripping rest of the characters"
   ]
  },
  {
   "cell_type": "code",
   "execution_count": 10,
   "id": "fd7b3c45",
   "metadata": {},
   "outputs": [],
   "source": [
    "length_5 = list(new[new['Length'] == 5].YEAR)"
   ]
  },
  {
   "cell_type": "code",
   "execution_count": 11,
   "id": "fc0ec4d9",
   "metadata": {},
   "outputs": [],
   "source": [
    "character_5 = []\n",
    "\n",
    "for n in length_5:\n",
    "    for char in n:\n",
    "        if char not in character_5:\n",
    "            character_5.append(char)"
   ]
  },
  {
   "cell_type": "code",
   "execution_count": 12,
   "id": "faf21d56",
   "metadata": {},
   "outputs": [
    {
     "data": {
      "text/plain": [
       "['-',\n",
       " '2',\n",
       " '0',\n",
       " '1',\n",
       " '7',\n",
       " '9',\n",
       " '3',\n",
       " '6',\n",
       " '5',\n",
       " '4',\n",
       " '8',\n",
       " '(',\n",
       " 'I',\n",
       " ')',\n",
       " 'X',\n",
       " 'V',\n",
       " 'L']"
      ]
     },
     "execution_count": 12,
     "metadata": {},
     "output_type": "execute_result"
    }
   ],
   "source": [
    "character_5"
   ]
  },
  {
   "cell_type": "code",
   "execution_count": 13,
   "id": "fe51ad61",
   "metadata": {
    "scrolled": true
   },
   "outputs": [
    {
     "name": "stderr",
     "output_type": "stream",
     "text": [
      "C:\\Users\\sidja\\AppData\\Local\\Temp\\ipykernel_7584\\3668302414.py:1: SettingWithCopyWarning: \n",
      "A value is trying to be set on a copy of a slice from a DataFrame\n",
      "\n",
      "See the caveats in the documentation: https://pandas.pydata.org/pandas-docs/stable/user_guide/indexing.html#returning-a-view-versus-a-copy\n",
      "  new.YEAR[new['Length'] == 5] = new.YEAR[new['Length'] == 5].str.strip('(I)XVL')\n"
     ]
    }
   ],
   "source": [
    "new.YEAR[new['Length'] == 5] = new.YEAR[new['Length'] == 5].str.strip('(I)XVL')"
   ]
  },
  {
   "cell_type": "code",
   "execution_count": 14,
   "id": "d298fb0e",
   "metadata": {},
   "outputs": [
    {
     "data": {
      "text/plain": [
       "['-', '2', '0', '1', '7', '9', '3', '6', '5', '4', '8']"
      ]
     },
     "execution_count": 14,
     "metadata": {},
     "output_type": "execute_result"
    }
   ],
   "source": [
    "length_5 = list(new[new['Length'] == 5].YEAR)\n",
    "\n",
    "character_5 = []\n",
    "\n",
    "for n in length_5:\n",
    "    for char in n:\n",
    "        if char not in character_5:\n",
    "            character_5.append(char)\n",
    "            \n",
    "character_5"
   ]
  },
  {
   "cell_type": "code",
   "execution_count": 15,
   "id": "b4c01f06",
   "metadata": {},
   "outputs": [
    {
     "name": "stderr",
     "output_type": "stream",
     "text": [
      "C:\\Users\\sidja\\AppData\\Local\\Temp\\ipykernel_7584\\2789994934.py:1: SettingWithCopyWarning: \n",
      "A value is trying to be set on a copy of a slice from a DataFrame\n",
      "\n",
      "See the caveats in the documentation: https://pandas.pydata.org/pandas-docs/stable/user_guide/indexing.html#returning-a-view-versus-a-copy\n",
      "  new.YEAR[new['Length'] == 5] = new.YEAR[new['Length'] == 5].str.strip('-')\n"
     ]
    }
   ],
   "source": [
    "new.YEAR[new['Length'] == 5] = new.YEAR[new['Length'] == 5].str.strip('-')"
   ]
  },
  {
   "cell_type": "markdown",
   "id": "e490a011",
   "metadata": {},
   "source": [
    "### We have to do it for all the values"
   ]
  },
  {
   "cell_type": "code",
   "execution_count": 16,
   "id": "4b92acb6",
   "metadata": {},
   "outputs": [
    {
     "data": {
      "text/plain": [
       "['(', '2', '0', '1', '–', ' ', ')', '3', '9', '5', '7', '6', '4', '8']"
      ]
     },
     "execution_count": 16,
     "metadata": {},
     "output_type": "execute_result"
    }
   ],
   "source": [
    "length_8 = list(new[new['Length'] == 8].YEAR)\n",
    "\n",
    "character_8 = []\n",
    "\n",
    "for n in length_8:\n",
    "    for char in n:\n",
    "        if char not in character_8:\n",
    "            character_8.append(char)\n",
    "            \n",
    "character_8"
   ]
  },
  {
   "cell_type": "code",
   "execution_count": 17,
   "id": "52ecee25",
   "metadata": {},
   "outputs": [
    {
     "name": "stderr",
     "output_type": "stream",
     "text": [
      "C:\\Users\\sidja\\AppData\\Local\\Temp\\ipykernel_7584\\2939707102.py:1: SettingWithCopyWarning: \n",
      "A value is trying to be set on a copy of a slice from a DataFrame\n",
      "\n",
      "See the caveats in the documentation: https://pandas.pydata.org/pandas-docs/stable/user_guide/indexing.html#returning-a-view-versus-a-copy\n",
      "  new.YEAR[new['Length'] == 8] = new.YEAR[new['Length'] == 8].str.strip('()–')\n"
     ]
    }
   ],
   "source": [
    "new.YEAR[new['Length'] == 8] = new.YEAR[new['Length'] == 8].str.strip('()–')"
   ]
  },
  {
   "cell_type": "code",
   "execution_count": 18,
   "id": "4602ca0a",
   "metadata": {},
   "outputs": [
    {
     "name": "stderr",
     "output_type": "stream",
     "text": [
      "C:\\Users\\sidja\\AppData\\Local\\Temp\\ipykernel_7584\\2422172180.py:1: SettingWithCopyWarning: \n",
      "A value is trying to be set on a copy of a slice from a DataFrame\n",
      "\n",
      "See the caveats in the documentation: https://pandas.pydata.org/pandas-docs/stable/user_guide/indexing.html#returning-a-view-versus-a-copy\n",
      "  new.YEAR[new['Length'] == 8] = new.YEAR[new['Length'] == 8].str.strip(' ')\n"
     ]
    }
   ],
   "source": [
    "new.YEAR[new['Length'] == 8] = new.YEAR[new['Length'] == 8].str.strip(' ')"
   ]
  },
  {
   "cell_type": "code",
   "execution_count": 19,
   "id": "4d331e85",
   "metadata": {},
   "outputs": [
    {
     "name": "stderr",
     "output_type": "stream",
     "text": [
      "C:\\Users\\sidja\\AppData\\Local\\Temp\\ipykernel_7584\\332490799.py:1: SettingWithCopyWarning: \n",
      "A value is trying to be set on a copy of a slice from a DataFrame\n",
      "\n",
      "See the caveats in the documentation: https://pandas.pydata.org/pandas-docs/stable/user_guide/indexing.html#returning-a-view-versus-a-copy\n",
      "  new.YEAR[new['Length'] == 8] = new.YEAR[new['Length'] == 8].str.strip('–')\n"
     ]
    }
   ],
   "source": [
    "new.YEAR[new['Length'] == 8] = new.YEAR[new['Length'] == 8].str.strip('–')"
   ]
  },
  {
   "cell_type": "code",
   "execution_count": 20,
   "id": "1ce052d0",
   "metadata": {},
   "outputs": [
    {
     "data": {
      "text/plain": [
       "['2', '0', '1', '3', '9', '5', '7', '6', '4', '8']"
      ]
     },
     "execution_count": 20,
     "metadata": {},
     "output_type": "execute_result"
    }
   ],
   "source": [
    "length_8 = list(new[new['Length'] == 8].YEAR)\n",
    "\n",
    "character_8 = []\n",
    "\n",
    "for n in length_8:\n",
    "    for char in n:\n",
    "        if char not in character_8:\n",
    "            character_8.append(char)\n",
    "            \n",
    "character_8"
   ]
  },
  {
   "cell_type": "code",
   "execution_count": 21,
   "id": "b9e9f649",
   "metadata": {},
   "outputs": [
    {
     "data": {
      "text/plain": [
       "5     3793\n",
       "8     3159\n",
       "11    1458\n",
       "3      672\n",
       "17     393\n",
       "10     167\n",
       "15     164\n",
       "12     147\n",
       "4       29\n",
       "13      10\n",
       "7        3\n",
       "6        2\n",
       "16       1\n",
       "20       1\n",
       "Name: Length, dtype: int64"
      ]
     },
     "execution_count": 21,
     "metadata": {},
     "output_type": "execute_result"
    }
   ],
   "source": [
    "df['Length'].value_counts()"
   ]
  },
  {
   "cell_type": "code",
   "execution_count": 22,
   "id": "83f20b20",
   "metadata": {},
   "outputs": [
    {
     "data": {
      "text/plain": [
       "<bound method Series.unique of 2       (2010–2022)\n",
       "7       (2006–2013)\n",
       "11      (2016–2021)\n",
       "16      (2008–2013)\n",
       "18      (2017–2021)\n",
       "           ...     \n",
       "9944    (2017–2021)\n",
       "9945    (2017–2021)\n",
       "9946    (2017–2021)\n",
       "9947    (2017–2021)\n",
       "9963    (2017–2021)\n",
       "Name: YEAR, Length: 1458, dtype: object>"
      ]
     },
     "execution_count": 22,
     "metadata": {},
     "output_type": "execute_result"
    }
   ],
   "source": [
    "new[new['Length'] == 11].YEAR.unique\n",
    "\n",
    "# Since it is a movie release year, there is no point of adding an average or a median value. i would rather keep it as nan"
   ]
  },
  {
   "cell_type": "code",
   "execution_count": 23,
   "id": "59cace05",
   "metadata": {},
   "outputs": [
    {
     "name": "stderr",
     "output_type": "stream",
     "text": [
      "C:\\Users\\sidja\\AppData\\Local\\Temp\\ipykernel_7584\\2926460544.py:1: SettingWithCopyWarning: \n",
      "A value is trying to be set on a copy of a slice from a DataFrame\n",
      "\n",
      "See the caveats in the documentation: https://pandas.pydata.org/pandas-docs/stable/user_guide/indexing.html#returning-a-view-versus-a-copy\n",
      "  new.YEAR[new['Length'] == 11] = np.nan\n"
     ]
    }
   ],
   "source": [
    "new.YEAR[new['Length'] == 11] = np.nan"
   ]
  },
  {
   "cell_type": "code",
   "execution_count": 24,
   "id": "cdb1b1ad",
   "metadata": {},
   "outputs": [
    {
     "data": {
      "text/plain": [
       "<bound method Series.unique of 878     nan\n",
       "1155    (I)\n",
       "1375    nan\n",
       "1414    nan\n",
       "1419    nan\n",
       "       ... \n",
       "9909    nan\n",
       "9910    nan\n",
       "9911    nan\n",
       "9912    nan\n",
       "9913    nan\n",
       "Name: YEAR, Length: 672, dtype: object>"
      ]
     },
     "execution_count": 24,
     "metadata": {},
     "output_type": "execute_result"
    }
   ],
   "source": [
    "new[new['Length'] == 3].YEAR.unique"
   ]
  },
  {
   "cell_type": "code",
   "execution_count": 25,
   "id": "a67007c8",
   "metadata": {},
   "outputs": [
    {
     "name": "stderr",
     "output_type": "stream",
     "text": [
      "C:\\Users\\sidja\\AppData\\Local\\Temp\\ipykernel_7584\\1599360703.py:1: SettingWithCopyWarning: \n",
      "A value is trying to be set on a copy of a slice from a DataFrame\n",
      "\n",
      "See the caveats in the documentation: https://pandas.pydata.org/pandas-docs/stable/user_guide/indexing.html#returning-a-view-versus-a-copy\n",
      "  new.YEAR[new['Length'] == 3] = np.nan\n"
     ]
    }
   ],
   "source": [
    "new.YEAR[new['Length'] == 3] = np.nan"
   ]
  },
  {
   "cell_type": "code",
   "execution_count": 26,
   "id": "140fdc4f",
   "metadata": {},
   "outputs": [
    {
     "data": {
      "text/plain": [
       "<bound method Series.unique of 155     (2021 TV Special)\n",
       "1466    (2016 TV Special)\n",
       "1560    (2020 TV Special)\n",
       "1597    (2013 TV Special)\n",
       "2449    (2017 TV Special)\n",
       "              ...        \n",
       "6436    (2018 TV Special)\n",
       "6447    (2015 TV Special)\n",
       "6458    (2017 TV Special)\n",
       "6468    (2016 TV Special)\n",
       "6473    (2018 Video Game)\n",
       "Name: YEAR, Length: 393, dtype: object>"
      ]
     },
     "execution_count": 26,
     "metadata": {},
     "output_type": "execute_result"
    }
   ],
   "source": [
    "new[new['Length'] == 17].YEAR.unique"
   ]
  },
  {
   "cell_type": "code",
   "execution_count": 27,
   "id": "c6c50a5b",
   "metadata": {},
   "outputs": [
    {
     "data": {
      "text/plain": [
       "['(2021 TV Special)',\n",
       " '(2016 TV Special)',\n",
       " '(2020 TV Special)',\n",
       " '(2013 TV Special)',\n",
       " '(2017 TV Special)',\n",
       " '(2019 TV Special)',\n",
       " '(2015 TV Special)',\n",
       " '(2018 TV Special)',\n",
       " '(2014 TV Special)',\n",
       " '(2012 TV Special)',\n",
       " '(2006 TV Special)',\n",
       " '(2011 TV Special)',\n",
       " '(2008 TV Special)',\n",
       " '(2010 TV Special)',\n",
       " '(1993 TV Special)',\n",
       " '(1989 TV Special)',\n",
       " '(1966 TV Special)',\n",
       " '(1987 TV Special)',\n",
       " '(1998 TV Special)',\n",
       " '(2022 TV Special)',\n",
       " '(1991 TV Special)',\n",
       " '(2007 TV Special)',\n",
       " '(1965 TV Special)',\n",
       " '(1990 TV Special)',\n",
       " '(2001 TV Special)',\n",
       " '(2009 TV Special)',\n",
       " '(2003 TV Special)',\n",
       " '(2005 TV Special)',\n",
       " '(2018 Video Game)']"
      ]
     },
     "execution_count": 27,
     "metadata": {},
     "output_type": "execute_result"
    }
   ],
   "source": [
    "length_17 = list(new[new['Length'] == 17].YEAR)\n",
    "\n",
    "character_17 = []\n",
    "\n",
    "for n in length_17:\n",
    "        if n not in character_17:\n",
    "            character_17.append(n)\n",
    "            \n",
    "character_17"
   ]
  },
  {
   "cell_type": "code",
   "execution_count": 28,
   "id": "8588bbca",
   "metadata": {},
   "outputs": [
    {
     "name": "stdout",
     "output_type": "stream",
     "text": [
      "2021 \n",
      "2016 \n",
      "2020 \n",
      "2013 \n",
      "2017 \n",
      "2019 \n",
      "2015 \n",
      "2018 \n",
      "2014 \n",
      "2012 \n",
      "2006 \n",
      "2011 \n",
      "2008 \n",
      "2010 \n",
      "1993 \n",
      "1989 \n",
      "1966 \n",
      "1987 \n",
      "1998 \n",
      "2022 \n",
      "1991 \n",
      "2007 \n",
      "1965 \n",
      "1990 \n",
      "2001 \n",
      "2009 \n",
      "2003 \n",
      "2005 \n",
      "2018 \n"
     ]
    }
   ],
   "source": [
    "for i in character_17:\n",
    "    print(i[1:6])"
   ]
  },
  {
   "cell_type": "code",
   "execution_count": 29,
   "id": "673033b8",
   "metadata": {},
   "outputs": [
    {
     "data": {
      "text/plain": [
       "393"
      ]
     },
     "execution_count": 29,
     "metadata": {},
     "output_type": "execute_result"
    }
   ],
   "source": [
    "length_17_new = []\n",
    "for i in length_17:\n",
    "    length_17_new.append(i[1:6])\n",
    "len(length_17_new)"
   ]
  },
  {
   "cell_type": "code",
   "execution_count": 30,
   "id": "05a12971",
   "metadata": {
    "scrolled": true
   },
   "outputs": [
    {
     "name": "stderr",
     "output_type": "stream",
     "text": [
      "C:\\Users\\sidja\\AppData\\Local\\Temp\\ipykernel_7584\\4215847550.py:1: SettingWithCopyWarning: \n",
      "A value is trying to be set on a copy of a slice from a DataFrame\n",
      "\n",
      "See the caveats in the documentation: https://pandas.pydata.org/pandas-docs/stable/user_guide/indexing.html#returning-a-view-versus-a-copy\n",
      "  new.YEAR[new['Length'] == 17] = length_17_new\n"
     ]
    }
   ],
   "source": [
    "new.YEAR[new['Length'] == 17] = length_17_new"
   ]
  },
  {
   "cell_type": "code",
   "execution_count": 31,
   "id": "34717d59",
   "metadata": {
    "scrolled": true
   },
   "outputs": [
    {
     "data": {
      "text/plain": [
       "YEAR        Length\n",
       "(I) (2019)  10        24\n",
       "(I) (2018)  10        22\n",
       "(I) (2017)  10        17\n",
       "(I) (2016)  10        16\n",
       "(I) (2015)  10        15\n",
       "(I) (2014)  10        15\n",
       "(I) (2020)  10        11\n",
       "(TV Movie)  10         9\n",
       "(I) (2013)  10         7\n",
       "(I) (2012)  10         6\n",
       "(I) (2011)  10         5\n",
       "(I) (2021)  10         5\n",
       "(I) (2008)  10         4\n",
       "(I) (2009)  10         3\n",
       "(I) (2010)  10         2\n",
       "(V) (2010)  10         1\n",
       "(V) (2016)  10         1\n",
       "(I) (2000)  10         1\n",
       "(I) (2004)  10         1\n",
       "(I) (2005)  10         1\n",
       "(V) (2018)  10         1\n",
       "dtype: int64"
      ]
     },
     "execution_count": 31,
     "metadata": {},
     "output_type": "execute_result"
    }
   ],
   "source": [
    "new[new['Length'] == 10].value_counts()"
   ]
  },
  {
   "cell_type": "code",
   "execution_count": 32,
   "id": "04d0170e",
   "metadata": {},
   "outputs": [
    {
     "name": "stderr",
     "output_type": "stream",
     "text": [
      "C:\\Users\\sidja\\AppData\\Local\\Temp\\ipykernel_7584\\2912000307.py:1: SettingWithCopyWarning: \n",
      "A value is trying to be set on a copy of a slice from a DataFrame.\n",
      "Try using .loc[row_indexer,col_indexer] = value instead\n",
      "\n",
      "See the caveats in the documentation: https://pandas.pydata.org/pandas-docs/stable/user_guide/indexing.html#returning-a-view-versus-a-copy\n",
      "  new[(new['Length'] == 10) & (new['YEAR'] == '(TV Movie)')].YEAR = np.nan\n"
     ]
    }
   ],
   "source": [
    "new[(new['Length'] == 10) & (new['YEAR'] == '(TV Movie)')].YEAR = np.nan"
   ]
  },
  {
   "cell_type": "code",
   "execution_count": 33,
   "id": "f1ec8fd6",
   "metadata": {},
   "outputs": [],
   "source": [
    "length_10 = list(new[(new['Length'] == 10) & (new['YEAR'] != '(TV Movie)')].YEAR)"
   ]
  },
  {
   "cell_type": "code",
   "execution_count": 34,
   "id": "28eacaaf",
   "metadata": {},
   "outputs": [
    {
     "name": "stdout",
     "output_type": "stream",
     "text": [
      "158\n",
      "['2019', '2017', '2020', '2019']\n"
     ]
    }
   ],
   "source": [
    "length_10_new = []\n",
    "for i in length_10:\n",
    "    length_10_new.append(i[5:9])\n",
    "print(len(length_10_new))\n",
    "print(length_10_new[:4])"
   ]
  },
  {
   "cell_type": "code",
   "execution_count": 35,
   "id": "2e192768",
   "metadata": {},
   "outputs": [
    {
     "name": "stderr",
     "output_type": "stream",
     "text": [
      "C:\\Users\\sidja\\AppData\\Local\\Temp\\ipykernel_7584\\880467318.py:1: SettingWithCopyWarning: \n",
      "A value is trying to be set on a copy of a slice from a DataFrame.\n",
      "Try using .loc[row_indexer,col_indexer] = value instead\n",
      "\n",
      "See the caveats in the documentation: https://pandas.pydata.org/pandas-docs/stable/user_guide/indexing.html#returning-a-view-versus-a-copy\n",
      "  new[(new['Length'] == 10) & (new['YEAR'] != '(TV Movie)')].YEAR = length_10_new\n"
     ]
    }
   ],
   "source": [
    "new[(new['Length'] == 10) & (new['YEAR'] != '(TV Movie)')].YEAR = length_10_new"
   ]
  },
  {
   "cell_type": "code",
   "execution_count": 36,
   "id": "14ebcd4c",
   "metadata": {
    "scrolled": true
   },
   "outputs": [
    {
     "data": {
      "text/plain": [
       "YEAR             Length\n",
       "(2019 TV Movie)  15        22\n",
       "(2014 TV Movie)  15        19\n",
       "(2018 TV Movie)  15        17\n",
       "(2016 TV Movie)  15        16\n",
       "(2015 TV Movie)  15        16\n",
       "(2017 TV Movie)  15        14\n",
       "(2020 TV Movie)  15        13\n",
       "(2013 TV Movie)  15         9\n",
       "(2021 TV Movie)  15         6\n",
       "(2011 TV Movie)  15         4\n",
       "(2012 TV Movie)  15         3\n",
       "(2006 TV Movie)  15         3\n",
       "(2009 TV Movie)  15         2\n",
       "(2008 TV Movie)  15         2\n",
       "(2014 TV Short)  15         2\n",
       "(2015 TV Short)  15         2\n",
       "(2021 TV Short)  15         1\n",
       "(I) (2012–2015)  15         1\n",
       "(I) (2013–2014)  15         1\n",
       "(2020 TV Short)  15         1\n",
       "(I) (2013–2016)  15         1\n",
       "(1975 TV Movie)  15         1\n",
       "(2019 TV Short)  15         1\n",
       "(2017 TV Short)  15         1\n",
       "(1988 TV Movie)  15         1\n",
       "(2007 TV Movie)  15         1\n",
       "(2001 TV Movie)  15         1\n",
       "(1999 TV Movie)  15         1\n",
       "(1993 TV Movie)  15         1\n",
       "(I) (2019–2020)  15         1\n",
       "dtype: int64"
      ]
     },
     "execution_count": 36,
     "metadata": {},
     "output_type": "execute_result"
    }
   ],
   "source": [
    "new[new['Length'] == 15].value_counts()"
   ]
  },
  {
   "cell_type": "code",
   "execution_count": 37,
   "id": "40081a36",
   "metadata": {},
   "outputs": [
    {
     "name": "stderr",
     "output_type": "stream",
     "text": [
      "C:\\Users\\sidja\\AppData\\Local\\Temp\\ipykernel_7584\\3940416950.py:1: SettingWithCopyWarning: \n",
      "A value is trying to be set on a copy of a slice from a DataFrame.\n",
      "Try using .loc[row_indexer,col_indexer] = value instead\n",
      "\n",
      "See the caveats in the documentation: https://pandas.pydata.org/pandas-docs/stable/user_guide/indexing.html#returning-a-view-versus-a-copy\n",
      "  new[(new['Length'] == 15) & (new['YEAR'].isin(['(I) (2012–2015)','(I) (2013–2014)','(I) (2013–2016)','(I) (2019–2020)']))].YEAR = np.nan\n"
     ]
    }
   ],
   "source": [
    "new[(new['Length'] == 15) & (new['YEAR'].isin(['(I) (2012–2015)','(I) (2013–2014)','(I) (2013–2016)','(I) (2019–2020)']))].YEAR = np.nan"
   ]
  },
  {
   "cell_type": "code",
   "execution_count": 38,
   "id": "00c0727e",
   "metadata": {},
   "outputs": [],
   "source": [
    "length_15 = list(new[(new['Length'] == 15) & ~(new['YEAR'].isin(['(I) (2012–2015)','(I) (2013–2014)','(I) (2013–2016)','(I) (2019–2020)']))].YEAR)"
   ]
  },
  {
   "cell_type": "code",
   "execution_count": 39,
   "id": "f120988d",
   "metadata": {},
   "outputs": [
    {
     "name": "stdout",
     "output_type": "stream",
     "text": [
      "160\n",
      "['2013', '2017', '2014', '2020']\n"
     ]
    }
   ],
   "source": [
    "length_15_new = []\n",
    "for i in length_15:\n",
    "    length_15_new.append(i[1:5])\n",
    "print(len(length_15_new))\n",
    "print(length_15_new[:4])"
   ]
  },
  {
   "cell_type": "code",
   "execution_count": 40,
   "id": "26888cd1",
   "metadata": {},
   "outputs": [
    {
     "name": "stderr",
     "output_type": "stream",
     "text": [
      "C:\\Users\\sidja\\AppData\\Local\\Temp\\ipykernel_7584\\2690133334.py:1: SettingWithCopyWarning: \n",
      "A value is trying to be set on a copy of a slice from a DataFrame.\n",
      "Try using .loc[row_indexer,col_indexer] = value instead\n",
      "\n",
      "See the caveats in the documentation: https://pandas.pydata.org/pandas-docs/stable/user_guide/indexing.html#returning-a-view-versus-a-copy\n",
      "  new[(new['Length'] == 15) & ~(new['YEAR'].isin(['(I) (2012–2015)','(I) (2013–2014)','(I) (2013–2016)','(I) (2019–2020)']))].YEAR  = length_15_new\n"
     ]
    }
   ],
   "source": [
    "new[(new['Length'] == 15) & ~(new['YEAR'].isin(['(I) (2012–2015)','(I) (2013–2014)','(I) (2013–2016)','(I) (2019–2020)']))].YEAR  = length_15_new"
   ]
  },
  {
   "cell_type": "code",
   "execution_count": 41,
   "id": "9f298b14",
   "metadata": {},
   "outputs": [
    {
     "data": {
      "text/plain": [
       "(2015 Video)    9\n",
       "(2016 Video)    8\n",
       "(2012 Video)    8\n",
       "(2011 Video)    7\n",
       "(2008 Video)    7\n",
       "(2009 Video)    7\n",
       "(2014 Video)    6\n",
       "(2013 Video)    6\n",
       "(2006 Video)    6\n",
       "(2020 Video)    6\n",
       "(2019 Video)    5\n",
       "(TV Special)    5\n",
       "(2017 Video)    5\n",
       "(2021 Video)    5\n",
       "(2004 Video)    4\n",
       "(I) (2020– )    4\n",
       "(III) (2021)    4\n",
       "(2010 Video)    4\n",
       "(III) (2015)    4\n",
       "(2018 Video)    4\n",
       "(2005 Video)    3\n",
       "(I) (2019– )    3\n",
       "(III) (2020)    2\n",
       "(2007 Video)    2\n",
       "(2003 Video)    2\n",
       "(III) (2019)    2\n",
       "(III) (2018)    2\n",
       "(III) (2014)    1\n",
       "(III) (2011)    1\n",
       "(2000 Video)    1\n",
       "(1995 Video)    1\n",
       "(XIV) (2017)    1\n",
       "(1989 Video)    1\n",
       "(I) (2018– )    1\n",
       "(1992 Video)    1\n",
       "(III) (2017)    1\n",
       "(III) (2012)    1\n",
       "(I) (2015– )    1\n",
       "(III) (2010)    1\n",
       "(I) (2022– )    1\n",
       "(III) (2016)    1\n",
       "(1996 Video)    1\n",
       "(I) (2021– )    1\n",
       "(1998 Video)    1\n",
       "Name: YEAR, dtype: int64"
      ]
     },
     "execution_count": 41,
     "metadata": {},
     "output_type": "execute_result"
    }
   ],
   "source": [
    "new[new['Length'] == 12] .YEAR.value_counts()"
   ]
  },
  {
   "cell_type": "code",
   "execution_count": 42,
   "id": "58b16eab",
   "metadata": {},
   "outputs": [],
   "source": [
    "length_12 = list(new[new['Length'] == 12].YEAR)"
   ]
  },
  {
   "cell_type": "code",
   "execution_count": 43,
   "id": "bf022a35",
   "metadata": {},
   "outputs": [
    {
     "name": "stdout",
     "output_type": "stream",
     "text": [
      "[' ', '(', ')', '0', '1', '2', '3', '4', '5', '6', '7', '8', '9', 'I', 'S', 'T', 'V', 'X', 'a', 'c', 'd', 'e', 'i', 'l', 'o', 'p', '–']\n",
      "[  ()0123456789ISTVXacdeilop– ]\n"
     ]
    }
   ],
   "source": [
    "character_12 = []\n",
    "\n",
    "for i in length_12:\n",
    "    for char in i:\n",
    "        if char not in character_12:\n",
    "            character_12.append(char)\n",
    "character_12.sort()\n",
    "print(character_12)\n",
    "print('[', ''. join(str(x) for x in character_12), ']')"
   ]
  },
  {
   "cell_type": "code",
   "execution_count": 44,
   "id": "cad48560",
   "metadata": {},
   "outputs": [
    {
     "name": "stderr",
     "output_type": "stream",
     "text": [
      "C:\\Users\\sidja\\AppData\\Local\\Temp\\ipykernel_7584\\202458151.py:1: SettingWithCopyWarning: \n",
      "A value is trying to be set on a copy of a slice from a DataFrame\n",
      "\n",
      "See the caveats in the documentation: https://pandas.pydata.org/pandas-docs/stable/user_guide/indexing.html#returning-a-view-versus-a-copy\n",
      "  new.YEAR[new['Length'] == 12] = new.YEAR[new['Length'] == 12].str.strip(',()ISTVXacdeilop– ')\n"
     ]
    }
   ],
   "source": [
    "new.YEAR[new['Length'] == 12] = new.YEAR[new['Length'] == 12].str.strip(',()ISTVXacdeilop– ')"
   ]
  },
  {
   "cell_type": "code",
   "execution_count": 45,
   "id": "b782d185",
   "metadata": {
    "scrolled": true
   },
   "outputs": [
    {
     "data": {
      "text/plain": [
       "2015    14\n",
       "2020    12\n",
       "2021    10\n",
       "2019    10\n",
       "2016     9\n",
       "2012     9\n",
       "2011     8\n",
       "2018     7\n",
       "2008     7\n",
       "2009     7\n",
       "2014     7\n",
       "2017     7\n",
       "2006     6\n",
       "2013     6\n",
       "         5\n",
       "2010     5\n",
       "2004     4\n",
       "2005     3\n",
       "2007     2\n",
       "2003     2\n",
       "1995     1\n",
       "2000     1\n",
       "2022     1\n",
       "1989     1\n",
       "1992     1\n",
       "1996     1\n",
       "1998     1\n",
       "Name: YEAR, dtype: int64"
      ]
     },
     "execution_count": 45,
     "metadata": {},
     "output_type": "execute_result"
    }
   ],
   "source": [
    "new[new['Length'] == 12] .YEAR.value_counts()"
   ]
  },
  {
   "cell_type": "markdown",
   "id": "697b30f7",
   "metadata": {},
   "source": [
    "**For characters which have length 4, we have to iterate through all the characters of the list since we have already converted most of the values to 4**"
   ]
  },
  {
   "cell_type": "code",
   "execution_count": 46,
   "id": "55843ed4",
   "metadata": {},
   "outputs": [
    {
     "data": {
      "text/plain": [
       "(II) (2017– )    2\n",
       "(II) (2020– )    2\n",
       "(II) (2021– )    2\n",
       "(II) (2007– )    1\n",
       "(II) (2019– )    1\n",
       "(II) (2012– )    1\n",
       "(II) (2016– )    1\n",
       "Name: YEAR, dtype: int64"
      ]
     },
     "execution_count": 46,
     "metadata": {},
     "output_type": "execute_result"
    }
   ],
   "source": [
    "new[new['Length'] == 13].YEAR.value_counts()"
   ]
  },
  {
   "cell_type": "code",
   "execution_count": 47,
   "id": "64028712",
   "metadata": {},
   "outputs": [],
   "source": [
    "length_13 = list(new[new['Length']==13].YEAR)"
   ]
  },
  {
   "cell_type": "code",
   "execution_count": 48,
   "id": "64fbce08",
   "metadata": {},
   "outputs": [
    {
     "name": "stdout",
     "output_type": "stream",
     "text": [
      "['2007', '2017', '2019', '2020', '2012', '2021', '2017', '2016', '2020', '2021']\n"
     ]
    }
   ],
   "source": [
    "length_13_new = []\n",
    "\n",
    "for i in length_13:\n",
    "    length_13_new.append(i[6:10])\n",
    "print(length_13_new)"
   ]
  },
  {
   "cell_type": "code",
   "execution_count": 49,
   "id": "4bfaf668",
   "metadata": {},
   "outputs": [
    {
     "name": "stderr",
     "output_type": "stream",
     "text": [
      "C:\\Users\\sidja\\AppData\\Local\\Temp\\ipykernel_7584\\2036028685.py:1: SettingWithCopyWarning: \n",
      "A value is trying to be set on a copy of a slice from a DataFrame.\n",
      "Try using .loc[row_indexer,col_indexer] = value instead\n",
      "\n",
      "See the caveats in the documentation: https://pandas.pydata.org/pandas-docs/stable/user_guide/indexing.html#returning-a-view-versus-a-copy\n",
      "  new[new['Length'] == 13].YEAR = length_13_new\n"
     ]
    }
   ],
   "source": [
    "new[new['Length'] == 13].YEAR = length_13_new"
   ]
  },
  {
   "cell_type": "code",
   "execution_count": 50,
   "id": "ee79412d",
   "metadata": {},
   "outputs": [
    {
     "name": "stderr",
     "output_type": "stream",
     "text": [
      "C:\\Users\\sidja\\AppData\\Local\\Temp\\ipykernel_7584\\3074781771.py:1: SettingWithCopyWarning: \n",
      "A value is trying to be set on a copy of a slice from a DataFrame.\n",
      "Try using .loc[row_indexer,col_indexer] = value instead\n",
      "\n",
      "See the caveats in the documentation: https://pandas.pydata.org/pandas-docs/stable/user_guide/indexing.html#returning-a-view-versus-a-copy\n",
      "  new[new['Length'].isin([7,6,16,20])].YEAR = np.nan\n"
     ]
    }
   ],
   "source": [
    "new[new['Length'].isin([7,6,16,20])].YEAR = np.nan"
   ]
  },
  {
   "cell_type": "code",
   "execution_count": 51,
   "id": "0d3861a5",
   "metadata": {
    "scrolled": true
   },
   "outputs": [
    {
     "data": {
      "text/plain": [
       "2020               1543\n",
       "2019               1103\n",
       "2021               1082\n",
       "2018                758\n",
       "2017                542\n",
       "                   ... \n",
       "(I) (2005)            1\n",
       "(I) (2013–2014)       1\n",
       "(V) (2010)            1\n",
       "(1988 TV Movie)       1\n",
       "2005                  1\n",
       "Name: YEAR, Length: 175, dtype: int64"
      ]
     },
     "execution_count": 51,
     "metadata": {},
     "output_type": "execute_result"
    }
   ],
   "source": [
    "new.YEAR.value_counts()"
   ]
  },
  {
   "cell_type": "code",
   "execution_count": 52,
   "id": "0b039096",
   "metadata": {},
   "outputs": [
    {
     "name": "stderr",
     "output_type": "stream",
     "text": [
      "C:\\Users\\sidja\\AppData\\Local\\Temp\\ipykernel_7584\\3215238842.py:1: SettingWithCopyWarning: \n",
      "A value is trying to be set on a copy of a slice from a DataFrame.\n",
      "Try using .loc[row_indexer,col_indexer] = value instead\n",
      "\n",
      "See the caveats in the documentation: https://pandas.pydata.org/pandas-docs/stable/user_guide/indexing.html#returning-a-view-versus-a-copy\n",
      "  new['YEAR'] = new['YEAR'].astype('str')\n"
     ]
    }
   ],
   "source": [
    "new['YEAR'] = new['YEAR'].astype('str')"
   ]
  },
  {
   "cell_type": "code",
   "execution_count": 53,
   "id": "e1839977",
   "metadata": {
    "scrolled": true
   },
   "outputs": [
    {
     "name": "stderr",
     "output_type": "stream",
     "text": [
      "C:\\Users\\sidja\\AppData\\Local\\Temp\\ipykernel_7584\\2392246414.py:1: SettingWithCopyWarning: \n",
      "A value is trying to be set on a copy of a slice from a DataFrame.\n",
      "Try using .loc[row_indexer,col_indexer] = value instead\n",
      "\n",
      "See the caveats in the documentation: https://pandas.pydata.org/pandas-docs/stable/user_guide/indexing.html#returning-a-view-versus-a-copy\n",
      "  new['Length'] = new['YEAR'].apply(len)\n"
     ]
    }
   ],
   "source": [
    "new['Length'] = new['YEAR'].apply(len)"
   ]
  },
  {
   "cell_type": "code",
   "execution_count": 54,
   "id": "55755c6d",
   "metadata": {},
   "outputs": [
    {
     "data": {
      "text/plain": [
       "0"
      ]
     },
     "execution_count": 54,
     "metadata": {},
     "output_type": "execute_result"
    }
   ],
   "source": [
    "new['Length'].isnull().sum()"
   ]
  },
  {
   "cell_type": "code",
   "execution_count": 55,
   "id": "6f25e2fd",
   "metadata": {
    "scrolled": true
   },
   "outputs": [
    {
     "data": {
      "text/plain": [
       "4     7095\n",
       "3     2130\n",
       "5      393\n",
       "10     167\n",
       "15     164\n",
       "0       33\n",
       "13      10\n",
       "7        3\n",
       "6        2\n",
       "16       1\n",
       "20       1\n",
       "Name: Length, dtype: int64"
      ]
     },
     "execution_count": 55,
     "metadata": {},
     "output_type": "execute_result"
    }
   ],
   "source": [
    "new['Length'].value_counts()"
   ]
  },
  {
   "cell_type": "code",
   "execution_count": 56,
   "id": "08110e25",
   "metadata": {
    "scrolled": true
   },
   "outputs": [
    {
     "data": {
      "text/plain": [
       "nan    2130\n",
       "Name: YEAR, dtype: int64"
      ]
     },
     "execution_count": 56,
     "metadata": {},
     "output_type": "execute_result"
    }
   ],
   "source": [
    "new[new['Length'] == 3].YEAR.value_counts()"
   ]
  },
  {
   "cell_type": "code",
   "execution_count": 57,
   "id": "ea883f32",
   "metadata": {
    "scrolled": true
   },
   "outputs": [
    {
     "data": {
      "text/plain": [
       "2017     81\n",
       "2020     65\n",
       "2018     65\n",
       "2019     53\n",
       "2016     35\n",
       "2021     16\n",
       "2015     15\n",
       "2014     15\n",
       "2013     12\n",
       "2012      6\n",
       "2011      5\n",
       "2010      3\n",
       "2001      3\n",
       "2006      3\n",
       "2008      2\n",
       "1991      2\n",
       "2003      1\n",
       "2009      1\n",
       "2007      1\n",
       "1990      1\n",
       "1965      1\n",
       "1993      1\n",
       "2022      1\n",
       "1998      1\n",
       "1987      1\n",
       "1966      1\n",
       "1989      1\n",
       "2005      1\n",
       "Name: YEAR, dtype: int64"
      ]
     },
     "execution_count": 57,
     "metadata": {},
     "output_type": "execute_result"
    }
   ],
   "source": [
    "new[new['Length'] == 5].YEAR.value_counts()"
   ]
  },
  {
   "cell_type": "markdown",
   "id": "b2e4b258",
   "metadata": {},
   "source": [
    "Clear"
   ]
  },
  {
   "cell_type": "code",
   "execution_count": 58,
   "id": "eec88412",
   "metadata": {
    "scrolled": true
   },
   "outputs": [
    {
     "data": {
      "text/plain": [
       "(I) (2019)    24\n",
       "(I) (2018)    22\n",
       "(I) (2017)    17\n",
       "(I) (2016)    16\n",
       "(I) (2014)    15\n",
       "(I) (2015)    15\n",
       "(I) (2020)    11\n",
       "(TV Movie)     9\n",
       "(I) (2013)     7\n",
       "(I) (2012)     6\n",
       "(I) (2011)     5\n",
       "(I) (2021)     5\n",
       "(I) (2008)     4\n",
       "(I) (2009)     3\n",
       "(I) (2010)     2\n",
       "(I) (2004)     1\n",
       "(I) (2000)     1\n",
       "(V) (2016)     1\n",
       "(V) (2018)     1\n",
       "(I) (2005)     1\n",
       "(V) (2010)     1\n",
       "Name: YEAR, dtype: int64"
      ]
     },
     "execution_count": 58,
     "metadata": {},
     "output_type": "execute_result"
    }
   ],
   "source": [
    "new[new['Length'] == 10].YEAR.value_counts()"
   ]
  },
  {
   "cell_type": "code",
   "execution_count": 59,
   "id": "97aaf818",
   "metadata": {},
   "outputs": [],
   "source": [
    "new.loc[new[new['YEAR'] == '(TV Movie)'].index,'YEAR'] = np.nan"
   ]
  },
  {
   "cell_type": "code",
   "execution_count": 60,
   "id": "e77400ec",
   "metadata": {
    "scrolled": true
   },
   "outputs": [
    {
     "data": {
      "text/plain": [
       "(I) (2019)    24\n",
       "(I) (2018)    22\n",
       "(I) (2017)    17\n",
       "(I) (2016)    16\n",
       "(I) (2014)    15\n",
       "(I) (2015)    15\n",
       "(I) (2020)    11\n",
       "(I) (2013)     7\n",
       "(I) (2012)     6\n",
       "(I) (2011)     5\n",
       "(I) (2021)     5\n",
       "(I) (2008)     4\n",
       "(I) (2009)     3\n",
       "(I) (2010)     2\n",
       "(I) (2004)     1\n",
       "(I) (2000)     1\n",
       "(V) (2016)     1\n",
       "(V) (2018)     1\n",
       "(I) (2005)     1\n",
       "(V) (2010)     1\n",
       "Name: YEAR, dtype: int64"
      ]
     },
     "execution_count": 60,
     "metadata": {},
     "output_type": "execute_result"
    }
   ],
   "source": [
    "# check\n",
    "\n",
    "new[new['Length'] == 10].YEAR.value_counts()"
   ]
  },
  {
   "cell_type": "markdown",
   "id": "080a3853",
   "metadata": {},
   "source": [
    "\n",
    "clear"
   ]
  },
  {
   "cell_type": "code",
   "execution_count": 61,
   "id": "dd1fb1d4",
   "metadata": {},
   "outputs": [
    {
     "name": "stderr",
     "output_type": "stream",
     "text": [
      "C:\\Users\\sidja\\AppData\\Local\\Temp\\ipykernel_7584\\4012506726.py:1: SettingWithCopyWarning: \n",
      "A value is trying to be set on a copy of a slice from a DataFrame.\n",
      "Try using .loc[row_indexer,col_indexer] = value instead\n",
      "\n",
      "See the caveats in the documentation: https://pandas.pydata.org/pandas-docs/stable/user_guide/indexing.html#returning-a-view-versus-a-copy\n",
      "  new['YEAR'] = new['YEAR'].astype(str)\n",
      "C:\\Users\\sidja\\AppData\\Local\\Temp\\ipykernel_7584\\4012506726.py:2: SettingWithCopyWarning: \n",
      "A value is trying to be set on a copy of a slice from a DataFrame.\n",
      "Try using .loc[row_indexer,col_indexer] = value instead\n",
      "\n",
      "See the caveats in the documentation: https://pandas.pydata.org/pandas-docs/stable/user_guide/indexing.html#returning-a-view-versus-a-copy\n",
      "  new['Length'] = new['YEAR'].apply(len)\n"
     ]
    },
    {
     "data": {
      "text/plain": [
       "4     7095\n",
       "3     2139\n",
       "5      393\n",
       "15     164\n",
       "10     158\n",
       "0       33\n",
       "13      10\n",
       "7        3\n",
       "6        2\n",
       "16       1\n",
       "20       1\n",
       "Name: Length, dtype: int64"
      ]
     },
     "execution_count": 61,
     "metadata": {},
     "output_type": "execute_result"
    }
   ],
   "source": [
    "new['YEAR'] = new['YEAR'].astype(str)\n",
    "new['Length'] = new['YEAR'].apply(len)\n",
    "\n",
    "new['Length'].value_counts()"
   ]
  },
  {
   "cell_type": "code",
   "execution_count": 62,
   "id": "6e1b87f5",
   "metadata": {},
   "outputs": [
    {
     "data": {
      "text/plain": [
       "(2019 TV Movie)    22\n",
       "(2014 TV Movie)    19\n",
       "(2018 TV Movie)    17\n",
       "(2016 TV Movie)    16\n",
       "(2015 TV Movie)    16\n",
       "(2017 TV Movie)    14\n",
       "(2020 TV Movie)    13\n",
       "(2013 TV Movie)     9\n",
       "(2021 TV Movie)     6\n",
       "(2011 TV Movie)     4\n",
       "(2012 TV Movie)     3\n",
       "(2006 TV Movie)     3\n",
       "(2008 TV Movie)     2\n",
       "(2015 TV Short)     2\n",
       "(2014 TV Short)     2\n",
       "(2009 TV Movie)     2\n",
       "(1999 TV Movie)     1\n",
       "(2020 TV Short)     1\n",
       "(2001 TV Movie)     1\n",
       "(2007 TV Movie)     1\n",
       "(1988 TV Movie)     1\n",
       "(I) (2013–2016)     1\n",
       "(2021 TV Short)     1\n",
       "(2019 TV Short)     1\n",
       "(1975 TV Movie)     1\n",
       "(I) (2019–2020)     1\n",
       "(I) (2013–2014)     1\n",
       "(1993 TV Movie)     1\n",
       "(I) (2012–2015)     1\n",
       "(2017 TV Short)     1\n",
       "Name: YEAR, dtype: int64"
      ]
     },
     "execution_count": 62,
     "metadata": {},
     "output_type": "execute_result"
    }
   ],
   "source": [
    "new[new['Length'] == 15].YEAR.value_counts()"
   ]
  },
  {
   "cell_type": "code",
   "execution_count": 63,
   "id": "6fbee78b",
   "metadata": {},
   "outputs": [],
   "source": [
    "new.loc[new[new['YEAR'].isin(['(I) (2013–2016)','(I) (2019–2020)','(I) (2013–2014)','(I) (2012–2015)'])].index,'YEAR'] = np.nan"
   ]
  },
  {
   "cell_type": "code",
   "execution_count": 64,
   "id": "677a83e3",
   "metadata": {},
   "outputs": [
    {
     "name": "stderr",
     "output_type": "stream",
     "text": [
      "C:\\Users\\sidja\\AppData\\Local\\Temp\\ipykernel_7584\\4012506726.py:1: SettingWithCopyWarning: \n",
      "A value is trying to be set on a copy of a slice from a DataFrame.\n",
      "Try using .loc[row_indexer,col_indexer] = value instead\n",
      "\n",
      "See the caveats in the documentation: https://pandas.pydata.org/pandas-docs/stable/user_guide/indexing.html#returning-a-view-versus-a-copy\n",
      "  new['YEAR'] = new['YEAR'].astype(str)\n",
      "C:\\Users\\sidja\\AppData\\Local\\Temp\\ipykernel_7584\\4012506726.py:2: SettingWithCopyWarning: \n",
      "A value is trying to be set on a copy of a slice from a DataFrame.\n",
      "Try using .loc[row_indexer,col_indexer] = value instead\n",
      "\n",
      "See the caveats in the documentation: https://pandas.pydata.org/pandas-docs/stable/user_guide/indexing.html#returning-a-view-versus-a-copy\n",
      "  new['Length'] = new['YEAR'].apply(len)\n"
     ]
    },
    {
     "data": {
      "text/plain": [
       "4     7095\n",
       "3     2143\n",
       "5      393\n",
       "15     160\n",
       "10     158\n",
       "0       33\n",
       "13      10\n",
       "7        3\n",
       "6        2\n",
       "16       1\n",
       "20       1\n",
       "Name: Length, dtype: int64"
      ]
     },
     "execution_count": 64,
     "metadata": {},
     "output_type": "execute_result"
    }
   ],
   "source": [
    "new['YEAR'] = new['YEAR'].astype(str)\n",
    "new['Length'] = new['YEAR'].apply(len)\n",
    "\n",
    "new['Length'].value_counts()"
   ]
  },
  {
   "cell_type": "code",
   "execution_count": 65,
   "id": "e14ba681",
   "metadata": {},
   "outputs": [
    {
     "data": {
      "text/plain": [
       "(2019 TV Movie)    22\n",
       "(2014 TV Movie)    19\n",
       "(2018 TV Movie)    17\n",
       "(2016 TV Movie)    16\n",
       "(2015 TV Movie)    16\n",
       "(2017 TV Movie)    14\n",
       "(2020 TV Movie)    13\n",
       "(2013 TV Movie)     9\n",
       "(2021 TV Movie)     6\n",
       "(2011 TV Movie)     4\n",
       "(2006 TV Movie)     3\n",
       "(2012 TV Movie)     3\n",
       "(2015 TV Short)     2\n",
       "(2008 TV Movie)     2\n",
       "(2009 TV Movie)     2\n",
       "(2014 TV Short)     2\n",
       "(2001 TV Movie)     1\n",
       "(2020 TV Short)     1\n",
       "(2007 TV Movie)     1\n",
       "(1999 TV Movie)     1\n",
       "(1975 TV Movie)     1\n",
       "(1988 TV Movie)     1\n",
       "(2021 TV Short)     1\n",
       "(2019 TV Short)     1\n",
       "(1993 TV Movie)     1\n",
       "(2017 TV Short)     1\n",
       "Name: YEAR, dtype: int64"
      ]
     },
     "execution_count": 65,
     "metadata": {},
     "output_type": "execute_result"
    }
   ],
   "source": [
    "new[new['Length'] == 15].YEAR.value_counts()"
   ]
  },
  {
   "cell_type": "code",
   "execution_count": 66,
   "id": "46070a49",
   "metadata": {},
   "outputs": [
    {
     "data": {
      "text/plain": [
       "['2013',\n",
       " '2017',\n",
       " '2014',\n",
       " '2020',\n",
       " '2016',\n",
       " '2021',\n",
       " '2013',\n",
       " '1993',\n",
       " '2018',\n",
       " '2013',\n",
       " '2016',\n",
       " '2014',\n",
       " '2014',\n",
       " '2015',\n",
       " '2018',\n",
       " '2019',\n",
       " '2021',\n",
       " '2019',\n",
       " '2015',\n",
       " '2009',\n",
       " '2015',\n",
       " '2018',\n",
       " '2018',\n",
       " '2020',\n",
       " '2013',\n",
       " '2012',\n",
       " '2019',\n",
       " '2014',\n",
       " '2016',\n",
       " '2017',\n",
       " '2018',\n",
       " '2014',\n",
       " '2021',\n",
       " '1975',\n",
       " '2014',\n",
       " '2015',\n",
       " '2017',\n",
       " '2019',\n",
       " '2014',\n",
       " '2015',\n",
       " '2019',\n",
       " '2016',\n",
       " '2013',\n",
       " '2020',\n",
       " '2016',\n",
       " '2015',\n",
       " '2019',\n",
       " '2015',\n",
       " '2019',\n",
       " '2021',\n",
       " '2008',\n",
       " '2019',\n",
       " '2018',\n",
       " '2016',\n",
       " '2017',\n",
       " '2016',\n",
       " '2021',\n",
       " '2015',\n",
       " '2016',\n",
       " '2021',\n",
       " '2018',\n",
       " '2019',\n",
       " '2019',\n",
       " '2014',\n",
       " '2021',\n",
       " '2019',\n",
       " '2019',\n",
       " '2014',\n",
       " '2018',\n",
       " '2018',\n",
       " '2019',\n",
       " '2013',\n",
       " '2013',\n",
       " '2020',\n",
       " '2016',\n",
       " '2020',\n",
       " '2014',\n",
       " '2019',\n",
       " '2018',\n",
       " '2020',\n",
       " '2020',\n",
       " '2015',\n",
       " '2014',\n",
       " '2015',\n",
       " '2016',\n",
       " '2011',\n",
       " '2018',\n",
       " '2019',\n",
       " '1988',\n",
       " '2016',\n",
       " '2018',\n",
       " '2020',\n",
       " '2018',\n",
       " '2019',\n",
       " '2020',\n",
       " '2014',\n",
       " '2019',\n",
       " '2018',\n",
       " '2019',\n",
       " '2014',\n",
       " '2015',\n",
       " '2019',\n",
       " '2012',\n",
       " '2014',\n",
       " '2015',\n",
       " '2019',\n",
       " '2016',\n",
       " '2015',\n",
       " '2013',\n",
       " '2016',\n",
       " '2015',\n",
       " '2017',\n",
       " '2019',\n",
       " '2016',\n",
       " '2017',\n",
       " '1999',\n",
       " '2018',\n",
       " '2020',\n",
       " '2015',\n",
       " '2019',\n",
       " '2014',\n",
       " '2013',\n",
       " '2020',\n",
       " '2006',\n",
       " '2020',\n",
       " '2017',\n",
       " '2018',\n",
       " '2019',\n",
       " '2014',\n",
       " '2020',\n",
       " '2014',\n",
       " '2016',\n",
       " '2017',\n",
       " '2014',\n",
       " '2012',\n",
       " '2014',\n",
       " '2017',\n",
       " '2014',\n",
       " '2016',\n",
       " '2008',\n",
       " '2015',\n",
       " '2011',\n",
       " '2014',\n",
       " '2018',\n",
       " '2017',\n",
       " '2015',\n",
       " '2011',\n",
       " '2017',\n",
       " '2001',\n",
       " '2017',\n",
       " '2006',\n",
       " '2007',\n",
       " '2017',\n",
       " '2015',\n",
       " '2017',\n",
       " '2006',\n",
       " '2011',\n",
       " '2009',\n",
       " '2017',\n",
       " '2020']"
      ]
     },
     "execution_count": 66,
     "metadata": {},
     "output_type": "execute_result"
    }
   ],
   "source": [
    "length_15 = list(new[new['Length'] == 15].YEAR)\n",
    "\n",
    "length_15_new = []\n",
    "for i in length_15:\n",
    "    length_15_new.append(i[1:5])\n",
    "length_15_new"
   ]
  },
  {
   "cell_type": "code",
   "execution_count": 67,
   "id": "dccc7451",
   "metadata": {},
   "outputs": [],
   "source": [
    "new.loc[new[new['Length'] == 15].index,'YEAR'] = length_15_new"
   ]
  },
  {
   "cell_type": "code",
   "execution_count": 68,
   "id": "dd9ba921",
   "metadata": {},
   "outputs": [
    {
     "data": {
      "text/plain": [
       "(I) (2019)    24\n",
       "(I) (2018)    22\n",
       "(I) (2017)    17\n",
       "(I) (2016)    16\n",
       "(I) (2014)    15\n",
       "(I) (2015)    15\n",
       "(I) (2020)    11\n",
       "(I) (2013)     7\n",
       "(I) (2012)     6\n",
       "(I) (2011)     5\n",
       "(I) (2021)     5\n",
       "(I) (2008)     4\n",
       "(I) (2009)     3\n",
       "(I) (2010)     2\n",
       "(I) (2004)     1\n",
       "(I) (2000)     1\n",
       "(V) (2016)     1\n",
       "(V) (2018)     1\n",
       "(I) (2005)     1\n",
       "(V) (2010)     1\n",
       "Name: YEAR, dtype: int64"
      ]
     },
     "execution_count": 68,
     "metadata": {},
     "output_type": "execute_result"
    }
   ],
   "source": [
    "new[new['Length'] == 10].YEAR.value_counts()"
   ]
  },
  {
   "cell_type": "code",
   "execution_count": 69,
   "id": "abac93c8",
   "metadata": {},
   "outputs": [
    {
     "data": {
      "text/plain": [
       "'2010'"
      ]
     },
     "execution_count": 69,
     "metadata": {},
     "output_type": "execute_result"
    }
   ],
   "source": [
    "'(V) (2010)'[-5:-1]"
   ]
  },
  {
   "cell_type": "code",
   "execution_count": 70,
   "id": "91793f36",
   "metadata": {},
   "outputs": [],
   "source": [
    "length_10 = list(new[new['Length'] == 10].YEAR)\n",
    "\n",
    "length_10_new = []\n",
    "\n",
    "for i in length_10:\n",
    "    length_10_new.append(i[-5:-1])\n",
    "\n",
    "new.loc[new[new['Length'] == 10].index,'YEAR'] = length_10_new"
   ]
  },
  {
   "cell_type": "markdown",
   "id": "0cb12bc9",
   "metadata": {},
   "source": [
    "Clear"
   ]
  },
  {
   "cell_type": "code",
   "execution_count": 71,
   "id": "bbae9141",
   "metadata": {
    "scrolled": true
   },
   "outputs": [
    {
     "data": {
      "text/plain": [
       "YEAR           Length\n",
       "(II) (2017– )  13        2\n",
       "(II) (2020– )  13        2\n",
       "(II) (2021– )  13        2\n",
       "(II) (2007– )  13        1\n",
       "(II) (2012– )  13        1\n",
       "(II) (2016– )  13        1\n",
       "(II) (2019– )  13        1\n",
       "dtype: int64"
      ]
     },
     "execution_count": 71,
     "metadata": {},
     "output_type": "execute_result"
    }
   ],
   "source": [
    "new[new['Length'] == 13].value_counts()"
   ]
  },
  {
   "cell_type": "code",
   "execution_count": 72,
   "id": "5b794668",
   "metadata": {},
   "outputs": [],
   "source": [
    "length_13 = list(new[new['Length'] == 13].YEAR)\n",
    "\n",
    "length_13_new = []\n",
    "\n",
    "for i in length_13:\n",
    "    length_13_new.append(i[6:10])\n",
    "\n",
    "new.loc[new[new['Length'] == 13].index,'YEAR'] = length_13_new"
   ]
  },
  {
   "cell_type": "code",
   "execution_count": 73,
   "id": "1ed48ca0",
   "metadata": {},
   "outputs": [
    {
     "data": {
      "text/plain": [
       "YEAR     Length\n",
       "(Video)  7         2\n",
       "(XXIII)  7         1\n",
       "dtype: int64"
      ]
     },
     "execution_count": 73,
     "metadata": {},
     "output_type": "execute_result"
    }
   ],
   "source": [
    "new[new['Length'] == 7].value_counts()"
   ]
  },
  {
   "cell_type": "code",
   "execution_count": 74,
   "id": "17a38b48",
   "metadata": {},
   "outputs": [],
   "source": [
    "new.loc[new[new['Length'] == 7].index,'YEAR'] = np.nan"
   ]
  },
  {
   "cell_type": "code",
   "execution_count": 75,
   "id": "1b65d611",
   "metadata": {},
   "outputs": [
    {
     "data": {
      "text/plain": [
       "YEAR    Length\n",
       "(VIII)  6         1\n",
       "(XIII)  6         1\n",
       "dtype: int64"
      ]
     },
     "execution_count": 75,
     "metadata": {},
     "output_type": "execute_result"
    }
   ],
   "source": [
    "new[new['Length'] == 6].value_counts()"
   ]
  },
  {
   "cell_type": "code",
   "execution_count": 76,
   "id": "d235336c",
   "metadata": {},
   "outputs": [],
   "source": [
    "new.loc[new[new['Length'] == 6].index,'YEAR'] = np.nan"
   ]
  },
  {
   "cell_type": "code",
   "execution_count": 77,
   "id": "06cd6070",
   "metadata": {},
   "outputs": [
    {
     "data": {
      "text/plain": [
       "YEAR              Length\n",
       "(II) (2012–2019)  16        1\n",
       "dtype: int64"
      ]
     },
     "execution_count": 77,
     "metadata": {},
     "output_type": "execute_result"
    }
   ],
   "source": [
    "new[new['Length'] == 16].value_counts()"
   ]
  },
  {
   "cell_type": "code",
   "execution_count": 78,
   "id": "82e29fb2",
   "metadata": {},
   "outputs": [],
   "source": [
    "new.loc[new[new['Length'] == 16].index,'YEAR'] = np.nan"
   ]
  },
  {
   "cell_type": "code",
   "execution_count": 79,
   "id": "dbf9ff47",
   "metadata": {},
   "outputs": [
    {
     "data": {
      "text/plain": [
       "YEAR                  Length\n",
       "(II) (2016 TV Movie)  20        1\n",
       "dtype: int64"
      ]
     },
     "execution_count": 79,
     "metadata": {},
     "output_type": "execute_result"
    }
   ],
   "source": [
    "new[new['Length'] == 20].value_counts()"
   ]
  },
  {
   "cell_type": "code",
   "execution_count": 80,
   "id": "3777a12a",
   "metadata": {},
   "outputs": [],
   "source": [
    "new.loc[new[new['Length'] == 20].index,'YEAR'] = '2016'"
   ]
  },
  {
   "cell_type": "markdown",
   "id": "4a26af0b",
   "metadata": {},
   "source": [
    "Clear"
   ]
  },
  {
   "cell_type": "code",
   "execution_count": 81,
   "id": "9a6bd275",
   "metadata": {
    "scrolled": true
   },
   "outputs": [
    {
     "name": "stderr",
     "output_type": "stream",
     "text": [
      "C:\\Users\\sidja\\AppData\\Local\\Temp\\ipykernel_7584\\732852883.py:1: SettingWithCopyWarning: \n",
      "A value is trying to be set on a copy of a slice from a DataFrame.\n",
      "Try using .loc[row_indexer,col_indexer] = value instead\n",
      "\n",
      "See the caveats in the documentation: https://pandas.pydata.org/pandas-docs/stable/user_guide/indexing.html#returning-a-view-versus-a-copy\n",
      "  new['YEAR'] = new['YEAR'].astype(str)\n"
     ]
    }
   ],
   "source": [
    "new['YEAR'] = new['YEAR'].astype(str)"
   ]
  },
  {
   "cell_type": "code",
   "execution_count": 82,
   "id": "2ce45aac",
   "metadata": {},
   "outputs": [
    {
     "name": "stderr",
     "output_type": "stream",
     "text": [
      "C:\\Users\\sidja\\AppData\\Local\\Temp\\ipykernel_7584\\1435439792.py:1: SettingWithCopyWarning: \n",
      "A value is trying to be set on a copy of a slice from a DataFrame.\n",
      "Try using .loc[row_indexer,col_indexer] = value instead\n",
      "\n",
      "See the caveats in the documentation: https://pandas.pydata.org/pandas-docs/stable/user_guide/indexing.html#returning-a-view-versus-a-copy\n",
      "  new['YEAR'] = new['YEAR'].str.strip(' ')\n"
     ]
    }
   ],
   "source": [
    "new['YEAR'] = new['YEAR'].str.strip(' ')"
   ]
  },
  {
   "cell_type": "code",
   "execution_count": 83,
   "id": "8b25c306",
   "metadata": {},
   "outputs": [
    {
     "name": "stderr",
     "output_type": "stream",
     "text": [
      "C:\\Users\\sidja\\AppData\\Local\\Temp\\ipykernel_7584\\4131529339.py:1: SettingWithCopyWarning: \n",
      "A value is trying to be set on a copy of a slice from a DataFrame.\n",
      "Try using .loc[row_indexer,col_indexer] = value instead\n",
      "\n",
      "See the caveats in the documentation: https://pandas.pydata.org/pandas-docs/stable/user_guide/indexing.html#returning-a-view-versus-a-copy\n",
      "  new['Length'] = new['YEAR'].apply(len)\n"
     ]
    },
    {
     "data": {
      "text/plain": [
       "4    7817\n",
       "3    2149\n",
       "0      33\n",
       "Name: Length, dtype: int64"
      ]
     },
     "execution_count": 83,
     "metadata": {},
     "output_type": "execute_result"
    }
   ],
   "source": [
    "new['Length'] = new['YEAR'].apply(len)\n",
    "\n",
    "new['Length'].value_counts()"
   ]
  },
  {
   "cell_type": "code",
   "execution_count": 84,
   "id": "92fe17be",
   "metadata": {},
   "outputs": [],
   "source": [
    "new.loc[new[new['Length'] == 0].YEAR.index, 'YEAR'] = np.nan"
   ]
  },
  {
   "cell_type": "code",
   "execution_count": 85,
   "id": "1851f72f",
   "metadata": {
    "scrolled": true
   },
   "outputs": [
    {
     "name": "stderr",
     "output_type": "stream",
     "text": [
      "C:\\Users\\sidja\\AppData\\Local\\Temp\\ipykernel_7584\\2996055348.py:1: SettingWithCopyWarning: \n",
      "A value is trying to be set on a copy of a slice from a DataFrame.\n",
      "Try using .loc[row_indexer,col_indexer] = value instead\n",
      "\n",
      "See the caveats in the documentation: https://pandas.pydata.org/pandas-docs/stable/user_guide/indexing.html#returning-a-view-versus-a-copy\n",
      "  new['YEAR'] = new['YEAR'].astype(str)\n",
      "C:\\Users\\sidja\\AppData\\Local\\Temp\\ipykernel_7584\\2996055348.py:3: SettingWithCopyWarning: \n",
      "A value is trying to be set on a copy of a slice from a DataFrame.\n",
      "Try using .loc[row_indexer,col_indexer] = value instead\n",
      "\n",
      "See the caveats in the documentation: https://pandas.pydata.org/pandas-docs/stable/user_guide/indexing.html#returning-a-view-versus-a-copy\n",
      "  new['Length'] = new['YEAR'].apply(len)\n"
     ]
    },
    {
     "data": {
      "text/plain": [
       "4    7817\n",
       "3    2182\n",
       "Name: Length, dtype: int64"
      ]
     },
     "execution_count": 85,
     "metadata": {},
     "output_type": "execute_result"
    }
   ],
   "source": [
    "new['YEAR'] = new['YEAR'].astype(str)\n",
    "\n",
    "new['Length'] = new['YEAR'].apply(len)\n",
    "\n",
    "new['Length'].value_counts()"
   ]
  },
  {
   "cell_type": "code",
   "execution_count": 86,
   "id": "cb01320e",
   "metadata": {
    "scrolled": false
   },
   "outputs": [
    {
     "name": "stdout",
     "output_type": "stream",
     "text": [
      "['2021', 'nan', '2013', '2020', '2019', '2011', '2005', '2017', '2016', '2014', '2015', '2003', '2018', '2012', '2007', '1993', '2001', '1997', '1975', '2006', '2010', '2000', '2009', '1995', '2002', '1976', '1978', '2022', '2008', '1998', '1968', '2004', '1971', '1989', '1996', '1980', '1962', '1991', '1984', '1960', '1988', '1987', '1969', '1961', '1979', '1956', '1983', '1990', '1986', '1966', '1967', '1994', '1974', '1992', '1958', '1932', '1941', '(II)', '1999', '1950', '1946', '1952', '1957', '(IV)', '1954', '1982', '1955', '1948', '1947', '1977', '2023', '1945', '1953', '1985', '1973', '1972', '1965', '(VI)', '(XI)', '1944', '(IX)', '1933', '1938']\n"
     ]
    }
   ],
   "source": [
    "year = list(new['YEAR'])\n",
    "\n",
    "year_char = []\n",
    "\n",
    "for i in year:\n",
    "    if i not in year_char:\n",
    "        year_char.append(i)\n",
    "        \n",
    "print(year_char)"
   ]
  },
  {
   "cell_type": "code",
   "execution_count": 87,
   "id": "374e8118",
   "metadata": {},
   "outputs": [],
   "source": [
    "new.loc[new[new['YEAR'].isin(['(II)','(IV)','(VI)','(XI)','(IX)'])].index,'YEAR'] = np.nan"
   ]
  },
  {
   "cell_type": "code",
   "execution_count": 88,
   "id": "b576e990",
   "metadata": {},
   "outputs": [
    {
     "name": "stdout",
     "output_type": "stream",
     "text": [
      "['2021', 'nan', '2013', '2020', '2019', '2011', '2005', '2017', '2016', '2014', '2015', '2003', '2018', '2012', '2007', '1993', '2001', '1997', '1975', '2006', '2010', '2000', '2009', '1995', '2002', '1976', '1978', '2022', '2008', '1998', '1968', '2004', '1971', '1989', '1996', '1980', '1962', '1991', '1984', '1960', '1988', '1987', '1969', '1961', '1979', '1956', '1983', '1990', '1986', '1966', '1967', '1994', '1974', '1992', '1958', '1932', '1941', nan, '1999', '1950', '1946', '1952', '1957', '1954', '1982', '1955', '1948', '1947', '1977', '2023', '1945', '1953', '1985', '1973', '1972', '1965', '1944', '1933', '1938']\n"
     ]
    }
   ],
   "source": [
    "year = list(new['YEAR'])\n",
    "\n",
    "year_char = []\n",
    "\n",
    "for i in year:\n",
    "    if i not in year_char:\n",
    "        year_char.append(i)\n",
    "        \n",
    "print(year_char)"
   ]
  },
  {
   "cell_type": "code",
   "execution_count": 89,
   "id": "75c261e1",
   "metadata": {},
   "outputs": [],
   "source": [
    "new.loc[new[new['Length'] == 3].index,'YEAR'] = np.nan"
   ]
  },
  {
   "cell_type": "code",
   "execution_count": 90,
   "id": "48a3b362",
   "metadata": {},
   "outputs": [],
   "source": [
    "df['YEAR'] = new['YEAR']"
   ]
  },
  {
   "cell_type": "code",
   "execution_count": 91,
   "id": "49bdc7b2",
   "metadata": {},
   "outputs": [
    {
     "data": {
      "text/html": [
       "<div>\n",
       "<style scoped>\n",
       "    .dataframe tbody tr th:only-of-type {\n",
       "        vertical-align: middle;\n",
       "    }\n",
       "\n",
       "    .dataframe tbody tr th {\n",
       "        vertical-align: top;\n",
       "    }\n",
       "\n",
       "    .dataframe thead th {\n",
       "        text-align: right;\n",
       "    }\n",
       "</style>\n",
       "<table border=\"1\" class=\"dataframe\">\n",
       "  <thead>\n",
       "    <tr style=\"text-align: right;\">\n",
       "      <th></th>\n",
       "      <th>MOVIES</th>\n",
       "      <th>YEAR</th>\n",
       "      <th>GENRE</th>\n",
       "      <th>RATING</th>\n",
       "      <th>ONE-LINE</th>\n",
       "      <th>STARS</th>\n",
       "      <th>VOTES</th>\n",
       "      <th>RunTime</th>\n",
       "      <th>Gross</th>\n",
       "      <th>Length</th>\n",
       "    </tr>\n",
       "  </thead>\n",
       "  <tbody>\n",
       "    <tr>\n",
       "      <th>0</th>\n",
       "      <td>Blood Red Sky</td>\n",
       "      <td>2021</td>\n",
       "      <td>\\nAction, Horror, Thriller</td>\n",
       "      <td>6.1</td>\n",
       "      <td>\\nA woman with a mysterious illness is forced ...</td>\n",
       "      <td>\\n    Director:\\nPeter Thorwarth\\n| \\n    Star...</td>\n",
       "      <td>21,062</td>\n",
       "      <td>121.0</td>\n",
       "      <td>NaN</td>\n",
       "      <td>5</td>\n",
       "    </tr>\n",
       "    <tr>\n",
       "      <th>1</th>\n",
       "      <td>Masters of the Universe: Revelation</td>\n",
       "      <td>2021</td>\n",
       "      <td>\\nAnimation, Action, Adventure</td>\n",
       "      <td>5.0</td>\n",
       "      <td>\\nThe war for Eternia begins again in what may...</td>\n",
       "      <td>\\n            \\n    Stars:\\nChris Wood, \\nSara...</td>\n",
       "      <td>17,870</td>\n",
       "      <td>25.0</td>\n",
       "      <td>NaN</td>\n",
       "      <td>8</td>\n",
       "    </tr>\n",
       "    <tr>\n",
       "      <th>2</th>\n",
       "      <td>The Walking Dead</td>\n",
       "      <td>NaN</td>\n",
       "      <td>\\nDrama, Horror, Thriller</td>\n",
       "      <td>8.2</td>\n",
       "      <td>\\nSheriff Deputy Rick Grimes wakes up from a c...</td>\n",
       "      <td>\\n            \\n    Stars:\\nAndrew Lincoln, \\n...</td>\n",
       "      <td>8,85,805</td>\n",
       "      <td>44.0</td>\n",
       "      <td>NaN</td>\n",
       "      <td>11</td>\n",
       "    </tr>\n",
       "    <tr>\n",
       "      <th>3</th>\n",
       "      <td>Rick and Morty</td>\n",
       "      <td>2013</td>\n",
       "      <td>\\nAnimation, Adventure, Comedy</td>\n",
       "      <td>9.2</td>\n",
       "      <td>\\nAn animated series that follows the exploits...</td>\n",
       "      <td>\\n            \\n    Stars:\\nJustin Roiland, \\n...</td>\n",
       "      <td>4,14,849</td>\n",
       "      <td>23.0</td>\n",
       "      <td>NaN</td>\n",
       "      <td>8</td>\n",
       "    </tr>\n",
       "    <tr>\n",
       "      <th>4</th>\n",
       "      <td>Army of Thieves</td>\n",
       "      <td>2021</td>\n",
       "      <td>\\nAction, Crime, Horror</td>\n",
       "      <td>NaN</td>\n",
       "      <td>\\nA prequel, set before the events of Army of ...</td>\n",
       "      <td>\\n    Director:\\nMatthias Schweighöfer\\n| \\n  ...</td>\n",
       "      <td>NaN</td>\n",
       "      <td>NaN</td>\n",
       "      <td>NaN</td>\n",
       "      <td>5</td>\n",
       "    </tr>\n",
       "    <tr>\n",
       "      <th>5</th>\n",
       "      <td>Outer Banks</td>\n",
       "      <td>2020</td>\n",
       "      <td>\\nAction, Crime, Drama</td>\n",
       "      <td>7.6</td>\n",
       "      <td>\\nA group of teenagers from the wrong side of ...</td>\n",
       "      <td>\\n            \\n    Stars:\\nChase Stokes, \\nMa...</td>\n",
       "      <td>25,858</td>\n",
       "      <td>50.0</td>\n",
       "      <td>NaN</td>\n",
       "      <td>8</td>\n",
       "    </tr>\n",
       "    <tr>\n",
       "      <th>6</th>\n",
       "      <td>The Last Letter from Your Lover</td>\n",
       "      <td>2021</td>\n",
       "      <td>\\nDrama, Romance</td>\n",
       "      <td>6.8</td>\n",
       "      <td>\\nA pair of interwoven stories set in the past...</td>\n",
       "      <td>\\n    Director:\\nAugustine Frizzell\\n| \\n    S...</td>\n",
       "      <td>5,283</td>\n",
       "      <td>110.0</td>\n",
       "      <td>NaN</td>\n",
       "      <td>5</td>\n",
       "    </tr>\n",
       "    <tr>\n",
       "      <th>7</th>\n",
       "      <td>Dexter</td>\n",
       "      <td>NaN</td>\n",
       "      <td>\\nCrime, Drama, Mystery</td>\n",
       "      <td>8.6</td>\n",
       "      <td>\\nBy day, mild-mannered Dexter is a blood-spat...</td>\n",
       "      <td>\\n            \\n    Stars:\\nMichael C. Hall, \\...</td>\n",
       "      <td>6,65,387</td>\n",
       "      <td>53.0</td>\n",
       "      <td>NaN</td>\n",
       "      <td>11</td>\n",
       "    </tr>\n",
       "    <tr>\n",
       "      <th>8</th>\n",
       "      <td>Never Have I Ever</td>\n",
       "      <td>2020</td>\n",
       "      <td>\\nComedy</td>\n",
       "      <td>7.9</td>\n",
       "      <td>\\nThe complicated life of a modern-day first g...</td>\n",
       "      <td>\\n            \\n    Stars:\\nMaitreyi Ramakrish...</td>\n",
       "      <td>34,530</td>\n",
       "      <td>30.0</td>\n",
       "      <td>NaN</td>\n",
       "      <td>8</td>\n",
       "    </tr>\n",
       "    <tr>\n",
       "      <th>9</th>\n",
       "      <td>Virgin River</td>\n",
       "      <td>2019</td>\n",
       "      <td>\\nDrama, Romance</td>\n",
       "      <td>7.4</td>\n",
       "      <td>\\nSeeking a fresh start, nurse practitioner Me...</td>\n",
       "      <td>\\n            \\n    Stars:\\nAlexandra Breckenr...</td>\n",
       "      <td>27,279</td>\n",
       "      <td>44.0</td>\n",
       "      <td>NaN</td>\n",
       "      <td>8</td>\n",
       "    </tr>\n",
       "    <tr>\n",
       "      <th>10</th>\n",
       "      <td>Gunpowder Milkshake</td>\n",
       "      <td>2021</td>\n",
       "      <td>\\nAction, Adventure, Thriller</td>\n",
       "      <td>6.0</td>\n",
       "      <td>\\nThree generations of women fight back agains...</td>\n",
       "      <td>\\n    Director:\\nNavot Papushado\\n| \\n    Star...</td>\n",
       "      <td>17,989</td>\n",
       "      <td>114.0</td>\n",
       "      <td>NaN</td>\n",
       "      <td>5</td>\n",
       "    </tr>\n",
       "    <tr>\n",
       "      <th>11</th>\n",
       "      <td>Lucifer</td>\n",
       "      <td>NaN</td>\n",
       "      <td>\\nCrime, Drama, Fantasy</td>\n",
       "      <td>8.1</td>\n",
       "      <td>\\nLucifer Morningstar has decided he's had eno...</td>\n",
       "      <td>\\n            \\n    Stars:\\nTom Ellis, \\nLesle...</td>\n",
       "      <td>2,64,222</td>\n",
       "      <td>42.0</td>\n",
       "      <td>NaN</td>\n",
       "      <td>11</td>\n",
       "    </tr>\n",
       "    <tr>\n",
       "      <th>12</th>\n",
       "      <td>Fear Street: 1994</td>\n",
       "      <td>2021</td>\n",
       "      <td>\\nDrama, Horror, Mystery</td>\n",
       "      <td>6.2</td>\n",
       "      <td>\\nA circle of teenage friends accidentally enc...</td>\n",
       "      <td>\\n    Director:\\nLeigh Janiak\\n| \\n    Stars:\\...</td>\n",
       "      <td>50,148</td>\n",
       "      <td>107.0</td>\n",
       "      <td>NaN</td>\n",
       "      <td>5</td>\n",
       "    </tr>\n",
       "    <tr>\n",
       "      <th>13</th>\n",
       "      <td>Sex/Life</td>\n",
       "      <td>2021</td>\n",
       "      <td>\\nComedy, Drama, Romance</td>\n",
       "      <td>5.4</td>\n",
       "      <td>\\nA suburban mother of two takes a fantasy-cha...</td>\n",
       "      <td>\\n            \\n    Stars:\\nSarah Shahi, \\nMik...</td>\n",
       "      <td>12,172</td>\n",
       "      <td>NaN</td>\n",
       "      <td>NaN</td>\n",
       "      <td>8</td>\n",
       "    </tr>\n",
       "    <tr>\n",
       "      <th>14</th>\n",
       "      <td>American Horror Story</td>\n",
       "      <td>2011</td>\n",
       "      <td>\\nDrama, Horror, Thriller</td>\n",
       "      <td>8.0</td>\n",
       "      <td>\\nAn anthology series centering on different c...</td>\n",
       "      <td>\\n            \\n    Stars:\\nLady Gaga, \\nKathy...</td>\n",
       "      <td>2,86,488</td>\n",
       "      <td>60.0</td>\n",
       "      <td>NaN</td>\n",
       "      <td>8</td>\n",
       "    </tr>\n",
       "    <tr>\n",
       "      <th>15</th>\n",
       "      <td>Grey's Anatomy</td>\n",
       "      <td>2005</td>\n",
       "      <td>\\nDrama, Romance</td>\n",
       "      <td>7.5</td>\n",
       "      <td>\\nA drama centered on the personal and profess...</td>\n",
       "      <td>\\n            \\n    Stars:\\nEllen Pompeo, \\nCh...</td>\n",
       "      <td>2,66,258</td>\n",
       "      <td>41.0</td>\n",
       "      <td>NaN</td>\n",
       "      <td>8</td>\n",
       "    </tr>\n",
       "    <tr>\n",
       "      <th>16</th>\n",
       "      <td>Breaking Bad</td>\n",
       "      <td>NaN</td>\n",
       "      <td>\\nCrime, Drama, Thriller</td>\n",
       "      <td>9.4</td>\n",
       "      <td>\\nA high school chemistry teacher diagnosed wi...</td>\n",
       "      <td>\\n            \\n    Stars:\\nBryan Cranston, \\n...</td>\n",
       "      <td>15,52,311</td>\n",
       "      <td>49.0</td>\n",
       "      <td>NaN</td>\n",
       "      <td>11</td>\n",
       "    </tr>\n",
       "    <tr>\n",
       "      <th>17</th>\n",
       "      <td>The Good Doctor</td>\n",
       "      <td>2017</td>\n",
       "      <td>\\nDrama</td>\n",
       "      <td>8.1</td>\n",
       "      <td>\\nShaun Murphy, a young surgeon with autism an...</td>\n",
       "      <td>\\n            \\n    Stars:\\nFreddie Highmore, ...</td>\n",
       "      <td>70,871</td>\n",
       "      <td>41.0</td>\n",
       "      <td>NaN</td>\n",
       "      <td>8</td>\n",
       "    </tr>\n",
       "    <tr>\n",
       "      <th>18</th>\n",
       "      <td>Atypical</td>\n",
       "      <td>NaN</td>\n",
       "      <td>\\nComedy, Drama</td>\n",
       "      <td>8.3</td>\n",
       "      <td>\\nSam, an 18-year-old on the autism spectrum, ...</td>\n",
       "      <td>\\n            \\n    Stars:\\nJennifer Jason Lei...</td>\n",
       "      <td>71,544</td>\n",
       "      <td>30.0</td>\n",
       "      <td>NaN</td>\n",
       "      <td>11</td>\n",
       "    </tr>\n",
       "    <tr>\n",
       "      <th>19</th>\n",
       "      <td>Stranger Things</td>\n",
       "      <td>2016</td>\n",
       "      <td>\\nDrama, Fantasy, Horror</td>\n",
       "      <td>8.7</td>\n",
       "      <td>\\nWhen a young boy disappears, his mother, a p...</td>\n",
       "      <td>\\n            \\n    Stars:\\nMillie Bobby Brown...</td>\n",
       "      <td>8,85,856</td>\n",
       "      <td>51.0</td>\n",
       "      <td>NaN</td>\n",
       "      <td>8</td>\n",
       "    </tr>\n",
       "  </tbody>\n",
       "</table>\n",
       "</div>"
      ],
      "text/plain": [
       "                                 MOVIES  YEAR  \\\n",
       "0                         Blood Red Sky  2021   \n",
       "1   Masters of the Universe: Revelation  2021   \n",
       "2                      The Walking Dead   NaN   \n",
       "3                        Rick and Morty  2013   \n",
       "4                       Army of Thieves  2021   \n",
       "5                           Outer Banks  2020   \n",
       "6       The Last Letter from Your Lover  2021   \n",
       "7                                Dexter   NaN   \n",
       "8                     Never Have I Ever  2020   \n",
       "9                          Virgin River  2019   \n",
       "10                  Gunpowder Milkshake  2021   \n",
       "11                              Lucifer   NaN   \n",
       "12                    Fear Street: 1994  2021   \n",
       "13                             Sex/Life  2021   \n",
       "14                American Horror Story  2011   \n",
       "15                       Grey's Anatomy  2005   \n",
       "16                         Breaking Bad   NaN   \n",
       "17                      The Good Doctor  2017   \n",
       "18                             Atypical   NaN   \n",
       "19                      Stranger Things  2016   \n",
       "\n",
       "                                         GENRE  RATING  \\\n",
       "0       \\nAction, Horror, Thriller                 6.1   \n",
       "1   \\nAnimation, Action, Adventure                 5.0   \n",
       "2        \\nDrama, Horror, Thriller                 8.2   \n",
       "3   \\nAnimation, Adventure, Comedy                 9.2   \n",
       "4          \\nAction, Crime, Horror                 NaN   \n",
       "5           \\nAction, Crime, Drama                 7.6   \n",
       "6                 \\nDrama, Romance                 6.8   \n",
       "7          \\nCrime, Drama, Mystery                 8.6   \n",
       "8                         \\nComedy                 7.9   \n",
       "9                 \\nDrama, Romance                 7.4   \n",
       "10   \\nAction, Adventure, Thriller                 6.0   \n",
       "11         \\nCrime, Drama, Fantasy                 8.1   \n",
       "12        \\nDrama, Horror, Mystery                 6.2   \n",
       "13        \\nComedy, Drama, Romance                 5.4   \n",
       "14       \\nDrama, Horror, Thriller                 8.0   \n",
       "15                \\nDrama, Romance                 7.5   \n",
       "16        \\nCrime, Drama, Thriller                 9.4   \n",
       "17                         \\nDrama                 8.1   \n",
       "18                 \\nComedy, Drama                 8.3   \n",
       "19        \\nDrama, Fantasy, Horror                 8.7   \n",
       "\n",
       "                                             ONE-LINE  \\\n",
       "0   \\nA woman with a mysterious illness is forced ...   \n",
       "1   \\nThe war for Eternia begins again in what may...   \n",
       "2   \\nSheriff Deputy Rick Grimes wakes up from a c...   \n",
       "3   \\nAn animated series that follows the exploits...   \n",
       "4   \\nA prequel, set before the events of Army of ...   \n",
       "5   \\nA group of teenagers from the wrong side of ...   \n",
       "6   \\nA pair of interwoven stories set in the past...   \n",
       "7   \\nBy day, mild-mannered Dexter is a blood-spat...   \n",
       "8   \\nThe complicated life of a modern-day first g...   \n",
       "9   \\nSeeking a fresh start, nurse practitioner Me...   \n",
       "10  \\nThree generations of women fight back agains...   \n",
       "11  \\nLucifer Morningstar has decided he's had eno...   \n",
       "12  \\nA circle of teenage friends accidentally enc...   \n",
       "13  \\nA suburban mother of two takes a fantasy-cha...   \n",
       "14  \\nAn anthology series centering on different c...   \n",
       "15  \\nA drama centered on the personal and profess...   \n",
       "16  \\nA high school chemistry teacher diagnosed wi...   \n",
       "17  \\nShaun Murphy, a young surgeon with autism an...   \n",
       "18  \\nSam, an 18-year-old on the autism spectrum, ...   \n",
       "19  \\nWhen a young boy disappears, his mother, a p...   \n",
       "\n",
       "                                                STARS      VOTES  RunTime  \\\n",
       "0   \\n    Director:\\nPeter Thorwarth\\n| \\n    Star...     21,062    121.0   \n",
       "1   \\n            \\n    Stars:\\nChris Wood, \\nSara...     17,870     25.0   \n",
       "2   \\n            \\n    Stars:\\nAndrew Lincoln, \\n...   8,85,805     44.0   \n",
       "3   \\n            \\n    Stars:\\nJustin Roiland, \\n...   4,14,849     23.0   \n",
       "4   \\n    Director:\\nMatthias Schweighöfer\\n| \\n  ...        NaN      NaN   \n",
       "5   \\n            \\n    Stars:\\nChase Stokes, \\nMa...     25,858     50.0   \n",
       "6   \\n    Director:\\nAugustine Frizzell\\n| \\n    S...      5,283    110.0   \n",
       "7   \\n            \\n    Stars:\\nMichael C. Hall, \\...   6,65,387     53.0   \n",
       "8   \\n            \\n    Stars:\\nMaitreyi Ramakrish...     34,530     30.0   \n",
       "9   \\n            \\n    Stars:\\nAlexandra Breckenr...     27,279     44.0   \n",
       "10  \\n    Director:\\nNavot Papushado\\n| \\n    Star...     17,989    114.0   \n",
       "11  \\n            \\n    Stars:\\nTom Ellis, \\nLesle...   2,64,222     42.0   \n",
       "12  \\n    Director:\\nLeigh Janiak\\n| \\n    Stars:\\...     50,148    107.0   \n",
       "13  \\n            \\n    Stars:\\nSarah Shahi, \\nMik...     12,172      NaN   \n",
       "14  \\n            \\n    Stars:\\nLady Gaga, \\nKathy...   2,86,488     60.0   \n",
       "15  \\n            \\n    Stars:\\nEllen Pompeo, \\nCh...   2,66,258     41.0   \n",
       "16  \\n            \\n    Stars:\\nBryan Cranston, \\n...  15,52,311     49.0   \n",
       "17  \\n            \\n    Stars:\\nFreddie Highmore, ...     70,871     41.0   \n",
       "18  \\n            \\n    Stars:\\nJennifer Jason Lei...     71,544     30.0   \n",
       "19  \\n            \\n    Stars:\\nMillie Bobby Brown...   8,85,856     51.0   \n",
       "\n",
       "   Gross  Length  \n",
       "0    NaN       5  \n",
       "1    NaN       8  \n",
       "2    NaN      11  \n",
       "3    NaN       8  \n",
       "4    NaN       5  \n",
       "5    NaN       8  \n",
       "6    NaN       5  \n",
       "7    NaN      11  \n",
       "8    NaN       8  \n",
       "9    NaN       8  \n",
       "10   NaN       5  \n",
       "11   NaN      11  \n",
       "12   NaN       5  \n",
       "13   NaN       8  \n",
       "14   NaN       8  \n",
       "15   NaN       8  \n",
       "16   NaN      11  \n",
       "17   NaN       8  \n",
       "18   NaN      11  \n",
       "19   NaN       8  "
      ]
     },
     "execution_count": 91,
     "metadata": {},
     "output_type": "execute_result"
    }
   ],
   "source": [
    "df.head(20)"
   ]
  },
  {
   "cell_type": "markdown",
   "id": "25a2e284",
   "metadata": {},
   "source": [
    "# Now the year column is completely cleaned."
   ]
  },
  {
   "cell_type": "code",
   "execution_count": 92,
   "id": "ade96490",
   "metadata": {},
   "outputs": [],
   "source": [
    "new = list(df['GENRE'].astype(str))\n",
    "new_char = []\n",
    "for i in new:\n",
    "    new_char.append(i[1:])\n",
    "df['GENRE'] = new_char"
   ]
  },
  {
   "cell_type": "code",
   "execution_count": 93,
   "id": "bb8a0077",
   "metadata": {},
   "outputs": [
    {
     "name": "stdout",
     "output_type": "stream",
     "text": [
      "['A', 'c', 't', 'i', 'o', 'n', ',', ' ', 'H', 'r', 'T', 'h', 'l', 'e', 'm', 'a', 'd', 'v', 'u', 'D', 'C', 'y', 'R', 'M', 's', 'F', 'S', '-', 'B', 'g', 'p', 'G', 'w', 'V', 'W', 'N', 'k']\n"
     ]
    }
   ],
   "source": [
    "new = list(df['GENRE'].astype(str))\n",
    "new_char = []\n",
    "\n",
    "for i in new:\n",
    "    for char in i:\n",
    "        if char not in new_char:\n",
    "            new_char.append(char)\n",
    "print(new_char)"
   ]
  },
  {
   "cell_type": "code",
   "execution_count": 94,
   "id": "9606db99",
   "metadata": {
    "scrolled": true
   },
   "outputs": [
    {
     "data": {
      "text/html": [
       "<div>\n",
       "<style scoped>\n",
       "    .dataframe tbody tr th:only-of-type {\n",
       "        vertical-align: middle;\n",
       "    }\n",
       "\n",
       "    .dataframe tbody tr th {\n",
       "        vertical-align: top;\n",
       "    }\n",
       "\n",
       "    .dataframe thead th {\n",
       "        text-align: right;\n",
       "    }\n",
       "</style>\n",
       "<table border=\"1\" class=\"dataframe\">\n",
       "  <thead>\n",
       "    <tr style=\"text-align: right;\">\n",
       "      <th></th>\n",
       "      <th>MOVIES</th>\n",
       "      <th>YEAR</th>\n",
       "      <th>GENRE</th>\n",
       "      <th>RATING</th>\n",
       "      <th>ONE-LINE</th>\n",
       "      <th>STARS</th>\n",
       "      <th>VOTES</th>\n",
       "      <th>RunTime</th>\n",
       "      <th>Gross</th>\n",
       "      <th>Length</th>\n",
       "    </tr>\n",
       "  </thead>\n",
       "  <tbody>\n",
       "    <tr>\n",
       "      <th>0</th>\n",
       "      <td>Blood Red Sky</td>\n",
       "      <td>2021</td>\n",
       "      <td>Action, Horror, Thriller</td>\n",
       "      <td>6.1</td>\n",
       "      <td>\\nA woman with a mysterious illness is forced ...</td>\n",
       "      <td>\\n    Director:\\nPeter Thorwarth\\n| \\n    Star...</td>\n",
       "      <td>21,062</td>\n",
       "      <td>121.0</td>\n",
       "      <td>NaN</td>\n",
       "      <td>5</td>\n",
       "    </tr>\n",
       "    <tr>\n",
       "      <th>1</th>\n",
       "      <td>Masters of the Universe: Revelation</td>\n",
       "      <td>2021</td>\n",
       "      <td>Animation, Action, Adventure</td>\n",
       "      <td>5.0</td>\n",
       "      <td>\\nThe war for Eternia begins again in what may...</td>\n",
       "      <td>\\n            \\n    Stars:\\nChris Wood, \\nSara...</td>\n",
       "      <td>17,870</td>\n",
       "      <td>25.0</td>\n",
       "      <td>NaN</td>\n",
       "      <td>8</td>\n",
       "    </tr>\n",
       "    <tr>\n",
       "      <th>2</th>\n",
       "      <td>The Walking Dead</td>\n",
       "      <td>NaN</td>\n",
       "      <td>Drama, Horror, Thriller</td>\n",
       "      <td>8.2</td>\n",
       "      <td>\\nSheriff Deputy Rick Grimes wakes up from a c...</td>\n",
       "      <td>\\n            \\n    Stars:\\nAndrew Lincoln, \\n...</td>\n",
       "      <td>8,85,805</td>\n",
       "      <td>44.0</td>\n",
       "      <td>NaN</td>\n",
       "      <td>11</td>\n",
       "    </tr>\n",
       "    <tr>\n",
       "      <th>3</th>\n",
       "      <td>Rick and Morty</td>\n",
       "      <td>2013</td>\n",
       "      <td>Animation, Adventure, Comedy</td>\n",
       "      <td>9.2</td>\n",
       "      <td>\\nAn animated series that follows the exploits...</td>\n",
       "      <td>\\n            \\n    Stars:\\nJustin Roiland, \\n...</td>\n",
       "      <td>4,14,849</td>\n",
       "      <td>23.0</td>\n",
       "      <td>NaN</td>\n",
       "      <td>8</td>\n",
       "    </tr>\n",
       "    <tr>\n",
       "      <th>4</th>\n",
       "      <td>Army of Thieves</td>\n",
       "      <td>2021</td>\n",
       "      <td>Action, Crime, Horror</td>\n",
       "      <td>NaN</td>\n",
       "      <td>\\nA prequel, set before the events of Army of ...</td>\n",
       "      <td>\\n    Director:\\nMatthias Schweighöfer\\n| \\n  ...</td>\n",
       "      <td>NaN</td>\n",
       "      <td>NaN</td>\n",
       "      <td>NaN</td>\n",
       "      <td>5</td>\n",
       "    </tr>\n",
       "  </tbody>\n",
       "</table>\n",
       "</div>"
      ],
      "text/plain": [
       "                                MOVIES  YEAR  \\\n",
       "0                        Blood Red Sky  2021   \n",
       "1  Masters of the Universe: Revelation  2021   \n",
       "2                     The Walking Dead   NaN   \n",
       "3                       Rick and Morty  2013   \n",
       "4                      Army of Thieves  2021   \n",
       "\n",
       "                                      GENRE  RATING  \\\n",
       "0      Action, Horror, Thriller                 6.1   \n",
       "1  Animation, Action, Adventure                 5.0   \n",
       "2       Drama, Horror, Thriller                 8.2   \n",
       "3  Animation, Adventure, Comedy                 9.2   \n",
       "4         Action, Crime, Horror                 NaN   \n",
       "\n",
       "                                            ONE-LINE  \\\n",
       "0  \\nA woman with a mysterious illness is forced ...   \n",
       "1  \\nThe war for Eternia begins again in what may...   \n",
       "2  \\nSheriff Deputy Rick Grimes wakes up from a c...   \n",
       "3  \\nAn animated series that follows the exploits...   \n",
       "4  \\nA prequel, set before the events of Army of ...   \n",
       "\n",
       "                                               STARS     VOTES  RunTime Gross  \\\n",
       "0  \\n    Director:\\nPeter Thorwarth\\n| \\n    Star...    21,062    121.0   NaN   \n",
       "1  \\n            \\n    Stars:\\nChris Wood, \\nSara...    17,870     25.0   NaN   \n",
       "2  \\n            \\n    Stars:\\nAndrew Lincoln, \\n...  8,85,805     44.0   NaN   \n",
       "3  \\n            \\n    Stars:\\nJustin Roiland, \\n...  4,14,849     23.0   NaN   \n",
       "4  \\n    Director:\\nMatthias Schweighöfer\\n| \\n  ...       NaN      NaN   NaN   \n",
       "\n",
       "   Length  \n",
       "0       5  \n",
       "1       8  \n",
       "2      11  \n",
       "3       8  \n",
       "4       5  "
      ]
     },
     "execution_count": 94,
     "metadata": {},
     "output_type": "execute_result"
    }
   ],
   "source": [
    "df.head()"
   ]
  },
  {
   "cell_type": "markdown",
   "id": "ee3058dd",
   "metadata": {},
   "source": [
    "# We are done with column Genre as well!"
   ]
  },
  {
   "cell_type": "code",
   "execution_count": 95,
   "id": "0b4f29d6",
   "metadata": {},
   "outputs": [
    {
     "name": "stdout",
     "output_type": "stream",
     "text": [
      "['\\n', ' ', '!', '\"', '#', '$', '%', '&', \"'\", '(', ')', '*', '+', ',', '-', '.', '/', '0', '1', '2', '3', '4', '5', '6', '7', '8', '9', ':', ';', '=', '?', 'A', 'B', 'C', 'D', 'E', 'F', 'G', 'H', 'I', 'J', 'K', 'L', 'M', 'N', 'O', 'P', 'Q', 'R', 'S', 'T', 'U', 'V', 'W', 'X', 'Y', 'Z', 'a', 'b', 'c', 'd', 'e', 'f', 'g', 'h', 'i', 'j', 'k', 'l', 'm', 'n', 'o', 'p', 'q', 'r', 's', 't', 'u', 'v', 'w', 'x', 'y', 'z', '\\xa0', '¢', '£', '¦', '«', '¬', '\\xad', '°', '»', 'Á', 'Â', 'Ã', 'Ä', 'Å', 'Ç', 'É', 'Ñ', 'Ö', 'à', 'á', 'â', 'ã', 'ä', 'å', 'ç', 'è', 'é', 'ë', 'í', 'î', 'ï', 'ñ', 'ò', 'ó', 'ô', 'ö', 'ø', 'ú', 'û', 'ü', 'ý', '–', '—', '‘', '’']\n"
     ]
    }
   ],
   "source": [
    "new = list(df['ONE-LINE'].astype(str))\n",
    "new_char = []\n",
    "\n",
    "for i in new:\n",
    "    for char in i:\n",
    "        if char not in new_char:\n",
    "            new_char.append(char)\n",
    "new_char.sort()\n",
    "print(new_char)"
   ]
  },
  {
   "cell_type": "code",
   "execution_count": 96,
   "id": "541ea4c0",
   "metadata": {},
   "outputs": [],
   "source": [
    "import re"
   ]
  },
  {
   "cell_type": "code",
   "execution_count": 97,
   "id": "73e86b66",
   "metadata": {},
   "outputs": [
    {
     "data": {
      "text/plain": [
       "0       \\nA woman with a mysterious illness is forced ...\n",
       "1       \\nThe war for Eternia begins again in what may...\n",
       "2       \\nSheriff Deputy Rick Grimes wakes up from a c...\n",
       "3       \\nAn animated series that follows the exploits...\n",
       "4       \\nA prequel, set before the events of Army of ...\n",
       "                              ...                        \n",
       "9994                                       \\nAdd a Plot\\n\n",
       "9995                                       \\nAdd a Plot\\n\n",
       "9996                                       \\nAdd a Plot\\n\n",
       "9997                                       \\nAdd a Plot\\n\n",
       "9998                                       \\nAdd a Plot\\n\n",
       "Name: ONE-LINE, Length: 9999, dtype: object"
      ]
     },
     "execution_count": 97,
     "metadata": {},
     "output_type": "execute_result"
    }
   ],
   "source": [
    "df['ONE-LINE']"
   ]
  },
  {
   "cell_type": "code",
   "execution_count": 98,
   "id": "d46ae4ac",
   "metadata": {
    "scrolled": false
   },
   "outputs": [
    {
     "name": "stdout",
     "output_type": "stream",
     "text": [
      "0       A woman with a mysterious illness is forced in...\n",
      "1       The war for Eternia begins again in what may b...\n",
      "2       Sheriff Deputy Rick Grimes wakes up from a com...\n",
      "3       An animated series that follows the exploits o...\n",
      "4       A prequel set before the events of Army of the...\n",
      "                              ...                        \n",
      "9994                                                 <NA>\n",
      "9995                                                 <NA>\n",
      "9996                                                 <NA>\n",
      "9997                                                 <NA>\n",
      "9998                                                 <NA>\n",
      "Name: ONE-LINE, Length: 9999, dtype: object\n"
     ]
    }
   ],
   "source": [
    "# Define a function to clean the text\n",
    "def clean_text(text):\n",
    "    # Remove leading/trailing spaces\n",
    "    text = text.strip()\n",
    "    \n",
    "    # Remove special characters using regex\n",
    "    text = re.sub(r'[^\\w\\s]', '', text)\n",
    "    \n",
    "    # Remove extra spaces\n",
    "    text = re.sub(r'\\s+', ' ', text)\n",
    "    \n",
    "    return text\n",
    "\n",
    "# Apply the cleaning function to the 'ONE-LINE' column\n",
    "df['ONE-LINE'] = df['ONE-LINE'].apply(clean_text)\n",
    "# Replace 'Add a Plot' entries with NaN\n",
    "df['ONE-LINE'] = df['ONE-LINE'].replace('Add a Plot', pd.NA)\n",
    "\n",
    "print(df['ONE-LINE'])"
   ]
  },
  {
   "cell_type": "code",
   "execution_count": 99,
   "id": "5c0892b5",
   "metadata": {},
   "outputs": [
    {
     "name": "stdout",
     "output_type": "stream",
     "text": [
      "[' ', '0', '1', '2', '3', '4', '5', '6', '7', '8', '9', '<', '>', 'A', 'B', 'C', 'D', 'E', 'F', 'G', 'H', 'I', 'J', 'K', 'L', 'M', 'N', 'O', 'P', 'Q', 'R', 'S', 'T', 'U', 'V', 'W', 'X', 'Y', 'Z', 'a', 'b', 'c', 'd', 'e', 'f', 'g', 'h', 'i', 'j', 'k', 'l', 'm', 'n', 'o', 'p', 'q', 'r', 's', 't', 'u', 'v', 'w', 'x', 'y', 'z', 'Á', 'Â', 'Ã', 'Ä', 'Å', 'Ç', 'É', 'Ñ', 'Ö', 'à', 'á', 'â', 'ã', 'ä', 'å', 'ç', 'è', 'é', 'ë', 'í', 'î', 'ï', 'ñ', 'ò', 'ó', 'ô', 'ö', 'ø', 'ú', 'û', 'ü', 'ý']\n"
     ]
    }
   ],
   "source": [
    "new = list(df['ONE-LINE'].astype(str))\n",
    "new_char = []\n",
    "\n",
    "for i in new:\n",
    "    for char in i:\n",
    "        if char not in new_char:\n",
    "            new_char.append(char)\n",
    "new_char.sort()\n",
    "print(new_char)"
   ]
  },
  {
   "cell_type": "code",
   "execution_count": 100,
   "id": "88a3b07d",
   "metadata": {
    "scrolled": true
   },
   "outputs": [
    {
     "data": {
      "text/html": [
       "<div>\n",
       "<style scoped>\n",
       "    .dataframe tbody tr th:only-of-type {\n",
       "        vertical-align: middle;\n",
       "    }\n",
       "\n",
       "    .dataframe tbody tr th {\n",
       "        vertical-align: top;\n",
       "    }\n",
       "\n",
       "    .dataframe thead th {\n",
       "        text-align: right;\n",
       "    }\n",
       "</style>\n",
       "<table border=\"1\" class=\"dataframe\">\n",
       "  <thead>\n",
       "    <tr style=\"text-align: right;\">\n",
       "      <th></th>\n",
       "      <th>MOVIES</th>\n",
       "      <th>YEAR</th>\n",
       "      <th>GENRE</th>\n",
       "      <th>RATING</th>\n",
       "      <th>ONE-LINE</th>\n",
       "      <th>STARS</th>\n",
       "      <th>VOTES</th>\n",
       "      <th>RunTime</th>\n",
       "      <th>Gross</th>\n",
       "      <th>Length</th>\n",
       "    </tr>\n",
       "  </thead>\n",
       "  <tbody>\n",
       "    <tr>\n",
       "      <th>0</th>\n",
       "      <td>Blood Red Sky</td>\n",
       "      <td>2021</td>\n",
       "      <td>Action, Horror, Thriller</td>\n",
       "      <td>6.1</td>\n",
       "      <td>A woman with a mysterious illness is forced in...</td>\n",
       "      <td>\\n    Director:\\nPeter Thorwarth\\n| \\n    Star...</td>\n",
       "      <td>21,062</td>\n",
       "      <td>121.0</td>\n",
       "      <td>NaN</td>\n",
       "      <td>5</td>\n",
       "    </tr>\n",
       "    <tr>\n",
       "      <th>1</th>\n",
       "      <td>Masters of the Universe: Revelation</td>\n",
       "      <td>2021</td>\n",
       "      <td>Animation, Action, Adventure</td>\n",
       "      <td>5.0</td>\n",
       "      <td>The war for Eternia begins again in what may b...</td>\n",
       "      <td>\\n            \\n    Stars:\\nChris Wood, \\nSara...</td>\n",
       "      <td>17,870</td>\n",
       "      <td>25.0</td>\n",
       "      <td>NaN</td>\n",
       "      <td>8</td>\n",
       "    </tr>\n",
       "    <tr>\n",
       "      <th>2</th>\n",
       "      <td>The Walking Dead</td>\n",
       "      <td>NaN</td>\n",
       "      <td>Drama, Horror, Thriller</td>\n",
       "      <td>8.2</td>\n",
       "      <td>Sheriff Deputy Rick Grimes wakes up from a com...</td>\n",
       "      <td>\\n            \\n    Stars:\\nAndrew Lincoln, \\n...</td>\n",
       "      <td>8,85,805</td>\n",
       "      <td>44.0</td>\n",
       "      <td>NaN</td>\n",
       "      <td>11</td>\n",
       "    </tr>\n",
       "    <tr>\n",
       "      <th>3</th>\n",
       "      <td>Rick and Morty</td>\n",
       "      <td>2013</td>\n",
       "      <td>Animation, Adventure, Comedy</td>\n",
       "      <td>9.2</td>\n",
       "      <td>An animated series that follows the exploits o...</td>\n",
       "      <td>\\n            \\n    Stars:\\nJustin Roiland, \\n...</td>\n",
       "      <td>4,14,849</td>\n",
       "      <td>23.0</td>\n",
       "      <td>NaN</td>\n",
       "      <td>8</td>\n",
       "    </tr>\n",
       "    <tr>\n",
       "      <th>4</th>\n",
       "      <td>Army of Thieves</td>\n",
       "      <td>2021</td>\n",
       "      <td>Action, Crime, Horror</td>\n",
       "      <td>NaN</td>\n",
       "      <td>A prequel set before the events of Army of the...</td>\n",
       "      <td>\\n    Director:\\nMatthias Schweighöfer\\n| \\n  ...</td>\n",
       "      <td>NaN</td>\n",
       "      <td>NaN</td>\n",
       "      <td>NaN</td>\n",
       "      <td>5</td>\n",
       "    </tr>\n",
       "  </tbody>\n",
       "</table>\n",
       "</div>"
      ],
      "text/plain": [
       "                                MOVIES  YEAR  \\\n",
       "0                        Blood Red Sky  2021   \n",
       "1  Masters of the Universe: Revelation  2021   \n",
       "2                     The Walking Dead   NaN   \n",
       "3                       Rick and Morty  2013   \n",
       "4                      Army of Thieves  2021   \n",
       "\n",
       "                                      GENRE  RATING  \\\n",
       "0      Action, Horror, Thriller                 6.1   \n",
       "1  Animation, Action, Adventure                 5.0   \n",
       "2       Drama, Horror, Thriller                 8.2   \n",
       "3  Animation, Adventure, Comedy                 9.2   \n",
       "4         Action, Crime, Horror                 NaN   \n",
       "\n",
       "                                            ONE-LINE  \\\n",
       "0  A woman with a mysterious illness is forced in...   \n",
       "1  The war for Eternia begins again in what may b...   \n",
       "2  Sheriff Deputy Rick Grimes wakes up from a com...   \n",
       "3  An animated series that follows the exploits o...   \n",
       "4  A prequel set before the events of Army of the...   \n",
       "\n",
       "                                               STARS     VOTES  RunTime Gross  \\\n",
       "0  \\n    Director:\\nPeter Thorwarth\\n| \\n    Star...    21,062    121.0   NaN   \n",
       "1  \\n            \\n    Stars:\\nChris Wood, \\nSara...    17,870     25.0   NaN   \n",
       "2  \\n            \\n    Stars:\\nAndrew Lincoln, \\n...  8,85,805     44.0   NaN   \n",
       "3  \\n            \\n    Stars:\\nJustin Roiland, \\n...  4,14,849     23.0   NaN   \n",
       "4  \\n    Director:\\nMatthias Schweighöfer\\n| \\n  ...       NaN      NaN   NaN   \n",
       "\n",
       "   Length  \n",
       "0       5  \n",
       "1       8  \n",
       "2      11  \n",
       "3       8  \n",
       "4       5  "
      ]
     },
     "execution_count": 100,
     "metadata": {},
     "output_type": "execute_result"
    }
   ],
   "source": [
    "df.head()"
   ]
  },
  {
   "cell_type": "markdown",
   "id": "3c575926",
   "metadata": {},
   "source": [
    "# Now the One-Line column is somewhat clean"
   ]
  },
  {
   "cell_type": "code",
   "execution_count": 101,
   "id": "8b646e6e",
   "metadata": {},
   "outputs": [
    {
     "name": "stdout",
     "output_type": "stream",
     "text": [
      "['2', '1', ',', '0', '6', '7', '8', '5', '4', '9', 'n', 'a', '3']\n"
     ]
    }
   ],
   "source": [
    "df['VOTES'] = df['VOTES'].astype('str')\n",
    "new = list(df['VOTES'])\n",
    "\n",
    "new_char = []\n",
    "for i in new:\n",
    "    for char in i:\n",
    "        if char not in new_char:\n",
    "            new_char.append(char)\n",
    "            \n",
    "print(new_char)"
   ]
  },
  {
   "cell_type": "code",
   "execution_count": 102,
   "id": "cbfc84c0",
   "metadata": {},
   "outputs": [],
   "source": [
    "# We can just strip the comma and we are good to go with the column VOTES"
   ]
  },
  {
   "cell_type": "code",
   "execution_count": 103,
   "id": "7d401e9f",
   "metadata": {},
   "outputs": [],
   "source": [
    "df['VOTES'] = df['VOTES'].str.replace(',','')"
   ]
  },
  {
   "cell_type": "code",
   "execution_count": 104,
   "id": "64d51020",
   "metadata": {
    "scrolled": true
   },
   "outputs": [
    {
     "name": "stdout",
     "output_type": "stream",
     "text": [
      "['1', '2', '.', '0', '5', '4', '3', 'n', 'a', '7', '6', '9', '8']\n"
     ]
    }
   ],
   "source": [
    "df['RunTime'] = df['RunTime'].astype('str')\n",
    "new = list(df['RunTime'])\n",
    "\n",
    "new_char = []\n",
    "for i in new:\n",
    "    for char in i:\n",
    "        if char not in new_char:\n",
    "            new_char.append(char)\n",
    "            \n",
    "print(new_char)"
   ]
  },
  {
   "cell_type": "code",
   "execution_count": 105,
   "id": "249aebc5",
   "metadata": {
    "scrolled": true
   },
   "outputs": [
    {
     "data": {
      "text/plain": [
       "$0.01M     22\n",
       "$0.02M     16\n",
       "$0.00M     15\n",
       "$0.03M     10\n",
       "$0.04M      9\n",
       "           ..\n",
       "$37.77M     1\n",
       "$44.82M     1\n",
       "$21.36M     1\n",
       "$54.76M     1\n",
       "$10.40M     1\n",
       "Name: Gross, Length: 332, dtype: int64"
      ]
     },
     "execution_count": 105,
     "metadata": {},
     "output_type": "execute_result"
    }
   ],
   "source": [
    "df['Gross'].value_counts()"
   ]
  },
  {
   "cell_type": "code",
   "execution_count": 106,
   "id": "0fe343dd",
   "metadata": {},
   "outputs": [
    {
     "name": "stderr",
     "output_type": "stream",
     "text": [
      "C:\\Users\\sidja\\AppData\\Local\\Temp\\ipykernel_7584\\2472368531.py:1: FutureWarning: The default value of regex will change from True to False in a future version. In addition, single character regular expressions will *not* be treated as literal strings when regex=True.\n",
      "  df['Gross'] = df['Gross'].str.replace('$','')\n"
     ]
    }
   ],
   "source": [
    "df['Gross'] = df['Gross'].str.replace('$','')\n",
    "df['Gross'] = df['Gross'].str.replace('M','')"
   ]
  },
  {
   "cell_type": "code",
   "execution_count": 107,
   "id": "53a7cfd6",
   "metadata": {},
   "outputs": [
    {
     "data": {
      "text/plain": [
       "0.01     22\n",
       "0.02     16\n",
       "0.00     15\n",
       "0.03     10\n",
       "0.04      9\n",
       "         ..\n",
       "37.77     1\n",
       "44.82     1\n",
       "21.36     1\n",
       "54.76     1\n",
       "10.40     1\n",
       "Name: Gross, Length: 332, dtype: int64"
      ]
     },
     "execution_count": 107,
     "metadata": {},
     "output_type": "execute_result"
    }
   ],
   "source": [
    "df['Gross'].value_counts()"
   ]
  },
  {
   "cell_type": "code",
   "execution_count": 108,
   "id": "aef49741",
   "metadata": {},
   "outputs": [],
   "source": [
    "df['Gross'] = df['Gross'].astype(float)"
   ]
  },
  {
   "cell_type": "code",
   "execution_count": 109,
   "id": "4b3df0bc",
   "metadata": {},
   "outputs": [
    {
     "data": {
      "text/plain": [
       "10000.0       22\n",
       "20000.0       16\n",
       "0.0           15\n",
       "30000.0       10\n",
       "40000.0        9\n",
       "              ..\n",
       "37770000.0     1\n",
       "44820000.0     1\n",
       "21360000.0     1\n",
       "54760000.0     1\n",
       "10400000.0     1\n",
       "Name: Gross, Length: 332, dtype: int64"
      ]
     },
     "execution_count": 109,
     "metadata": {},
     "output_type": "execute_result"
    }
   ],
   "source": [
    "df['Gross'] = df['Gross'] * 1000000\n",
    "df['Gross'].value_counts()"
   ]
  },
  {
   "cell_type": "code",
   "execution_count": 110,
   "id": "1ca1fbe5",
   "metadata": {},
   "outputs": [
    {
     "data": {
      "text/html": [
       "<div>\n",
       "<style scoped>\n",
       "    .dataframe tbody tr th:only-of-type {\n",
       "        vertical-align: middle;\n",
       "    }\n",
       "\n",
       "    .dataframe tbody tr th {\n",
       "        vertical-align: top;\n",
       "    }\n",
       "\n",
       "    .dataframe thead th {\n",
       "        text-align: right;\n",
       "    }\n",
       "</style>\n",
       "<table border=\"1\" class=\"dataframe\">\n",
       "  <thead>\n",
       "    <tr style=\"text-align: right;\">\n",
       "      <th></th>\n",
       "      <th>MOVIES</th>\n",
       "      <th>YEAR</th>\n",
       "      <th>GENRE</th>\n",
       "      <th>RATING</th>\n",
       "      <th>ONE-LINE</th>\n",
       "      <th>STARS</th>\n",
       "      <th>VOTES</th>\n",
       "      <th>RunTime</th>\n",
       "      <th>Gross</th>\n",
       "      <th>Length</th>\n",
       "    </tr>\n",
       "  </thead>\n",
       "  <tbody>\n",
       "    <tr>\n",
       "      <th>0</th>\n",
       "      <td>Blood Red Sky</td>\n",
       "      <td>2021</td>\n",
       "      <td>Action, Horror, Thriller</td>\n",
       "      <td>6.1</td>\n",
       "      <td>A woman with a mysterious illness is forced in...</td>\n",
       "      <td>\\n    Director:\\nPeter Thorwarth\\n| \\n    Star...</td>\n",
       "      <td>21062</td>\n",
       "      <td>121.0</td>\n",
       "      <td>NaN</td>\n",
       "      <td>5</td>\n",
       "    </tr>\n",
       "    <tr>\n",
       "      <th>1</th>\n",
       "      <td>Masters of the Universe: Revelation</td>\n",
       "      <td>2021</td>\n",
       "      <td>Animation, Action, Adventure</td>\n",
       "      <td>5.0</td>\n",
       "      <td>The war for Eternia begins again in what may b...</td>\n",
       "      <td>\\n            \\n    Stars:\\nChris Wood, \\nSara...</td>\n",
       "      <td>17870</td>\n",
       "      <td>25.0</td>\n",
       "      <td>NaN</td>\n",
       "      <td>8</td>\n",
       "    </tr>\n",
       "    <tr>\n",
       "      <th>2</th>\n",
       "      <td>The Walking Dead</td>\n",
       "      <td>NaN</td>\n",
       "      <td>Drama, Horror, Thriller</td>\n",
       "      <td>8.2</td>\n",
       "      <td>Sheriff Deputy Rick Grimes wakes up from a com...</td>\n",
       "      <td>\\n            \\n    Stars:\\nAndrew Lincoln, \\n...</td>\n",
       "      <td>885805</td>\n",
       "      <td>44.0</td>\n",
       "      <td>NaN</td>\n",
       "      <td>11</td>\n",
       "    </tr>\n",
       "    <tr>\n",
       "      <th>3</th>\n",
       "      <td>Rick and Morty</td>\n",
       "      <td>2013</td>\n",
       "      <td>Animation, Adventure, Comedy</td>\n",
       "      <td>9.2</td>\n",
       "      <td>An animated series that follows the exploits o...</td>\n",
       "      <td>\\n            \\n    Stars:\\nJustin Roiland, \\n...</td>\n",
       "      <td>414849</td>\n",
       "      <td>23.0</td>\n",
       "      <td>NaN</td>\n",
       "      <td>8</td>\n",
       "    </tr>\n",
       "    <tr>\n",
       "      <th>4</th>\n",
       "      <td>Army of Thieves</td>\n",
       "      <td>2021</td>\n",
       "      <td>Action, Crime, Horror</td>\n",
       "      <td>NaN</td>\n",
       "      <td>A prequel set before the events of Army of the...</td>\n",
       "      <td>\\n    Director:\\nMatthias Schweighöfer\\n| \\n  ...</td>\n",
       "      <td>nan</td>\n",
       "      <td>nan</td>\n",
       "      <td>NaN</td>\n",
       "      <td>5</td>\n",
       "    </tr>\n",
       "  </tbody>\n",
       "</table>\n",
       "</div>"
      ],
      "text/plain": [
       "                                MOVIES  YEAR  \\\n",
       "0                        Blood Red Sky  2021   \n",
       "1  Masters of the Universe: Revelation  2021   \n",
       "2                     The Walking Dead   NaN   \n",
       "3                       Rick and Morty  2013   \n",
       "4                      Army of Thieves  2021   \n",
       "\n",
       "                                      GENRE  RATING  \\\n",
       "0      Action, Horror, Thriller                 6.1   \n",
       "1  Animation, Action, Adventure                 5.0   \n",
       "2       Drama, Horror, Thriller                 8.2   \n",
       "3  Animation, Adventure, Comedy                 9.2   \n",
       "4         Action, Crime, Horror                 NaN   \n",
       "\n",
       "                                            ONE-LINE  \\\n",
       "0  A woman with a mysterious illness is forced in...   \n",
       "1  The war for Eternia begins again in what may b...   \n",
       "2  Sheriff Deputy Rick Grimes wakes up from a com...   \n",
       "3  An animated series that follows the exploits o...   \n",
       "4  A prequel set before the events of Army of the...   \n",
       "\n",
       "                                               STARS   VOTES RunTime  Gross  \\\n",
       "0  \\n    Director:\\nPeter Thorwarth\\n| \\n    Star...   21062   121.0    NaN   \n",
       "1  \\n            \\n    Stars:\\nChris Wood, \\nSara...   17870    25.0    NaN   \n",
       "2  \\n            \\n    Stars:\\nAndrew Lincoln, \\n...  885805    44.0    NaN   \n",
       "3  \\n            \\n    Stars:\\nJustin Roiland, \\n...  414849    23.0    NaN   \n",
       "4  \\n    Director:\\nMatthias Schweighöfer\\n| \\n  ...     nan     nan    NaN   \n",
       "\n",
       "   Length  \n",
       "0       5  \n",
       "1       8  \n",
       "2      11  \n",
       "3       8  \n",
       "4       5  "
      ]
     },
     "execution_count": 110,
     "metadata": {},
     "output_type": "execute_result"
    }
   ],
   "source": [
    "df.head()"
   ]
  },
  {
   "cell_type": "code",
   "execution_count": 111,
   "id": "9e5ac954",
   "metadata": {},
   "outputs": [],
   "source": [
    "df.drop('Length', axis = 1, inplace = True)"
   ]
  },
  {
   "cell_type": "code",
   "execution_count": 112,
   "id": "b0fadcc1",
   "metadata": {
    "scrolled": true
   },
   "outputs": [
    {
     "data": {
      "text/html": [
       "<div>\n",
       "<style scoped>\n",
       "    .dataframe tbody tr th:only-of-type {\n",
       "        vertical-align: middle;\n",
       "    }\n",
       "\n",
       "    .dataframe tbody tr th {\n",
       "        vertical-align: top;\n",
       "    }\n",
       "\n",
       "    .dataframe thead th {\n",
       "        text-align: right;\n",
       "    }\n",
       "</style>\n",
       "<table border=\"1\" class=\"dataframe\">\n",
       "  <thead>\n",
       "    <tr style=\"text-align: right;\">\n",
       "      <th></th>\n",
       "      <th>MOVIES</th>\n",
       "      <th>YEAR</th>\n",
       "      <th>GENRE</th>\n",
       "      <th>RATING</th>\n",
       "      <th>ONE-LINE</th>\n",
       "      <th>STARS</th>\n",
       "      <th>VOTES</th>\n",
       "      <th>RunTime</th>\n",
       "      <th>Gross</th>\n",
       "    </tr>\n",
       "  </thead>\n",
       "  <tbody>\n",
       "    <tr>\n",
       "      <th>0</th>\n",
       "      <td>Blood Red Sky</td>\n",
       "      <td>2021</td>\n",
       "      <td>Action, Horror, Thriller</td>\n",
       "      <td>6.1</td>\n",
       "      <td>A woman with a mysterious illness is forced in...</td>\n",
       "      <td>\\n    Director:\\nPeter Thorwarth\\n| \\n    Star...</td>\n",
       "      <td>21062</td>\n",
       "      <td>121.0</td>\n",
       "      <td>NaN</td>\n",
       "    </tr>\n",
       "    <tr>\n",
       "      <th>1</th>\n",
       "      <td>Masters of the Universe: Revelation</td>\n",
       "      <td>2021</td>\n",
       "      <td>Animation, Action, Adventure</td>\n",
       "      <td>5.0</td>\n",
       "      <td>The war for Eternia begins again in what may b...</td>\n",
       "      <td>\\n            \\n    Stars:\\nChris Wood, \\nSara...</td>\n",
       "      <td>17870</td>\n",
       "      <td>25.0</td>\n",
       "      <td>NaN</td>\n",
       "    </tr>\n",
       "    <tr>\n",
       "      <th>2</th>\n",
       "      <td>The Walking Dead</td>\n",
       "      <td>NaN</td>\n",
       "      <td>Drama, Horror, Thriller</td>\n",
       "      <td>8.2</td>\n",
       "      <td>Sheriff Deputy Rick Grimes wakes up from a com...</td>\n",
       "      <td>\\n            \\n    Stars:\\nAndrew Lincoln, \\n...</td>\n",
       "      <td>885805</td>\n",
       "      <td>44.0</td>\n",
       "      <td>NaN</td>\n",
       "    </tr>\n",
       "    <tr>\n",
       "      <th>3</th>\n",
       "      <td>Rick and Morty</td>\n",
       "      <td>2013</td>\n",
       "      <td>Animation, Adventure, Comedy</td>\n",
       "      <td>9.2</td>\n",
       "      <td>An animated series that follows the exploits o...</td>\n",
       "      <td>\\n            \\n    Stars:\\nJustin Roiland, \\n...</td>\n",
       "      <td>414849</td>\n",
       "      <td>23.0</td>\n",
       "      <td>NaN</td>\n",
       "    </tr>\n",
       "    <tr>\n",
       "      <th>4</th>\n",
       "      <td>Army of Thieves</td>\n",
       "      <td>2021</td>\n",
       "      <td>Action, Crime, Horror</td>\n",
       "      <td>NaN</td>\n",
       "      <td>A prequel set before the events of Army of the...</td>\n",
       "      <td>\\n    Director:\\nMatthias Schweighöfer\\n| \\n  ...</td>\n",
       "      <td>nan</td>\n",
       "      <td>nan</td>\n",
       "      <td>NaN</td>\n",
       "    </tr>\n",
       "  </tbody>\n",
       "</table>\n",
       "</div>"
      ],
      "text/plain": [
       "                                MOVIES  YEAR  \\\n",
       "0                        Blood Red Sky  2021   \n",
       "1  Masters of the Universe: Revelation  2021   \n",
       "2                     The Walking Dead   NaN   \n",
       "3                       Rick and Morty  2013   \n",
       "4                      Army of Thieves  2021   \n",
       "\n",
       "                                      GENRE  RATING  \\\n",
       "0      Action, Horror, Thriller                 6.1   \n",
       "1  Animation, Action, Adventure                 5.0   \n",
       "2       Drama, Horror, Thriller                 8.2   \n",
       "3  Animation, Adventure, Comedy                 9.2   \n",
       "4         Action, Crime, Horror                 NaN   \n",
       "\n",
       "                                            ONE-LINE  \\\n",
       "0  A woman with a mysterious illness is forced in...   \n",
       "1  The war for Eternia begins again in what may b...   \n",
       "2  Sheriff Deputy Rick Grimes wakes up from a com...   \n",
       "3  An animated series that follows the exploits o...   \n",
       "4  A prequel set before the events of Army of the...   \n",
       "\n",
       "                                               STARS   VOTES RunTime  Gross  \n",
       "0  \\n    Director:\\nPeter Thorwarth\\n| \\n    Star...   21062   121.0    NaN  \n",
       "1  \\n            \\n    Stars:\\nChris Wood, \\nSara...   17870    25.0    NaN  \n",
       "2  \\n            \\n    Stars:\\nAndrew Lincoln, \\n...  885805    44.0    NaN  \n",
       "3  \\n            \\n    Stars:\\nJustin Roiland, \\n...  414849    23.0    NaN  \n",
       "4  \\n    Director:\\nMatthias Schweighöfer\\n| \\n  ...     nan     nan    NaN  "
      ]
     },
     "execution_count": 112,
     "metadata": {},
     "output_type": "execute_result"
    }
   ],
   "source": [
    "df.head()"
   ]
  },
  {
   "cell_type": "markdown",
   "id": "f457a047",
   "metadata": {},
   "source": [
    "## Only the STARS Column is left to be sorted"
   ]
  },
  {
   "cell_type": "code",
   "execution_count": 113,
   "id": "61bb7433",
   "metadata": {},
   "outputs": [
    {
     "data": {
      "text/plain": [
       "\\n                                                                                                                                       456\n",
       "\\n            \\n    Stars:\\nEmmanuel Esparza, \\nEssined Aponte, \\nManuel Navarro, \\nÁlvaro Benet\\n                                        58\n",
       "\\n    Directors:\\nRajiv Chilaka, \\nKrishna Mohan Chintapatla\\n                                                                            49\n",
       "\\n    Director:\\nOliver Driver\\n| \\n    Stars:\\nRorrie D. Travis, \\nJasmeet Baduwalia, \\nJacqueline Scislowski, \\nAbraham Rodriguez\\n     21\n",
       "\\n            \\n    Star:\\nMichael J. Woodard\\n                                                                                           19\n",
       "                                                                                                                                        ... \n",
       "\\n            \\n    Stars:\\nDong-wook Kim, \\nMoon Ga-young, \\nSeul-gi Kim, \\nJong-Hoon Yoon\\n                                              1\n",
       "\\n            \\n    Stars:\\nCharles Demers, \\nRebecca Husain, \\nLili Beaudoin, \\nAshleigh Ball\\n                                           1\n",
       "\\n            \\n    Stars:\\nJohn Paul Tremblay, \\nRobb Wells, \\nMike Smith, \\nTom Mayhue\\n                                                 1\n",
       "\\n            \\n    Stars:\\nSu Meng Di, \\nDai Yun Fan, \\nCharles Lin, \\nJasper Liu\\n                                                       1\n",
       "\\n    Director:\\nJovanka Vuckovic\\n| \\n    Stars:\\nMorgan Taylor Campbell, \\nJennifer Cheon Garcia, \\nIñaki Godoy, \\nRhianna Jagpal\\n      1\n",
       "Name: STARS, Length: 7877, dtype: int64"
      ]
     },
     "execution_count": 113,
     "metadata": {},
     "output_type": "execute_result"
    }
   ],
   "source": [
    "df['STARS'].value_counts()"
   ]
  },
  {
   "cell_type": "code",
   "execution_count": 114,
   "id": "fbf58992",
   "metadata": {},
   "outputs": [
    {
     "data": {
      "text/plain": [
       "0       \\n    Director:\\nPeter Thorwarth\\n| \\n    Star...\n",
       "1       \\n            \\n    Stars:\\nChris Wood, \\nSara...\n",
       "2       \\n            \\n    Stars:\\nAndrew Lincoln, \\n...\n",
       "3       \\n            \\n    Stars:\\nJustin Roiland, \\n...\n",
       "4       \\n    Director:\\nMatthias Schweighöfer\\n| \\n  ...\n",
       "                              ...                        \n",
       "9994    \\n            \\n    Stars:\\nMorgan Taylor Camp...\n",
       "9995                                                   \\n\n",
       "9996    \\n    Director:\\nOrlando von Einsiedel\\n| \\n  ...\n",
       "9997    \\n    Director:\\nJovanka Vuckovic\\n| \\n    Sta...\n",
       "9998    \\n    Director:\\nJovanka Vuckovic\\n| \\n    Sta...\n",
       "Name: STARS, Length: 9999, dtype: object"
      ]
     },
     "execution_count": 114,
     "metadata": {},
     "output_type": "execute_result"
    }
   ],
   "source": [
    "df['STARS']"
   ]
  },
  {
   "cell_type": "code",
   "execution_count": 116,
   "id": "a45265bc",
   "metadata": {},
   "outputs": [],
   "source": [
    "df['STARS'] = df['STARS'].str.replace('\\n','')"
   ]
  },
  {
   "cell_type": "code",
   "execution_count": 174,
   "id": "ad36d44a",
   "metadata": {
    "scrolled": true
   },
   "outputs": [
    {
     "data": {
      "text/plain": [
       "                                                                                                                       456\n",
       "                Stars:Emmanuel Esparza, Essined Aponte, Manuel Navarro, Álvaro Benet                                    58\n",
       "    Directors:Rajiv Chilaka, Krishna Mohan Chintapatla                                                                  49\n",
       "    Director:Oliver Driver|     Stars:Rorrie D. Travis, Jasmeet Baduwalia, Jacqueline Scislowski, Abraham Rodriguez     21\n",
       "                Star:Michael J. Woodard                                                                                 19\n",
       "                                                                                                                      ... \n",
       "                Stars:Dong-wook Kim, Moon Ga-young, Seul-gi Kim, Jong-Hoon Yoon                                          1\n",
       "                Stars:Charles Demers, Rebecca Husain, Lili Beaudoin, Ashleigh Ball                                       1\n",
       "                Stars:John Paul Tremblay, Robb Wells, Mike Smith, Tom Mayhue                                             1\n",
       "                Stars:Su Meng Di, Dai Yun Fan, Charles Lin, Jasper Liu                                                   1\n",
       "    Director:Jovanka Vuckovic|     Stars:Morgan Taylor Campbell, Jennifer Cheon Garcia, Iñaki Godoy, Rhianna Jagpal      1\n",
       "Name: STARS, Length: 7877, dtype: int64"
      ]
     },
     "execution_count": 174,
     "metadata": {},
     "output_type": "execute_result"
    }
   ],
   "source": [
    "df['STARS'].value_counts()"
   ]
  },
  {
   "cell_type": "code",
   "execution_count": 175,
   "id": "61fd2c19",
   "metadata": {},
   "outputs": [],
   "source": [
    "new = pd.DataFrame(df['STARS'].str.split('Star', n = 1, expand = True))"
   ]
  },
  {
   "cell_type": "code",
   "execution_count": 176,
   "id": "837f9bd0",
   "metadata": {},
   "outputs": [],
   "source": [
    "new = new.rename(columns = {0 : \"Directors\", 1:\"Stars\",2 :\"Misc\"})"
   ]
  },
  {
   "cell_type": "code",
   "execution_count": 177,
   "id": "9be2f590",
   "metadata": {},
   "outputs": [
    {
     "data": {
      "text/html": [
       "<div>\n",
       "<style scoped>\n",
       "    .dataframe tbody tr th:only-of-type {\n",
       "        vertical-align: middle;\n",
       "    }\n",
       "\n",
       "    .dataframe tbody tr th {\n",
       "        vertical-align: top;\n",
       "    }\n",
       "\n",
       "    .dataframe thead th {\n",
       "        text-align: right;\n",
       "    }\n",
       "</style>\n",
       "<table border=\"1\" class=\"dataframe\">\n",
       "  <thead>\n",
       "    <tr style=\"text-align: right;\">\n",
       "      <th></th>\n",
       "      <th>Directors</th>\n",
       "      <th>Stars</th>\n",
       "    </tr>\n",
       "  </thead>\n",
       "  <tbody>\n",
       "    <tr>\n",
       "      <th>0</th>\n",
       "      <td>Director:Peter Thorwarth|</td>\n",
       "      <td>s:Peri Baumeister, Carl Anton Koch, Alexander ...</td>\n",
       "    </tr>\n",
       "    <tr>\n",
       "      <th>1</th>\n",
       "      <td></td>\n",
       "      <td>s:Chris Wood, Sarah Michelle Gellar, Lena Head...</td>\n",
       "    </tr>\n",
       "    <tr>\n",
       "      <th>2</th>\n",
       "      <td></td>\n",
       "      <td>s:Andrew Lincoln, Norman Reedus, Melissa McBri...</td>\n",
       "    </tr>\n",
       "    <tr>\n",
       "      <th>3</th>\n",
       "      <td></td>\n",
       "      <td>s:Justin Roiland, Chris Parnell, Spencer Gramm...</td>\n",
       "    </tr>\n",
       "    <tr>\n",
       "      <th>4</th>\n",
       "      <td>Director:Matthias Schweighöfer|</td>\n",
       "      <td>s:Matthias Schweighöfer, Nathalie Emmanuel, Ru...</td>\n",
       "    </tr>\n",
       "    <tr>\n",
       "      <th>...</th>\n",
       "      <td>...</td>\n",
       "      <td>...</td>\n",
       "    </tr>\n",
       "    <tr>\n",
       "      <th>9994</th>\n",
       "      <td></td>\n",
       "      <td>s:Morgan Taylor Campbell, Chris Cope, Iñaki Go...</td>\n",
       "    </tr>\n",
       "    <tr>\n",
       "      <th>9995</th>\n",
       "      <td></td>\n",
       "      <td>None</td>\n",
       "    </tr>\n",
       "    <tr>\n",
       "      <th>9996</th>\n",
       "      <td>Director:Orlando von Einsiedel|</td>\n",
       "      <td>:Prince Harry</td>\n",
       "    </tr>\n",
       "    <tr>\n",
       "      <th>9997</th>\n",
       "      <td>Director:Jovanka Vuckovic|</td>\n",
       "      <td>s:Morgan Taylor Campbell, Iñaki Godoy, Rhianna...</td>\n",
       "    </tr>\n",
       "    <tr>\n",
       "      <th>9998</th>\n",
       "      <td>Director:Jovanka Vuckovic|</td>\n",
       "      <td>s:Morgan Taylor Campbell, Jennifer Cheon Garci...</td>\n",
       "    </tr>\n",
       "  </tbody>\n",
       "</table>\n",
       "<p>9999 rows × 2 columns</p>\n",
       "</div>"
      ],
      "text/plain": [
       "                                     Directors  \\\n",
       "0               Director:Peter Thorwarth|        \n",
       "1                                                \n",
       "2                                                \n",
       "3                                                \n",
       "4         Director:Matthias Schweighöfer|        \n",
       "...                                        ...   \n",
       "9994                                             \n",
       "9995                                             \n",
       "9996      Director:Orlando von Einsiedel|        \n",
       "9997           Director:Jovanka Vuckovic|        \n",
       "9998           Director:Jovanka Vuckovic|        \n",
       "\n",
       "                                                  Stars  \n",
       "0     s:Peri Baumeister, Carl Anton Koch, Alexander ...  \n",
       "1     s:Chris Wood, Sarah Michelle Gellar, Lena Head...  \n",
       "2     s:Andrew Lincoln, Norman Reedus, Melissa McBri...  \n",
       "3     s:Justin Roiland, Chris Parnell, Spencer Gramm...  \n",
       "4     s:Matthias Schweighöfer, Nathalie Emmanuel, Ru...  \n",
       "...                                                 ...  \n",
       "9994  s:Morgan Taylor Campbell, Chris Cope, Iñaki Go...  \n",
       "9995                                               None  \n",
       "9996                                      :Prince Harry  \n",
       "9997  s:Morgan Taylor Campbell, Iñaki Godoy, Rhianna...  \n",
       "9998  s:Morgan Taylor Campbell, Jennifer Cheon Garci...  \n",
       "\n",
       "[9999 rows x 2 columns]"
      ]
     },
     "execution_count": 177,
     "metadata": {},
     "output_type": "execute_result"
    }
   ],
   "source": [
    "new"
   ]
  },
  {
   "cell_type": "code",
   "execution_count": 183,
   "id": "33b6cf8e",
   "metadata": {},
   "outputs": [],
   "source": [
    "new['Directors'] = new['Directors'].str.replace('Director','')"
   ]
  },
  {
   "cell_type": "code",
   "execution_count": 185,
   "id": "2b4a11c2",
   "metadata": {},
   "outputs": [
    {
     "name": "stderr",
     "output_type": "stream",
     "text": [
      "C:\\Users\\sidja\\AppData\\Local\\Temp\\ipykernel_7584\\1377088805.py:1: FutureWarning: The default value of regex will change from True to False in a future version. In addition, single character regular expressions will *not* be treated as literal strings when regex=True.\n",
      "  new['Directors'] = new['Directors'].str.replace('|','')\n"
     ]
    },
    {
     "data": {
      "text/plain": [
       "0                 Peter Thorwarth     \n",
       "1                                     \n",
       "2                                     \n",
       "3                                     \n",
       "4           Matthias Schweighöfer     \n",
       "                     ...              \n",
       "9994                                  \n",
       "9995                                  \n",
       "9996        Orlando von Einsiedel     \n",
       "9997             Jovanka Vuckovic     \n",
       "9998             Jovanka Vuckovic     \n",
       "Name: Directors, Length: 9999, dtype: object"
      ]
     },
     "execution_count": 185,
     "metadata": {},
     "output_type": "execute_result"
    }
   ],
   "source": [
    "new['Directors'] = new['Directors'].str.replace('|','')\n",
    "new['Directors'] = new['Directors'].str.replace(':','')\n",
    "new['Directors']"
   ]
  },
  {
   "cell_type": "code",
   "execution_count": 205,
   "id": "4e81c431",
   "metadata": {},
   "outputs": [],
   "source": [
    "new['Directors'] = new['Directors'].str.strip(' ')"
   ]
  },
  {
   "cell_type": "code",
   "execution_count": 206,
   "id": "54689fcd",
   "metadata": {},
   "outputs": [],
   "source": [
    "new['dir_len'] = new['Directors'].apply(len)"
   ]
  },
  {
   "cell_type": "code",
   "execution_count": 208,
   "id": "6c4d7ea7",
   "metadata": {},
   "outputs": [
    {
     "data": {
      "text/plain": [
       "0      3646\n",
       "13      797\n",
       "11      777\n",
       "12      758\n",
       "14      599\n",
       "       ... \n",
       "204       1\n",
       "109       1\n",
       "2         1\n",
       "106       1\n",
       "51        1\n",
       "Name: dir_len, Length: 80, dtype: int64"
      ]
     },
     "execution_count": 208,
     "metadata": {},
     "output_type": "execute_result"
    }
   ],
   "source": [
    "new['dir_len'].value_counts()"
   ]
  },
  {
   "cell_type": "code",
   "execution_count": 214,
   "id": "c8555672",
   "metadata": {},
   "outputs": [],
   "source": [
    "new.loc[new.Directors[new['dir_len'] == 0].index,'Directors'] = np.nan"
   ]
  },
  {
   "cell_type": "code",
   "execution_count": 215,
   "id": "0f72c1f3",
   "metadata": {},
   "outputs": [
    {
     "data": {
      "text/plain": [
       "0             Peter Thorwarth\n",
       "1                         NaN\n",
       "2                         NaN\n",
       "3                         NaN\n",
       "4       Matthias Schweighöfer\n",
       "                ...          \n",
       "9994                      NaN\n",
       "9995                      NaN\n",
       "9996    Orlando von Einsiedel\n",
       "9997         Jovanka Vuckovic\n",
       "9998         Jovanka Vuckovic\n",
       "Name: Directors, Length: 9999, dtype: object"
      ]
     },
     "execution_count": 215,
     "metadata": {},
     "output_type": "execute_result"
    }
   ],
   "source": [
    "new['Directors']"
   ]
  },
  {
   "cell_type": "code",
   "execution_count": 216,
   "id": "f7786166",
   "metadata": {
    "scrolled": true
   },
   "outputs": [
    {
     "data": {
      "text/plain": [
       "0       Peri Baumeister, Carl Anton Koch, Alexander Sc...\n",
       "1       Chris Wood, Sarah Michelle Gellar, Lena Headey...\n",
       "2       Andrew Lincoln, Norman Reedus, Melissa McBride...\n",
       "3       Justin Roiland, Chris Parnell, Spencer Grammer...\n",
       "4       Matthias Schweighöfer, Nathalie Emmanuel, Ruby...\n",
       "                              ...                        \n",
       "9994    Morgan Taylor Campbell, Chris Cope, Iñaki Godo...\n",
       "9995                                                 None\n",
       "9996                                         Prince Harry\n",
       "9997    Morgan Taylor Campbell, Iñaki Godoy, Rhianna J...\n",
       "9998    Morgan Taylor Campbell, Jennifer Cheon Garcia,...\n",
       "Name: Stars, Length: 9999, dtype: object"
      ]
     },
     "execution_count": 216,
     "metadata": {},
     "output_type": "execute_result"
    }
   ],
   "source": [
    "new['Stars'] = new['Stars'].str.replace('s:','')\n",
    "new['Stars'] = new['Stars'].str.replace(':','')\n",
    "new['Stars']"
   ]
  },
  {
   "cell_type": "code",
   "execution_count": 223,
   "id": "b3cbe63c",
   "metadata": {},
   "outputs": [],
   "source": [
    "new['Stars'] = new['Stars'].astype('str')"
   ]
  },
  {
   "cell_type": "code",
   "execution_count": 224,
   "id": "1afb6bfe",
   "metadata": {},
   "outputs": [],
   "source": [
    "new['star_len'] = new['Stars'].apply(len)"
   ]
  },
  {
   "cell_type": "code",
   "execution_count": 229,
   "id": "1223ad57",
   "metadata": {},
   "outputs": [],
   "source": [
    "new.loc[new.Stars[new['Stars'] == 'None'].index, 'Stars'] = np.nan"
   ]
  },
  {
   "cell_type": "code",
   "execution_count": 230,
   "id": "9bfa6706",
   "metadata": {},
   "outputs": [
    {
     "data": {
      "text/plain": [
       "0       Peri Baumeister, Carl Anton Koch, Alexander Sc...\n",
       "1       Chris Wood, Sarah Michelle Gellar, Lena Headey...\n",
       "2       Andrew Lincoln, Norman Reedus, Melissa McBride...\n",
       "3       Justin Roiland, Chris Parnell, Spencer Grammer...\n",
       "4       Matthias Schweighöfer, Nathalie Emmanuel, Ruby...\n",
       "                              ...                        \n",
       "9994    Morgan Taylor Campbell, Chris Cope, Iñaki Godo...\n",
       "9995                                                  NaN\n",
       "9996                                         Prince Harry\n",
       "9997    Morgan Taylor Campbell, Iñaki Godoy, Rhianna J...\n",
       "9998    Morgan Taylor Campbell, Jennifer Cheon Garcia,...\n",
       "Name: Stars, Length: 9999, dtype: object"
      ]
     },
     "execution_count": 230,
     "metadata": {},
     "output_type": "execute_result"
    }
   ],
   "source": [
    "new['Stars']"
   ]
  },
  {
   "cell_type": "code",
   "execution_count": 231,
   "id": "ccfbad4f",
   "metadata": {},
   "outputs": [
    {
     "data": {
      "text/plain": [
       "0             Peter Thorwarth\n",
       "1                         NaN\n",
       "2                         NaN\n",
       "3                         NaN\n",
       "4       Matthias Schweighöfer\n",
       "                ...          \n",
       "9994                      NaN\n",
       "9995                      NaN\n",
       "9996    Orlando von Einsiedel\n",
       "9997         Jovanka Vuckovic\n",
       "9998         Jovanka Vuckovic\n",
       "Name: Directors, Length: 9999, dtype: object"
      ]
     },
     "execution_count": 231,
     "metadata": {},
     "output_type": "execute_result"
    }
   ],
   "source": [
    "new['Directors']"
   ]
  },
  {
   "cell_type": "code",
   "execution_count": 232,
   "id": "c1a982c5",
   "metadata": {},
   "outputs": [
    {
     "data": {
      "text/html": [
       "<div>\n",
       "<style scoped>\n",
       "    .dataframe tbody tr th:only-of-type {\n",
       "        vertical-align: middle;\n",
       "    }\n",
       "\n",
       "    .dataframe tbody tr th {\n",
       "        vertical-align: top;\n",
       "    }\n",
       "\n",
       "    .dataframe thead th {\n",
       "        text-align: right;\n",
       "    }\n",
       "</style>\n",
       "<table border=\"1\" class=\"dataframe\">\n",
       "  <thead>\n",
       "    <tr style=\"text-align: right;\">\n",
       "      <th></th>\n",
       "      <th>MOVIES</th>\n",
       "      <th>YEAR</th>\n",
       "      <th>GENRE</th>\n",
       "      <th>RATING</th>\n",
       "      <th>ONE-LINE</th>\n",
       "      <th>STARS</th>\n",
       "      <th>VOTES</th>\n",
       "      <th>RunTime</th>\n",
       "      <th>Gross</th>\n",
       "    </tr>\n",
       "  </thead>\n",
       "  <tbody>\n",
       "    <tr>\n",
       "      <th>0</th>\n",
       "      <td>Blood Red Sky</td>\n",
       "      <td>2021</td>\n",
       "      <td>Action, Horror, Thriller</td>\n",
       "      <td>6.1</td>\n",
       "      <td>A woman with a mysterious illness is forced in...</td>\n",
       "      <td>Director:Peter Thorwarth|     Stars:Peri B...</td>\n",
       "      <td>21062</td>\n",
       "      <td>121.0</td>\n",
       "      <td>NaN</td>\n",
       "    </tr>\n",
       "  </tbody>\n",
       "</table>\n",
       "</div>"
      ],
      "text/plain": [
       "          MOVIES  YEAR                                 GENRE  RATING  \\\n",
       "0  Blood Red Sky  2021  Action, Horror, Thriller                 6.1   \n",
       "\n",
       "                                            ONE-LINE  \\\n",
       "0  A woman with a mysterious illness is forced in...   \n",
       "\n",
       "                                               STARS  VOTES RunTime  Gross  \n",
       "0      Director:Peter Thorwarth|     Stars:Peri B...  21062   121.0    NaN  "
      ]
     },
     "execution_count": 232,
     "metadata": {},
     "output_type": "execute_result"
    }
   ],
   "source": [
    "df.head(1)"
   ]
  },
  {
   "cell_type": "code",
   "execution_count": 234,
   "id": "1c231bc6",
   "metadata": {},
   "outputs": [],
   "source": [
    "df.drop('STARS', axis = 1, inplace = True)"
   ]
  },
  {
   "cell_type": "code",
   "execution_count": 235,
   "id": "2131e19c",
   "metadata": {},
   "outputs": [],
   "source": [
    "df['Stars'] = new['Stars']\n",
    "df['Directors'] = new['Directors']"
   ]
  },
  {
   "cell_type": "code",
   "execution_count": 236,
   "id": "6c5ab982",
   "metadata": {},
   "outputs": [
    {
     "data": {
      "text/html": [
       "<div>\n",
       "<style scoped>\n",
       "    .dataframe tbody tr th:only-of-type {\n",
       "        vertical-align: middle;\n",
       "    }\n",
       "\n",
       "    .dataframe tbody tr th {\n",
       "        vertical-align: top;\n",
       "    }\n",
       "\n",
       "    .dataframe thead th {\n",
       "        text-align: right;\n",
       "    }\n",
       "</style>\n",
       "<table border=\"1\" class=\"dataframe\">\n",
       "  <thead>\n",
       "    <tr style=\"text-align: right;\">\n",
       "      <th></th>\n",
       "      <th>MOVIES</th>\n",
       "      <th>YEAR</th>\n",
       "      <th>GENRE</th>\n",
       "      <th>RATING</th>\n",
       "      <th>ONE-LINE</th>\n",
       "      <th>VOTES</th>\n",
       "      <th>RunTime</th>\n",
       "      <th>Gross</th>\n",
       "      <th>Stars</th>\n",
       "      <th>Directors</th>\n",
       "    </tr>\n",
       "  </thead>\n",
       "  <tbody>\n",
       "    <tr>\n",
       "      <th>0</th>\n",
       "      <td>Blood Red Sky</td>\n",
       "      <td>2021</td>\n",
       "      <td>Action, Horror, Thriller</td>\n",
       "      <td>6.1</td>\n",
       "      <td>A woman with a mysterious illness is forced in...</td>\n",
       "      <td>21062</td>\n",
       "      <td>121.0</td>\n",
       "      <td>NaN</td>\n",
       "      <td>Peri Baumeister, Carl Anton Koch, Alexander Sc...</td>\n",
       "      <td>Peter Thorwarth</td>\n",
       "    </tr>\n",
       "    <tr>\n",
       "      <th>1</th>\n",
       "      <td>Masters of the Universe: Revelation</td>\n",
       "      <td>2021</td>\n",
       "      <td>Animation, Action, Adventure</td>\n",
       "      <td>5.0</td>\n",
       "      <td>The war for Eternia begins again in what may b...</td>\n",
       "      <td>17870</td>\n",
       "      <td>25.0</td>\n",
       "      <td>NaN</td>\n",
       "      <td>Chris Wood, Sarah Michelle Gellar, Lena Headey...</td>\n",
       "      <td>NaN</td>\n",
       "    </tr>\n",
       "    <tr>\n",
       "      <th>2</th>\n",
       "      <td>The Walking Dead</td>\n",
       "      <td>NaN</td>\n",
       "      <td>Drama, Horror, Thriller</td>\n",
       "      <td>8.2</td>\n",
       "      <td>Sheriff Deputy Rick Grimes wakes up from a com...</td>\n",
       "      <td>885805</td>\n",
       "      <td>44.0</td>\n",
       "      <td>NaN</td>\n",
       "      <td>Andrew Lincoln, Norman Reedus, Melissa McBride...</td>\n",
       "      <td>NaN</td>\n",
       "    </tr>\n",
       "    <tr>\n",
       "      <th>3</th>\n",
       "      <td>Rick and Morty</td>\n",
       "      <td>2013</td>\n",
       "      <td>Animation, Adventure, Comedy</td>\n",
       "      <td>9.2</td>\n",
       "      <td>An animated series that follows the exploits o...</td>\n",
       "      <td>414849</td>\n",
       "      <td>23.0</td>\n",
       "      <td>NaN</td>\n",
       "      <td>Justin Roiland, Chris Parnell, Spencer Grammer...</td>\n",
       "      <td>NaN</td>\n",
       "    </tr>\n",
       "    <tr>\n",
       "      <th>4</th>\n",
       "      <td>Army of Thieves</td>\n",
       "      <td>2021</td>\n",
       "      <td>Action, Crime, Horror</td>\n",
       "      <td>NaN</td>\n",
       "      <td>A prequel set before the events of Army of the...</td>\n",
       "      <td>nan</td>\n",
       "      <td>nan</td>\n",
       "      <td>NaN</td>\n",
       "      <td>Matthias Schweighöfer, Nathalie Emmanuel, Ruby...</td>\n",
       "      <td>Matthias Schweighöfer</td>\n",
       "    </tr>\n",
       "  </tbody>\n",
       "</table>\n",
       "</div>"
      ],
      "text/plain": [
       "                                MOVIES  YEAR  \\\n",
       "0                        Blood Red Sky  2021   \n",
       "1  Masters of the Universe: Revelation  2021   \n",
       "2                     The Walking Dead   NaN   \n",
       "3                       Rick and Morty  2013   \n",
       "4                      Army of Thieves  2021   \n",
       "\n",
       "                                      GENRE  RATING  \\\n",
       "0      Action, Horror, Thriller                 6.1   \n",
       "1  Animation, Action, Adventure                 5.0   \n",
       "2       Drama, Horror, Thriller                 8.2   \n",
       "3  Animation, Adventure, Comedy                 9.2   \n",
       "4         Action, Crime, Horror                 NaN   \n",
       "\n",
       "                                            ONE-LINE   VOTES RunTime  Gross  \\\n",
       "0  A woman with a mysterious illness is forced in...   21062   121.0    NaN   \n",
       "1  The war for Eternia begins again in what may b...   17870    25.0    NaN   \n",
       "2  Sheriff Deputy Rick Grimes wakes up from a com...  885805    44.0    NaN   \n",
       "3  An animated series that follows the exploits o...  414849    23.0    NaN   \n",
       "4  A prequel set before the events of Army of the...     nan     nan    NaN   \n",
       "\n",
       "                                               Stars              Directors  \n",
       "0  Peri Baumeister, Carl Anton Koch, Alexander Sc...        Peter Thorwarth  \n",
       "1  Chris Wood, Sarah Michelle Gellar, Lena Headey...                    NaN  \n",
       "2  Andrew Lincoln, Norman Reedus, Melissa McBride...                    NaN  \n",
       "3  Justin Roiland, Chris Parnell, Spencer Grammer...                    NaN  \n",
       "4  Matthias Schweighöfer, Nathalie Emmanuel, Ruby...  Matthias Schweighöfer  "
      ]
     },
     "execution_count": 236,
     "metadata": {},
     "output_type": "execute_result"
    }
   ],
   "source": [
    "df.head()"
   ]
  },
  {
   "cell_type": "code",
   "execution_count": 241,
   "id": "24f384d0",
   "metadata": {},
   "outputs": [],
   "source": [
    "df.loc[df.VOTES[df['VOTES'] == 'nan'].index, 'VOTES'] = np.nan"
   ]
  },
  {
   "cell_type": "code",
   "execution_count": 242,
   "id": "e5b094df",
   "metadata": {},
   "outputs": [],
   "source": [
    "df.loc[df.RunTime[df['RunTime'] == 'nan'].index, 'RunTime'] = np.nan"
   ]
  },
  {
   "cell_type": "code",
   "execution_count": 243,
   "id": "ab822b90",
   "metadata": {},
   "outputs": [
    {
     "data": {
      "text/html": [
       "<div>\n",
       "<style scoped>\n",
       "    .dataframe tbody tr th:only-of-type {\n",
       "        vertical-align: middle;\n",
       "    }\n",
       "\n",
       "    .dataframe tbody tr th {\n",
       "        vertical-align: top;\n",
       "    }\n",
       "\n",
       "    .dataframe thead th {\n",
       "        text-align: right;\n",
       "    }\n",
       "</style>\n",
       "<table border=\"1\" class=\"dataframe\">\n",
       "  <thead>\n",
       "    <tr style=\"text-align: right;\">\n",
       "      <th></th>\n",
       "      <th>MOVIES</th>\n",
       "      <th>YEAR</th>\n",
       "      <th>GENRE</th>\n",
       "      <th>RATING</th>\n",
       "      <th>ONE-LINE</th>\n",
       "      <th>VOTES</th>\n",
       "      <th>RunTime</th>\n",
       "      <th>Gross</th>\n",
       "      <th>Stars</th>\n",
       "      <th>Directors</th>\n",
       "    </tr>\n",
       "  </thead>\n",
       "  <tbody>\n",
       "    <tr>\n",
       "      <th>0</th>\n",
       "      <td>Blood Red Sky</td>\n",
       "      <td>2021</td>\n",
       "      <td>Action, Horror, Thriller</td>\n",
       "      <td>6.1</td>\n",
       "      <td>A woman with a mysterious illness is forced in...</td>\n",
       "      <td>21062</td>\n",
       "      <td>121.0</td>\n",
       "      <td>NaN</td>\n",
       "      <td>Peri Baumeister, Carl Anton Koch, Alexander Sc...</td>\n",
       "      <td>Peter Thorwarth</td>\n",
       "    </tr>\n",
       "    <tr>\n",
       "      <th>1</th>\n",
       "      <td>Masters of the Universe: Revelation</td>\n",
       "      <td>2021</td>\n",
       "      <td>Animation, Action, Adventure</td>\n",
       "      <td>5.0</td>\n",
       "      <td>The war for Eternia begins again in what may b...</td>\n",
       "      <td>17870</td>\n",
       "      <td>25.0</td>\n",
       "      <td>NaN</td>\n",
       "      <td>Chris Wood, Sarah Michelle Gellar, Lena Headey...</td>\n",
       "      <td>NaN</td>\n",
       "    </tr>\n",
       "    <tr>\n",
       "      <th>2</th>\n",
       "      <td>The Walking Dead</td>\n",
       "      <td>NaN</td>\n",
       "      <td>Drama, Horror, Thriller</td>\n",
       "      <td>8.2</td>\n",
       "      <td>Sheriff Deputy Rick Grimes wakes up from a com...</td>\n",
       "      <td>885805</td>\n",
       "      <td>44.0</td>\n",
       "      <td>NaN</td>\n",
       "      <td>Andrew Lincoln, Norman Reedus, Melissa McBride...</td>\n",
       "      <td>NaN</td>\n",
       "    </tr>\n",
       "    <tr>\n",
       "      <th>3</th>\n",
       "      <td>Rick and Morty</td>\n",
       "      <td>2013</td>\n",
       "      <td>Animation, Adventure, Comedy</td>\n",
       "      <td>9.2</td>\n",
       "      <td>An animated series that follows the exploits o...</td>\n",
       "      <td>414849</td>\n",
       "      <td>23.0</td>\n",
       "      <td>NaN</td>\n",
       "      <td>Justin Roiland, Chris Parnell, Spencer Grammer...</td>\n",
       "      <td>NaN</td>\n",
       "    </tr>\n",
       "    <tr>\n",
       "      <th>4</th>\n",
       "      <td>Army of Thieves</td>\n",
       "      <td>2021</td>\n",
       "      <td>Action, Crime, Horror</td>\n",
       "      <td>NaN</td>\n",
       "      <td>A prequel set before the events of Army of the...</td>\n",
       "      <td>NaN</td>\n",
       "      <td>NaN</td>\n",
       "      <td>NaN</td>\n",
       "      <td>Matthias Schweighöfer, Nathalie Emmanuel, Ruby...</td>\n",
       "      <td>Matthias Schweighöfer</td>\n",
       "    </tr>\n",
       "  </tbody>\n",
       "</table>\n",
       "</div>"
      ],
      "text/plain": [
       "                                MOVIES  YEAR  \\\n",
       "0                        Blood Red Sky  2021   \n",
       "1  Masters of the Universe: Revelation  2021   \n",
       "2                     The Walking Dead   NaN   \n",
       "3                       Rick and Morty  2013   \n",
       "4                      Army of Thieves  2021   \n",
       "\n",
       "                                      GENRE  RATING  \\\n",
       "0      Action, Horror, Thriller                 6.1   \n",
       "1  Animation, Action, Adventure                 5.0   \n",
       "2       Drama, Horror, Thriller                 8.2   \n",
       "3  Animation, Adventure, Comedy                 9.2   \n",
       "4         Action, Crime, Horror                 NaN   \n",
       "\n",
       "                                            ONE-LINE   VOTES RunTime  Gross  \\\n",
       "0  A woman with a mysterious illness is forced in...   21062   121.0    NaN   \n",
       "1  The war for Eternia begins again in what may b...   17870    25.0    NaN   \n",
       "2  Sheriff Deputy Rick Grimes wakes up from a com...  885805    44.0    NaN   \n",
       "3  An animated series that follows the exploits o...  414849    23.0    NaN   \n",
       "4  A prequel set before the events of Army of the...     NaN     NaN    NaN   \n",
       "\n",
       "                                               Stars              Directors  \n",
       "0  Peri Baumeister, Carl Anton Koch, Alexander Sc...        Peter Thorwarth  \n",
       "1  Chris Wood, Sarah Michelle Gellar, Lena Headey...                    NaN  \n",
       "2  Andrew Lincoln, Norman Reedus, Melissa McBride...                    NaN  \n",
       "3  Justin Roiland, Chris Parnell, Spencer Grammer...                    NaN  \n",
       "4  Matthias Schweighöfer, Nathalie Emmanuel, Ruby...  Matthias Schweighöfer  "
      ]
     },
     "execution_count": 243,
     "metadata": {},
     "output_type": "execute_result"
    }
   ],
   "source": [
    "df.head()"
   ]
  },
  {
   "cell_type": "code",
   "execution_count": 256,
   "id": "3be1f363",
   "metadata": {},
   "outputs": [],
   "source": [
    "df.rename(columns = {'MOVIES' : 'Name', 'YEAR':'Year','GENRE':'Genre','RATING' : 'Rating', 'ONE-LINE':'Description','VOTES': 'Votes',}, inplace = True)"
   ]
  },
  {
   "cell_type": "code",
   "execution_count": 257,
   "id": "47b8c9f5",
   "metadata": {},
   "outputs": [
    {
     "data": {
      "text/html": [
       "<div>\n",
       "<style scoped>\n",
       "    .dataframe tbody tr th:only-of-type {\n",
       "        vertical-align: middle;\n",
       "    }\n",
       "\n",
       "    .dataframe tbody tr th {\n",
       "        vertical-align: top;\n",
       "    }\n",
       "\n",
       "    .dataframe thead th {\n",
       "        text-align: right;\n",
       "    }\n",
       "</style>\n",
       "<table border=\"1\" class=\"dataframe\">\n",
       "  <thead>\n",
       "    <tr style=\"text-align: right;\">\n",
       "      <th></th>\n",
       "      <th>Name</th>\n",
       "      <th>Year</th>\n",
       "      <th>Genre</th>\n",
       "      <th>Rating</th>\n",
       "      <th>Description</th>\n",
       "      <th>Votes</th>\n",
       "      <th>RunTime</th>\n",
       "      <th>Gross</th>\n",
       "      <th>Stars</th>\n",
       "      <th>Directors</th>\n",
       "    </tr>\n",
       "  </thead>\n",
       "  <tbody>\n",
       "    <tr>\n",
       "      <th>0</th>\n",
       "      <td>Blood Red Sky</td>\n",
       "      <td>2021.0</td>\n",
       "      <td>Action, Horror, Thriller</td>\n",
       "      <td>6.1</td>\n",
       "      <td>A woman with a mysterious illness is forced in...</td>\n",
       "      <td>21062.0</td>\n",
       "      <td>121.0</td>\n",
       "      <td>NaN</td>\n",
       "      <td>Peri Baumeister, Carl Anton Koch, Alexander Sc...</td>\n",
       "      <td>Peter Thorwarth</td>\n",
       "    </tr>\n",
       "    <tr>\n",
       "      <th>1</th>\n",
       "      <td>Masters of the Universe: Revelation</td>\n",
       "      <td>2021.0</td>\n",
       "      <td>Animation, Action, Adventure</td>\n",
       "      <td>5.0</td>\n",
       "      <td>The war for Eternia begins again in what may b...</td>\n",
       "      <td>17870.0</td>\n",
       "      <td>25.0</td>\n",
       "      <td>NaN</td>\n",
       "      <td>Chris Wood, Sarah Michelle Gellar, Lena Headey...</td>\n",
       "      <td>NaN</td>\n",
       "    </tr>\n",
       "    <tr>\n",
       "      <th>2</th>\n",
       "      <td>The Walking Dead</td>\n",
       "      <td>NaN</td>\n",
       "      <td>Drama, Horror, Thriller</td>\n",
       "      <td>8.2</td>\n",
       "      <td>Sheriff Deputy Rick Grimes wakes up from a com...</td>\n",
       "      <td>885805.0</td>\n",
       "      <td>44.0</td>\n",
       "      <td>NaN</td>\n",
       "      <td>Andrew Lincoln, Norman Reedus, Melissa McBride...</td>\n",
       "      <td>NaN</td>\n",
       "    </tr>\n",
       "    <tr>\n",
       "      <th>3</th>\n",
       "      <td>Rick and Morty</td>\n",
       "      <td>2013.0</td>\n",
       "      <td>Animation, Adventure, Comedy</td>\n",
       "      <td>9.2</td>\n",
       "      <td>An animated series that follows the exploits o...</td>\n",
       "      <td>414849.0</td>\n",
       "      <td>23.0</td>\n",
       "      <td>NaN</td>\n",
       "      <td>Justin Roiland, Chris Parnell, Spencer Grammer...</td>\n",
       "      <td>NaN</td>\n",
       "    </tr>\n",
       "    <tr>\n",
       "      <th>4</th>\n",
       "      <td>Army of Thieves</td>\n",
       "      <td>2021.0</td>\n",
       "      <td>Action, Crime, Horror</td>\n",
       "      <td>NaN</td>\n",
       "      <td>A prequel set before the events of Army of the...</td>\n",
       "      <td>NaN</td>\n",
       "      <td>NaN</td>\n",
       "      <td>NaN</td>\n",
       "      <td>Matthias Schweighöfer, Nathalie Emmanuel, Ruby...</td>\n",
       "      <td>Matthias Schweighöfer</td>\n",
       "    </tr>\n",
       "  </tbody>\n",
       "</table>\n",
       "</div>"
      ],
      "text/plain": [
       "                                  Name    Year  \\\n",
       "0                        Blood Red Sky  2021.0   \n",
       "1  Masters of the Universe: Revelation  2021.0   \n",
       "2                     The Walking Dead     NaN   \n",
       "3                       Rick and Morty  2013.0   \n",
       "4                      Army of Thieves  2021.0   \n",
       "\n",
       "                                      Genre  Rating  \\\n",
       "0      Action, Horror, Thriller                 6.1   \n",
       "1  Animation, Action, Adventure                 5.0   \n",
       "2       Drama, Horror, Thriller                 8.2   \n",
       "3  Animation, Adventure, Comedy                 9.2   \n",
       "4         Action, Crime, Horror                 NaN   \n",
       "\n",
       "                                         Description     Votes  RunTime  \\\n",
       "0  A woman with a mysterious illness is forced in...   21062.0    121.0   \n",
       "1  The war for Eternia begins again in what may b...   17870.0     25.0   \n",
       "2  Sheriff Deputy Rick Grimes wakes up from a com...  885805.0     44.0   \n",
       "3  An animated series that follows the exploits o...  414849.0     23.0   \n",
       "4  A prequel set before the events of Army of the...       NaN      NaN   \n",
       "\n",
       "   Gross                                              Stars  \\\n",
       "0    NaN  Peri Baumeister, Carl Anton Koch, Alexander Sc...   \n",
       "1    NaN  Chris Wood, Sarah Michelle Gellar, Lena Headey...   \n",
       "2    NaN  Andrew Lincoln, Norman Reedus, Melissa McBride...   \n",
       "3    NaN  Justin Roiland, Chris Parnell, Spencer Grammer...   \n",
       "4    NaN  Matthias Schweighöfer, Nathalie Emmanuel, Ruby...   \n",
       "\n",
       "               Directors  \n",
       "0        Peter Thorwarth  \n",
       "1                    NaN  \n",
       "2                    NaN  \n",
       "3                    NaN  \n",
       "4  Matthias Schweighöfer  "
      ]
     },
     "execution_count": 257,
     "metadata": {},
     "output_type": "execute_result"
    }
   ],
   "source": [
    "df.head()"
   ]
  },
  {
   "cell_type": "code",
   "execution_count": 258,
   "id": "1dc47e13",
   "metadata": {
    "scrolled": true
   },
   "outputs": [
    {
     "name": "stdout",
     "output_type": "stream",
     "text": [
      "<class 'pandas.core.frame.DataFrame'>\n",
      "RangeIndex: 9999 entries, 0 to 9998\n",
      "Data columns (total 10 columns):\n",
      " #   Column       Non-Null Count  Dtype  \n",
      "---  ------       --------------  -----  \n",
      " 0   Name         9999 non-null   object \n",
      " 1   Year         7788 non-null   float64\n",
      " 2   Genre        9999 non-null   object \n",
      " 3   Rating       8179 non-null   float64\n",
      " 4   Description  8734 non-null   object \n",
      " 5   Votes        8179 non-null   float64\n",
      " 6   RunTime      7041 non-null   float64\n",
      " 7   Gross        460 non-null    float64\n",
      " 8   Stars        9206 non-null   object \n",
      " 9   Directors    6353 non-null   object \n",
      "dtypes: float64(5), object(5)\n",
      "memory usage: 781.3+ KB\n"
     ]
    }
   ],
   "source": [
    "df.info()"
   ]
  },
  {
   "cell_type": "code",
   "execution_count": 259,
   "id": "951fa553",
   "metadata": {
    "scrolled": true
   },
   "outputs": [
    {
     "name": "stdout",
     "output_type": "stream",
     "text": [
      "<class 'pandas.core.frame.DataFrame'>\n",
      "RangeIndex: 9999 entries, 0 to 9998\n",
      "Data columns (total 10 columns):\n",
      " #   Column       Non-Null Count  Dtype  \n",
      "---  ------       --------------  -----  \n",
      " 0   Name         9999 non-null   object \n",
      " 1   Year         7788 non-null   float64\n",
      " 2   Genre        9999 non-null   object \n",
      " 3   Rating       8179 non-null   float64\n",
      " 4   Description  8734 non-null   object \n",
      " 5   Votes        8179 non-null   float64\n",
      " 6   RunTime      7041 non-null   float64\n",
      " 7   Gross        460 non-null    float64\n",
      " 8   Stars        9206 non-null   object \n",
      " 9   Directors    6353 non-null   object \n",
      "dtypes: float64(5), object(5)\n",
      "memory usage: 781.3+ KB\n"
     ]
    }
   ],
   "source": [
    "df['Year'] = df['Year'].astype(float)\n",
    "df['Votes'] = df['Votes'].astype(float)\n",
    "df['RunTime'] = df['RunTime'].astype(float)\n",
    "df.info()"
   ]
  },
  {
   "cell_type": "code",
   "execution_count": 260,
   "id": "fb4053b9",
   "metadata": {},
   "outputs": [
    {
     "data": {
      "text/html": [
       "<div>\n",
       "<style scoped>\n",
       "    .dataframe tbody tr th:only-of-type {\n",
       "        vertical-align: middle;\n",
       "    }\n",
       "\n",
       "    .dataframe tbody tr th {\n",
       "        vertical-align: top;\n",
       "    }\n",
       "\n",
       "    .dataframe thead th {\n",
       "        text-align: right;\n",
       "    }\n",
       "</style>\n",
       "<table border=\"1\" class=\"dataframe\">\n",
       "  <thead>\n",
       "    <tr style=\"text-align: right;\">\n",
       "      <th></th>\n",
       "      <th>Name</th>\n",
       "      <th>Year</th>\n",
       "      <th>Genre</th>\n",
       "      <th>Rating</th>\n",
       "      <th>Description</th>\n",
       "      <th>Votes</th>\n",
       "      <th>RunTime</th>\n",
       "      <th>Gross</th>\n",
       "      <th>Stars</th>\n",
       "      <th>Directors</th>\n",
       "    </tr>\n",
       "  </thead>\n",
       "  <tbody>\n",
       "    <tr>\n",
       "      <th>0</th>\n",
       "      <td>Blood Red Sky</td>\n",
       "      <td>2021.0</td>\n",
       "      <td>Action, Horror, Thriller</td>\n",
       "      <td>6.1</td>\n",
       "      <td>A woman with a mysterious illness is forced in...</td>\n",
       "      <td>21062.0</td>\n",
       "      <td>121.0</td>\n",
       "      <td>NaN</td>\n",
       "      <td>Peri Baumeister, Carl Anton Koch, Alexander Sc...</td>\n",
       "      <td>Peter Thorwarth</td>\n",
       "    </tr>\n",
       "    <tr>\n",
       "      <th>1</th>\n",
       "      <td>Masters of the Universe: Revelation</td>\n",
       "      <td>2021.0</td>\n",
       "      <td>Animation, Action, Adventure</td>\n",
       "      <td>5.0</td>\n",
       "      <td>The war for Eternia begins again in what may b...</td>\n",
       "      <td>17870.0</td>\n",
       "      <td>25.0</td>\n",
       "      <td>NaN</td>\n",
       "      <td>Chris Wood, Sarah Michelle Gellar, Lena Headey...</td>\n",
       "      <td>NaN</td>\n",
       "    </tr>\n",
       "    <tr>\n",
       "      <th>2</th>\n",
       "      <td>The Walking Dead</td>\n",
       "      <td>NaN</td>\n",
       "      <td>Drama, Horror, Thriller</td>\n",
       "      <td>8.2</td>\n",
       "      <td>Sheriff Deputy Rick Grimes wakes up from a com...</td>\n",
       "      <td>885805.0</td>\n",
       "      <td>44.0</td>\n",
       "      <td>NaN</td>\n",
       "      <td>Andrew Lincoln, Norman Reedus, Melissa McBride...</td>\n",
       "      <td>NaN</td>\n",
       "    </tr>\n",
       "    <tr>\n",
       "      <th>3</th>\n",
       "      <td>Rick and Morty</td>\n",
       "      <td>2013.0</td>\n",
       "      <td>Animation, Adventure, Comedy</td>\n",
       "      <td>9.2</td>\n",
       "      <td>An animated series that follows the exploits o...</td>\n",
       "      <td>414849.0</td>\n",
       "      <td>23.0</td>\n",
       "      <td>NaN</td>\n",
       "      <td>Justin Roiland, Chris Parnell, Spencer Grammer...</td>\n",
       "      <td>NaN</td>\n",
       "    </tr>\n",
       "    <tr>\n",
       "      <th>4</th>\n",
       "      <td>Army of Thieves</td>\n",
       "      <td>2021.0</td>\n",
       "      <td>Action, Crime, Horror</td>\n",
       "      <td>NaN</td>\n",
       "      <td>A prequel set before the events of Army of the...</td>\n",
       "      <td>NaN</td>\n",
       "      <td>NaN</td>\n",
       "      <td>NaN</td>\n",
       "      <td>Matthias Schweighöfer, Nathalie Emmanuel, Ruby...</td>\n",
       "      <td>Matthias Schweighöfer</td>\n",
       "    </tr>\n",
       "  </tbody>\n",
       "</table>\n",
       "</div>"
      ],
      "text/plain": [
       "                                  Name    Year  \\\n",
       "0                        Blood Red Sky  2021.0   \n",
       "1  Masters of the Universe: Revelation  2021.0   \n",
       "2                     The Walking Dead     NaN   \n",
       "3                       Rick and Morty  2013.0   \n",
       "4                      Army of Thieves  2021.0   \n",
       "\n",
       "                                      Genre  Rating  \\\n",
       "0      Action, Horror, Thriller                 6.1   \n",
       "1  Animation, Action, Adventure                 5.0   \n",
       "2       Drama, Horror, Thriller                 8.2   \n",
       "3  Animation, Adventure, Comedy                 9.2   \n",
       "4         Action, Crime, Horror                 NaN   \n",
       "\n",
       "                                         Description     Votes  RunTime  \\\n",
       "0  A woman with a mysterious illness is forced in...   21062.0    121.0   \n",
       "1  The war for Eternia begins again in what may b...   17870.0     25.0   \n",
       "2  Sheriff Deputy Rick Grimes wakes up from a com...  885805.0     44.0   \n",
       "3  An animated series that follows the exploits o...  414849.0     23.0   \n",
       "4  A prequel set before the events of Army of the...       NaN      NaN   \n",
       "\n",
       "   Gross                                              Stars  \\\n",
       "0    NaN  Peri Baumeister, Carl Anton Koch, Alexander Sc...   \n",
       "1    NaN  Chris Wood, Sarah Michelle Gellar, Lena Headey...   \n",
       "2    NaN  Andrew Lincoln, Norman Reedus, Melissa McBride...   \n",
       "3    NaN  Justin Roiland, Chris Parnell, Spencer Grammer...   \n",
       "4    NaN  Matthias Schweighöfer, Nathalie Emmanuel, Ruby...   \n",
       "\n",
       "               Directors  \n",
       "0        Peter Thorwarth  \n",
       "1                    NaN  \n",
       "2                    NaN  \n",
       "3                    NaN  \n",
       "4  Matthias Schweighöfer  "
      ]
     },
     "execution_count": 260,
     "metadata": {},
     "output_type": "execute_result"
    }
   ],
   "source": [
    "df.head()"
   ]
  },
  {
   "cell_type": "code",
   "execution_count": null,
   "id": "94af5a9e",
   "metadata": {},
   "outputs": [],
   "source": [
    "- Analyze distribution of movies/shows over different years and genres.\n",
    "- Investigate correlations between ratings, votes, and gross earnings.\n",
    "- Examine the impact of runtime on ratings and earnings.\n",
    "- Identify top-rated movies/shows and highest-grossing entries."
   ]
  },
  {
   "cell_type": "code",
   "execution_count": 261,
   "id": "917da8c1",
   "metadata": {},
   "outputs": [],
   "source": [
    "import matplotlib.pyplot as plt\n",
    "import seaborn as sns\n",
    "%matplotlib inline"
   ]
  },
  {
   "cell_type": "markdown",
   "id": "73d7b7ae",
   "metadata": {},
   "source": [
    "**To be continued**"
   ]
  },
  {
   "cell_type": "code",
   "execution_count": null,
   "id": "59c589bf",
   "metadata": {},
   "outputs": [],
   "source": []
  }
 ],
 "metadata": {
  "kernelspec": {
   "display_name": "Python 3 (ipykernel)",
   "language": "python",
   "name": "python3"
  },
  "language_info": {
   "codemirror_mode": {
    "name": "ipython",
    "version": 3
   },
   "file_extension": ".py",
   "mimetype": "text/x-python",
   "name": "python",
   "nbconvert_exporter": "python",
   "pygments_lexer": "ipython3",
   "version": "3.11.3"
  }
 },
 "nbformat": 4,
 "nbformat_minor": 5
}
